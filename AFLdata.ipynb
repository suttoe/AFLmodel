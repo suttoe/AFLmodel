{
 "cells": [
  {
   "cell_type": "markdown",
   "id": "dfa97b45-dd79-4fa8-8257-dcb03674256b",
   "metadata": {},
   "source": [
    "# AFL Modelling\n",
    "Predicting the winner of games, with the probability of winning and the margin of win. <br>\n",
    "Using data from 2015 till 2023 with 2023 to be used as testing data."
   ]
  },
  {
   "cell_type": "code",
   "execution_count": 47,
   "id": "29a36529-7773-4c27-ad6b-c46dd3aa3662",
   "metadata": {},
   "outputs": [],
   "source": [
    "#import packages\n",
    "import polars as pl\n",
    "import numpy as np\n",
    "pl.Config.set_fmt_str_lengths(150);\n",
    "pl.Config.set_tbl_rows(1000);"
   ]
  },
  {
   "cell_type": "code",
   "execution_count": 165,
   "id": "b7f6d8d4-2254-4ef9-8a08-c7b9990a80c7",
   "metadata": {},
   "outputs": [
    {
     "name": "stdout",
     "output_type": "stream",
     "text": [
      "The rpy2.ipython extension is already loaded. To reload it, use:\n",
      "  %reload_ext rpy2.ipython\n"
     ]
    }
   ],
   "source": [
    "#set up R extension\n",
    "%load_ext rpy2.ipython"
   ]
  },
  {
   "cell_type": "markdown",
   "id": "7f640a37-f3c1-4acb-a193-700dfbed3e88",
   "metadata": {},
   "source": [
    "Get the fixtures from 2015-2023, taking into account the bye infomation 2019 onwards. "
   ]
  },
  {
   "cell_type": "code",
   "execution_count": 166,
   "id": "c7c0c7d5-b17a-45c5-8a41-964d71b8054c",
   "metadata": {
    "tags": []
   },
   "outputs": [
    {
     "name": "stdout",
     "output_type": "stream",
     "text": [
      "v Returning data for \"All Rounds, 2015\" ... done\n",
      "v Returning data for \"All Rounds, 2016\" ... done\n",
      "v Returning data for \"All Rounds, 2017\" ... done\n",
      "v Returning data for \"All Rounds, 2018\" ... done\n",
      "v Returning data for \"All Rounds, 2019\" ... done\n",
      "v Returning data for \"All Rounds, 2020\" ... done\n",
      "v Returning data for \"All Rounds, 2021\" ... done\n",
      "v Returning data for \"All Rounds, 2022\" ... done\n",
      "v Returning data for \"All Rounds, 2023\" ... done\n"
     ]
    }
   ],
   "source": [
    "%%R -o seasons,seasonBye\n",
    "library('fitzRoy')\n",
    "library('dplyr')\n",
    "library('tidyr')\n",
    "\n",
    "seasonList <- c(2015, 2016, 2017, 2018, 2019, 2020, 2021, 2022, 2023)\n",
    "first <- TRUE\n",
    "for(s in seasonList) {\n",
    "    \n",
    "    df <- fetch_fixture(season = s, comp = \"AFLM\")\n",
    "\n",
    "    if (first) {\n",
    "        seasons <- df\n",
    "        first <- FALSE\n",
    "    }else{\n",
    "        seasons <- seasons %>% \n",
    "                      bind_rows(df)\n",
    "    }\n",
    "    \n",
    "}\n",
    "\n",
    "seasonBye <- seasons %>% \n",
    "                select(compSeason.id, compSeason.year, round.roundNumber, round.byes) %>%\n",
    "                filter(compSeason.year >= 2019) %>%\n",
    "                unnest(round.byes) %>%\n",
    "                distinct() %>%\n",
    "                mutate(round.nextRound = round.roundNumber + 1,\n",
    "                      ByeFlag = 1) %>%\n",
    "                select(compSeason.id, round.nextRound, club.id, club.name, ByeFlag)\n",
    "\n",
    "seasons <- seasons %>% select(-round.byes)\n",
    "    "
   ]
  },
  {
   "cell_type": "markdown",
   "id": "a8caffde-c4d3-471d-8014-e7d6729105e7",
   "metadata": {},
   "source": [
    "Assign -1 as the winner id for a draw, since 2015 there have been 15 draws. We also have a cancelled game, Cats vs. Crows 2015 R14 which we are just going to remove."
   ]
  },
  {
   "cell_type": "code",
   "execution_count": 4,
   "id": "6db12739-e1fa-4f33-aff0-c882f0b1aefb",
   "metadata": {},
   "outputs": [],
   "source": [
    "#Clean and prep the season bye info\n",
    "seasonBye = pl.from_pandas(seasonBye).drop('club.name').with_columns(pl.col('round.nextRound').cast(pl.Int32))"
   ]
  },
  {
   "cell_type": "code",
   "execution_count": 5,
   "id": "02600baa-f9c5-465a-bbff-a2929d60ba8d",
   "metadata": {},
   "outputs": [],
   "source": [
    "#The inital cleaning working with the gneral match details. We can use this as our base for creating the desired attributes\n",
    "seasonsBase = (pl.from_pandas(seasons)\n",
    "                .sort('round.id')\n",
    "                #Keep only the columns we want\n",
    "                .select('id', 'status', 'compSeason.id', 'compSeason.year', 'round.roundNumber', 'home.team.club.id', 'home.team.name',\n",
    "                        'away.team.club.id', 'away.team.name', 'home.score.goals', 'home.score.behinds', 'home.score.totalScore',\n",
    "                        'away.score.goals', 'away.score.behinds', 'away.score.totalScore', 'venue.id', 'venue.name', 'venue.state')\n",
    "                #Label the id winner (-1 for a draw)\n",
    "                .with_columns(pl.when(pl.col('home.score.totalScore') > pl.col('away.score.totalScore')).then(pl.col('home.team.club.id'))\n",
    "                                .when(pl.col('home.score.totalScore') < pl.col('away.score.totalScore')).then(pl.col('away.team.club.id'))\n",
    "                                .otherwise(pl.lit(-1)).alias('winner'))\n",
    "                #Remove the Crows vs. Cats 2015 R14 game which was cancelled\n",
    "                .filter(pl.col('id') != 847)\n",
    "                #Label Previous comp year\n",
    "                .with_columns((pl.col('compSeason.year') - 1).alias('prevComp.year'))\n",
    "                #Label in sequential order (currently missing numbers in existing round.id) to get the previous games \n",
    "     .join((pl.from_pandas(seasons)\n",
    "                .select('compSeason.year', 'round.roundNumber')\n",
    "                .unique()\n",
    "                .sort('compSeason.year', 'round.roundNumber')\n",
    "                .with_columns(pl.col('round.roundNumber').cum_count().alias('round.id'))), how='left', on=['compSeason.year', 'round.roundNumber'])\n",
    "     #create the margin\n",
    "     .with_columns((pl.col('home.score.totalScore') - pl.col('away.score.totalScore')).abs().alias('win.margin'))   \n",
    "     #Add a bye flag\n",
    "     .join(seasonBye, how='left', left_on=['compSeason.id', 'round.roundNumber', 'home.team.club.id'], right_on=['compSeason.id', 'round.nextRound', 'club.id'])\n",
    "     .join(seasonBye, how='left', left_on=['compSeason.id', 'round.roundNumber', 'away.team.club.id'], right_on=['compSeason.id', 'round.nextRound', 'club.id'])\n",
    "     #Rename bye flag\n",
    "     .rename({'ByeFlag' : 'home.bye.flag',\n",
    "              'ByeFlag_right' : 'away.bye.flag'})\n",
    "     #Fill in bye flag nulls\n",
    "     .with_columns(pl.col('home.bye.flag').fill_null(0).cast(pl.Int32),\n",
    "                   pl.col('away.bye.flag').fill_null(0).cast(pl.Int32))\n",
    "    #Fill venue blank states with china (1 is not china but NZ but is in 2015 so we wont worry about that)\n",
    "    .with_columns(pl.col('venue.state').fill_null('China'))\n",
    "    \n",
    ")"
   ]
  },
  {
   "cell_type": "code",
   "execution_count": 6,
   "id": "f2a04b36-e9d4-4b1d-b5de-2b2f2c93031b",
   "metadata": {
    "scrolled": true,
    "tags": []
   },
   "outputs": [],
   "source": [
    "#Create a dataframe with all the match details (repeated so that boths teams get to be team A and team B)\n",
    "allMatchesBothSides = (seasonsBase\n",
    "     .select('compSeason.year', 'round.roundNumber', 'round.id', 'home.team.club.id', 'home.team.name', 'home.score.totalScore',\n",
    "             'home.score.goals', 'home.score.behinds', 'away.team.club.id', 'away.team.name', 'away.score.totalScore', 'away.score.goals', 'away.score.behinds')\n",
    "     .rename({'home.team.name': 'team.A.name',\n",
    "              'home.team.club.id' : 'team.A.club.id',\n",
    "              'home.score.totalScore' : 'team.A.score.totalScore',\n",
    "              'home.score.goals' : 'team.A.score.goals',\n",
    "              'home.score.behinds' : 'team.A.score.behinds',\n",
    "              'away.team.name': 'team.B.name',\n",
    "              'away.team.club.id' : 'team.B.club.id',\n",
    "              'away.score.totalScore' : 'team.B.score.totalScore',\n",
    "              'away.score.goals' : 'team.B.score.goals',\n",
    "              'away.score.behinds' : 'team.B.score.behinds'})\n",
    "     .vstack(seasonsBase\n",
    "     .select('compSeason.year', 'round.roundNumber', 'round.id', 'away.team.club.id', 'away.team.name', 'away.score.totalScore',\n",
    "             'away.score.goals', 'away.score.behinds', 'home.team.club.id', 'home.team.name', 'home.score.totalScore', 'home.score.goals', 'home.score.behinds')\n",
    "     .rename({'home.team.name': 'team.B.name',\n",
    "              'home.team.club.id' : 'team.B.club.id',\n",
    "              'home.score.totalScore' : 'team.B.score.totalScore',\n",
    "              'home.score.goals' : 'team.B.score.goals',\n",
    "              'home.score.behinds' : 'team.B.score.behinds',\n",
    "              'away.team.name': 'team.A.name',\n",
    "              'away.team.club.id' : 'team.A.club.id',\n",
    "              'away.score.totalScore' : 'team.A.score.totalScore',\n",
    "              'away.score.goals' : 'team.A.score.goals',\n",
    "              'away.score.behinds' : 'team.A.score.behinds'}))\n",
    "     .sort('team.A.club.id', 'round.id')\n",
    ")"
   ]
  },
  {
   "cell_type": "markdown",
   "id": "f46a1304-d5a6-4b58-a9d3-a5d7add72ef9",
   "metadata": {},
   "source": [
    "## Get the ladder poistions at beginning round and last seasons final ladder position."
   ]
  },
  {
   "cell_type": "code",
   "execution_count": 7,
   "id": "7390bad0-8c5f-432f-b209-fa153f3466d3",
   "metadata": {},
   "outputs": [],
   "source": [
    "%%R -o ladder\n",
    "\n",
    "season <- c(2015,2016,2017,2018,2019,2020,2021, 2022, 2023)\n",
    "rounds <- c(1,2,3,4,5,6,7,8,9,10,11,12,13,14,15,16,17,18,19,20,21,22,23)\n",
    "first <- TRUE\n",
    "\n",
    "for(s in season){\n",
    "    for(r in rounds){\n",
    "\n",
    "        if(s==2020 && r <= 18){\n",
    "            df <- fetch_ladder_afl(season=s, round_number=r)\n",
    "        }else if(s!=2020){\n",
    "            df <- fetch_ladder_afl(season=s, round_number=r)\n",
    "        }\n",
    "\n",
    "        if(first){\n",
    "            ladder <- df\n",
    "            first <- FALSE\n",
    "        }else{\n",
    "            ladder <- ladder %>% bind_rows(df)\n",
    "        }\n",
    "    }\n",
    "\n",
    "    if(s== 2023){\n",
    "        ladder <- ladder %>% bind_rows(fetch_ladder_afl(season=s, round_number=24))\n",
    "    }\n",
    "}\n",
    "\n",
    "ladder = ladder %>% select(season, round_number, position, team.club.id, team.club.name)\n",
    "        "
   ]
  },
  {
   "cell_type": "code",
   "execution_count": 8,
   "id": "c6d231f6-568a-4e8e-9497-620773915d26",
   "metadata": {},
   "outputs": [],
   "source": [
    "ladderNormal = (pl.from_pandas(ladder)\n",
    "     .with_columns((pl.col('round_number') + 1).alias('nextRound'))\n",
    "     .drop('team.club.name', 'round_number')\n",
    "                  )"
   ]
  },
  {
   "cell_type": "code",
   "execution_count": 9,
   "id": "524c5424-3f8f-416d-8b21-05aa33f00aad",
   "metadata": {},
   "outputs": [],
   "source": [
    "#get the final ladder of each season\n",
    "ladderFinal = (pl.from_pandas(ladder)\n",
    "                   #Get the final ladder at the end of the season\n",
    "                   .filter(pl.col('round_number') == pl.col('round_number').max().over('season'))\n",
    "                   #get the next season (for assigning to the nest round 1)\n",
    "                   .with_columns((pl.col('season') + 1).alias('Nextseason'),\n",
    "                                 pl.lit(1).alias('first_round'))\n",
    "              )"
   ]
  },
  {
   "cell_type": "code",
   "execution_count": 10,
   "id": "f08c9693-e9a8-4522-8688-667610373320",
   "metadata": {
    "tags": []
   },
   "outputs": [],
   "source": [
    "#Add home and away ladder positions before \n",
    "ladderPosition = (seasonsBase\n",
    "     .select('compSeason.year', 'round.roundNumber')\n",
    "     .unique()\n",
    "     .sort('compSeason.year', 'round.roundNumber')\n",
    "     #from round 2 till finals\n",
    "     .join(ladderNormal, how='left', left_on=['compSeason.year', 'round.roundNumber'], right_on=['season', 'nextRound'])\n",
    "     #for round 1 the final ladder of previous season\n",
    "     .join(ladderFinal.drop('season', 'round_number'), how='left', left_on=['compSeason.year', 'round.roundNumber'], right_on=['Nextseason', 'first_round'])\n",
    "     .rename({'position_right' : 'position1',\n",
    "              'team.club.id_right' : 'team.club.id1'})\n",
    "     #for the finals\n",
    "     .join(ladderFinal.drop('PrevSeason'), how='left', left_on='compSeason.year', right_on='season')\n",
    "     #put all the parts together\n",
    "     .with_columns(pl.when(~pl.col('position').is_null()).then(pl.col('position'))\n",
    "                     .when(~pl.col('position1').is_null()).then(pl.col('position1')).otherwise(pl.col('position_right')).alias('position'),\n",
    "                   pl.when(~pl.col('team.club.id').is_null()).then(pl.col('team.club.id'))\n",
    "                     .when(~pl.col('team.club.id1').is_null()).then(pl.col('team.club.id1')).otherwise(pl.col('team.club.id_right')).alias('team.club.id'))\n",
    "     #select only what we want\n",
    "     .select('compSeason.year', 'round.roundNumber', 'team.club.id', 'position')\n",
    "     .unique()\n",
    "     .sort('compSeason.year', 'round.roundNumber', 'position')\n",
    "     #get the fianl positioning of the previous year\n",
    "     .join(ladderFinal.drop('season', 'round_number', 'first_round', 'team.club.name'), how='left', left_on=['compSeason.year', 'team.club.id'], right_on=['Nextseason', 'team.club.id'])\n",
    "     .rename({'position_right': 'last.season.position'})\n",
    "                           \n",
    ")           "
   ]
  },
  {
   "cell_type": "code",
   "execution_count": 11,
   "id": "fff32578-1da4-446b-8e26-352b1c495d9a",
   "metadata": {
    "scrolled": true,
    "tags": []
   },
   "outputs": [],
   "source": [
    "seasonsStep2 = (seasonsBase\n",
    "                 #join the ladderPosition to get the home teams ladder info\n",
    "                 .join(ladderPosition.rename({'position':'home.ladder.position', 'last.season.position': 'home.last.season.position'}),\n",
    "                       how='left',\n",
    "                       left_on=['compSeason.year', 'round.roundNumber', 'home.team.club.id'],\n",
    "                       right_on=['compSeason.year', 'round.roundNumber', 'team.club.id'])\n",
    "                 #Clean up any duplicates\n",
    "                 .unique()\n",
    "                 #join the ladderPosition to get the away teams ladder info\n",
    "                 .join(ladderPosition.rename({'position':'away.ladder.position', 'last.season.position': 'away.last.season.position'}),\n",
    "                       how='left',\n",
    "                       left_on=['compSeason.year', 'round.roundNumber', 'away.team.club.id'],\n",
    "                       right_on=['compSeason.year', 'round.roundNumber', 'team.club.id'])\n",
    "                 #clean up any duplicates\n",
    "                 .unique()\n",
    "                 #sort into order\n",
    "                 .sort('compSeason.year', 'round.roundNumber')\n",
    "     \n",
    "                )"
   ]
  },
  {
   "cell_type": "markdown",
   "id": "65a19d70-f8a7-4f52-b26a-255d5c37eddf",
   "metadata": {},
   "source": [
    "## Get the distance travelled"
   ]
  },
  {
   "cell_type": "code",
   "execution_count": 12,
   "id": "32dd80ff-c2f5-4269-a189-5a1837f00801",
   "metadata": {},
   "outputs": [],
   "source": [
    "#Create a table for distance between states and where the team is based (based on capital to capital)\n",
    "vic = pl.Series([0, 654, 714, 2727, 1373, 0, 0, 1373, 0, 0, 0, 654, 0, 0, 0, 2727, 714, 0])\n",
    "nsw = pl.Series([714, 1165, 0, 3297, 730, 714, 714, 730, 714, 714, 714, 1165, 714, 714, 714, 3297, 0, 714])\n",
    "qld = pl.Series([1373, 1602, 730, 3613, 0, 1373, 1373, 0, 1373, 1373, 1373, 1602, 1373, 1373, 1373, 3613, 730, 1373])\n",
    "nt = pl.Series([3140, 2609, 3144, 2647, 2846, 3140, 3140, 2846, 3140, 3140, 3140, 2609, 3140, 3140, 3140, 2647, 3144, 3140])\n",
    "wa = pl.Series([2727, 2135, 3297, 0, 3613, 2727, 2727, 3613, 2727,2727, 2727, 2135, 2727, 2727, 2727, 0, 3297, 2727])\n",
    "sa = pl.Series([654, 0, 1165, 2135, 1602, 654, 654, 1602, 654, 654, 654, 0, 654, 654, 654, 2135, 1165, 654])\n",
    "tas = pl.Series([597, 1161, 1056, 3015, 1786, 597, 597, 1786, 597, 597, 597, 1161, 597, 597, 597, 3015, 1161, 597])\n",
    "act = pl.Series([467, 960, 942, 3095, 942, 467, 467, 247, 467, 467, 467, 960, 467, 467, 467, 3095, 247, 467])\n",
    "china = pl.Series([8036, 6956, 7592, 7050, 6225, 8036, 8036, 6225, 8036, 8036, 8036, 6956, 8036, 8036, 8036, 7050, 7592, 8036])\n",
    "distanceTravelled = (seasonsBase\n",
    "                         .select('home.team.name', 'home.team.club.id').unique()\n",
    "                         .sort('home.team.club.id')\n",
    "                         .with_columns(vic.alias('VIC'),\n",
    "                                       nsw.alias('NSW'),\n",
    "                                       qld.alias('QLD'),\n",
    "                                       nt.alias('NT'),\n",
    "                                       wa.alias('WA'),\n",
    "                                       sa.alias('SA'),\n",
    "                                       tas.alias('TAS'),\n",
    "                                       act.alias('ACT'),\n",
    "                                       china.alias('China'))\n",
    "                         .rename({'home.team.club.id' : 'team.club.id'})\n",
    "                         .drop('home.team.name')\n",
    "                         .melt(id_vars='team.club.id', variable_name='State', value_name='Distance')\n",
    "                        )"
   ]
  },
  {
   "cell_type": "code",
   "execution_count": 13,
   "id": "9a1dddb7-115a-4067-918c-5dbb8014072f",
   "metadata": {},
   "outputs": [],
   "source": [
    "seasonStep3 = (seasonsStep2\n",
    "                 #Home team distance travelled to venue\n",
    "                 .join(distanceTravelled.rename({'Distance' : 'home.distance'}), how='left', left_on=['home.team.club.id', 'venue.state'], right_on=['team.club.id', 'State'])\n",
    "                 #Away team distance travelled to venue\n",
    "                 .join(distanceTravelled.rename({'Distance' : 'away.distance'}), how='left', left_on=['away.team.club.id', 'venue.state'], right_on=['team.club.id', 'State'])\n",
    "                )"
   ]
  },
  {
   "cell_type": "markdown",
   "id": "db5e4fea-8ca1-43c9-9e93-8bf0e25a03b8",
   "metadata": {},
   "source": [
    "## Team ELO Rating"
   ]
  },
  {
   "cell_type": "code",
   "execution_count": 14,
   "id": "9f855f8f-3550-40bb-b52b-020f1c68c04f",
   "metadata": {},
   "outputs": [],
   "source": [
    "#Create a link between teams club id and the elo index 0-17 \n",
    "eloIndexTeams = allMatchesBothSides.select('team.A.name', 'team.A.club.id').unique().sort('team.A.club.id').with_columns((pl.col('team.A.club.id').cum_count() - 1).alias('EloIndex'))"
   ]
  },
  {
   "cell_type": "code",
   "execution_count": 15,
   "id": "dd1c74b0-e2dc-4de7-88e3-308320278cd6",
   "metadata": {},
   "outputs": [],
   "source": [
    "#create a function to find a teams prediction\n",
    "def eloTeamPrediction(ratingTeamA, ratingTeamB):\n",
    "    exp = (-1*(ratingTeamA - ratingTeamB))/400\n",
    "    b = 1 + 10 ** exp\n",
    "    result = 1/b\n",
    "    return result"
   ]
  },
  {
   "cell_type": "code",
   "execution_count": 16,
   "id": "d4683431-c9fe-45fb-a681-8a9271cda9b9",
   "metadata": {},
   "outputs": [],
   "source": [
    "#create a function to find the teams result, inital B = 0.004 per Multifactorial analysis of factors influencing elite australian football match outcomes: a machine learning approach\n",
    "def eloTeamResult(scoreTeamA, scoreTeamB):\n",
    "    exp = -0.04*(scoreTeamA - scoreTeamB)\n",
    "    b = 1 + np.exp(exp)\n",
    "    result = 1/b\n",
    "    return result"
   ]
  },
  {
   "cell_type": "code",
   "execution_count": 17,
   "id": "eef01980-8869-4c41-8300-e0c01509b3dc",
   "metadata": {},
   "outputs": [],
   "source": [
    "#Create a function to get change in teams elo, set K=67.559 per Multifactorial analysis of factors influencing elite australian football match outcomes: a machine learning approach\n",
    "def eloChange(ratingTeamA, ratingTeamB, scoreTeamA, scoreTeamB):\n",
    "    #get Team prediction\n",
    "    prediction = eloTeamPrediction(ratingTeamA, ratingTeamB)\n",
    "    \n",
    "    #get actual result\n",
    "    actual = eloTeamResult(scoreTeamA , scoreTeamB)\n",
    "    \n",
    "    #get elo change\n",
    "    result = 20*(actual - prediction)\n",
    "    \n",
    "    #get new elo\n",
    "    newElo = ratingTeamA + result\n",
    "    \n",
    "    return newElo"
   ]
  },
  {
   "cell_type": "code",
   "execution_count": 18,
   "id": "48b0a44a-ef96-48aa-b390-da70c5870580",
   "metadata": {},
   "outputs": [],
   "source": [
    "#Create a function to get the elo for the start of the season, set Carry over at 0.70628 per Multifactorial analysis of factors influencing elite australian football match outcomes: a machine learning approach\n",
    "def eloNewSeason(lastElo):\n",
    "    carryOver = 0.80\n",
    "    result = carryOver * lastElo + 1500 * (1 - carryOver)\n",
    "    return result"
   ]
  },
  {
   "cell_type": "code",
   "execution_count": 19,
   "id": "a3479419-ee93-4333-88f9-ce603c43287e",
   "metadata": {},
   "outputs": [],
   "source": [
    "#Function to rule them all! assign elo values\n",
    "def eloFucntions(roundNumber, teamAScore, teamBScore, prevEloA, prevEloB):\n",
    "    #If first round of the season get the carry over elo value\n",
    "    if roundNumber == 1:\n",
    "        elo = eloNewSeason(prevEloA)\n",
    "    #If normal round then find new score\n",
    "    else:\n",
    "        elo = eloChange(prevEloA, prevEloB, teamAScore, teamBScore)\n",
    "    #return current elo \n",
    "    return elo   \n",
    "   \n",
    "    "
   ]
  },
  {
   "cell_type": "code",
   "execution_count": 20,
   "id": "7da2e004-92f7-47b6-93d1-bc111868f7fa",
   "metadata": {},
   "outputs": [],
   "source": [
    "#Elo list of lists to record elo's and access past elo values, with index = elo index translation found in eloIndexTeams table\n",
    "#Starting elo as default 1500\n",
    "eloScores = [[1500] * 18]\n",
    "#starting roundIndex "
   ]
  },
  {
   "cell_type": "code",
   "execution_count": 21,
   "id": "3f5e60d8-cac7-49b9-aac5-09ad6fc00466",
   "metadata": {},
   "outputs": [],
   "source": [
    "def eloNumber(roundId, roundNumber, clubA, clubB, roundIdA, roundIdB, indexA, indexB):\n",
    "    #set roundId for indexing\n",
    "    roundId = roundId - 1\n",
    "    #create default elo\n",
    "    elo=1500.0\n",
    "    #Check if new round by checking a new list has been added for the round\n",
    "    if roundId >= np.shape(eloScores)[0]:\n",
    "        #Append new list for new round\n",
    "        eloScores.append(eloScores[roundId - 1])\n",
    "        \n",
    "    #Deal with very first round we consider, simply create base for next round\n",
    "    if roundId == 0:\n",
    "        elo = 1500.0\n",
    "    #For all other rounds get the elo\n",
    "    else: \n",
    "        \n",
    "        #Get the new elo score\n",
    "        elo = eloFucntions(roundNumber, teamScores[clubA][roundIdA-1], teamScores[clubB][roundIdB-1], eloScores[roundId-1][indexA], eloScores[roundId-1][indexB])\n",
    "        #Change list of list to reflect the new score\n",
    "        eloScores[roundId][indexA] = elo\n",
    "        \n",
    "\n",
    "    #Return Elo\n",
    "    return elo\n",
    "        "
   ]
  },
  {
   "cell_type": "code",
   "execution_count": 22,
   "id": "84a77ed2-46c9-46f2-821d-32657fdbcfca",
   "metadata": {},
   "outputs": [],
   "source": [
    "teamScores = dict(allMatchesBothSides.drop('team.B.club.id', 'team.B.name', 'team.B.score.totalScore').group_by('team.A.club.id').agg(pl.col('team.A.score.totalScore')).to_numpy())"
   ]
  },
  {
   "cell_type": "code",
   "execution_count": 23,
   "id": "70ee2621-2c69-4f95-87b3-ca15d6668e31",
   "metadata": {
    "scrolled": true,
    "tags": []
   },
   "outputs": [],
   "source": [
    "eloScoreDF = (allMatchesBothSides\n",
    "                 #Get the cleaned indexes for A teams\n",
    "                 .join(eloIndexTeams.rename({'EloIndex': 'elo.index.A'}).drop('team.A.name'), how='left', on='team.A.club.id')\n",
    "                 #Get the cleaned indexes for B teams\n",
    "                 .join(eloIndexTeams.rename({'EloIndex': 'elo.index.B'}).drop('team.A.name'), how='left', left_on='team.B.club.id', right_on='team.A.club.id')\n",
    "                 .with_columns((pl.col('team.A.name').cum_count() - 1).over(pl.col('team.A.name')).alias('team.A.round.index'))\n",
    "                 .sort('round.id', 'team.B.club.id')\n",
    "                 .with_columns((pl.col('team.B.name').cum_count() - 1).over(pl.col('team.B.name')).alias('team.B.round.index'))\n",
    "                 #sort so the assigning of elo scores are pasted on past club info\n",
    "                 .sort('round.id', 'team.A.club.id')\n",
    "                 #Get the elo scores\n",
    "                 .with_columns(pl.struct(['round.roundNumber', 'round.id', 'team.A.club.id', 'team.B.club.id', 'team.A.round.index', 'team.B.round.index', 'elo.index.A', 'elo.index.B'])\n",
    "                                 .map_elements(lambda x : eloNumber(x['round.id'], x['round.roundNumber'], x['team.A.club.id'], x['team.B.club.id'], x['team.A.round.index'], x['team.B.round.index'], x['elo.index.A'], x['elo.index.B']))\n",
    "                                 .alias('elo.score'))\n",
    "                 #Keep only the info we actually want\n",
    "                 .select('compSeason.year', 'round.roundNumber', 'round.id', 'team.A.club.id', 'elo.score')\n",
    "                )"
   ]
  },
  {
   "cell_type": "code",
   "execution_count": 24,
   "id": "0469f4de-3faa-4b29-9fdc-a92836de46db",
   "metadata": {},
   "outputs": [],
   "source": [
    "#Join the elo scores up into the main dataframe\n",
    "seasonStep3 = (seasonsStep2\n",
    "     #elo scores for the home teams\n",
    "     .join(eloScoreDF.rename({'elo.score' : 'home.elo.score'}),\n",
    "           how='left',\n",
    "           left_on=['compSeason.year', 'round.roundNumber', 'round.id', 'home.team.club.id'],\n",
    "           right_on=['compSeason.year', 'round.roundNumber', 'round.id', 'team.A.club.id'])\n",
    "     #elo scores for the away teams\n",
    "    .join(eloScoreDF.rename({'elo.score' : 'away.elo.score'}),\n",
    "           how='left',\n",
    "           left_on=['compSeason.year', 'round.roundNumber', 'round.id', 'away.team.club.id'],\n",
    "           right_on=['compSeason.year', 'round.roundNumber', 'round.id', 'team.A.club.id'])\n",
    ")"
   ]
  },
  {
   "cell_type": "code",
   "execution_count": 25,
   "id": "4b5e5861-d034-4639-ae16-967e08acf5c5",
   "metadata": {
    "scrolled": true,
    "tags": []
   },
   "outputs": [
    {
     "data": {
      "text/html": [
       "<div><style>\n",
       ".dataframe > thead > tr,\n",
       ".dataframe > tbody > tr {\n",
       "  text-align: right;\n",
       "  white-space: pre-wrap;\n",
       "}\n",
       "</style>\n",
       "<small>shape: (2, 2)</small><table border=\"1\" class=\"dataframe\"><thead><tr><th>Correct</th><th>len</th></tr><tr><td>i32</td><td>u32</td></tr></thead><tbody><tr><td>0</td><td>82</td></tr><tr><td>1</td><td>134</td></tr></tbody></table></div>"
      ],
      "text/plain": [
       "shape: (2, 2)\n",
       "┌─────────┬─────┐\n",
       "│ Correct ┆ len │\n",
       "│ ---     ┆ --- │\n",
       "│ i32     ┆ u32 │\n",
       "╞═════════╪═════╡\n",
       "│ 0       ┆ 82  │\n",
       "│ 1       ┆ 134 │\n",
       "└─────────┴─────┘"
      ]
     },
     "execution_count": 25,
     "metadata": {},
     "output_type": "execute_result"
    }
   ],
   "source": [
    "#Test the predictive power of the ELO scores (sitting at about 62% accuracy in 2023 so at least more than simply choosing the home team!)\n",
    "(seasonStep3.with_columns(pl.when(pl.col('home.elo.score') > pl.col('away.elo.score')).then(pl.col('home.team.club.id'))\n",
    "                           .when(pl.col('away.elo.score') > pl.col('home.elo.score')).then(pl.col('away.team.club.id')).otherwise(pl.lit(-1)).alias('Prediction'))\n",
    "             .with_columns(pl.when(pl.col('Prediction') == pl.col('winner')).then(pl.lit(1)).otherwise(pl.lit(0)).alias('Correct'))\n",
    "             .filter(pl.col('compSeason.year') == 2023)\n",
    "             .group_by('Correct')\n",
    "             .len()\n",
    ")"
   ]
  },
  {
   "cell_type": "markdown",
   "id": "52564847-0d6c-4445-8a7d-5f6a8b49294b",
   "metadata": {},
   "source": [
    "## Home Advantage/Disadvantage\n",
    "Turns out (even not considering 2020, which we are) the term 'home team' can mean fairly little which might go some way to explaining how the chances of winning if the home team is only slightly elvated due to been the home team. Therefore to consider this, we will get the portion of games each time played at the venue in the previous year, this of course can mean that there are some venues that no-one played at last year and the advantage/disadvantage will be 0 (and not undefinied)."
   ]
  },
  {
   "cell_type": "code",
   "execution_count": 26,
   "id": "5ecd0957-3ee9-40b9-8bd6-af70cb0a96ca",
   "metadata": {},
   "outputs": [],
   "source": [
    "#Get the portion of games played at venue current season\n",
    "teamRoundVenue = (allMatchesBothSides\n",
    "                      #Get the venues attached for both team A and team B\n",
    "                     .join(seasonsBase.select('round.id', 'home.team.club.id', 'venue.name'), how='left', left_on=['round.id', 'team.A.club.id'], right_on=['round.id', 'home.team.club.id'])\n",
    "                     .join(seasonsBase.select('round.id', 'away.team.club.id', 'venue.name'), how='left', left_on=['round.id', 'team.A.club.id'], right_on=['round.id', 'away.team.club.id'])\n",
    "                     #Get all the venues in the same column\n",
    "                     .with_columns(pl.when(pl.col('venue.name').is_null()).then(pl.col('venue.name_right')).otherwise(pl.col('venue.name')).alias('venue.name'))\n",
    "                      #Drop columns not required going forward\n",
    "                     .drop('venue.name_right', 'team.A.score.totalScore', 'team.B.club.id', 'team.B.name', 'team.B.score.totalScore')\n",
    "                     #Get the total number of games played each season by each team\n",
    "                     .with_columns(pl.col('round.id').len().over('compSeason.year', 'team.A.club.id').alias('GamesPlayed'))\n",
    "                     #Get the number of times each team played at a venue during a season\n",
    "                     .group_by('compSeason.year', 'team.A.club.id', 'venue.name')\n",
    "                     .agg(pl.col('team.A.name').first(),\n",
    "                          pl.col('GamesPlayed').first(),\n",
    "                          pl.col('round.id').len().alias('VenuePlayed'))\n",
    "                     #How much of their time did the team spend at any venue\n",
    "                     .with_columns((pl.col('VenuePlayed')/pl.col('GamesPlayed')).alias('VenuePortion'))\n",
    "                     .sort('compSeason.year', 'team.A.club.id', 'VenuePlayed')\n",
    "                     #Create the next season so we can join to get portion of time played last season\n",
    "                     .with_columns((pl.col('compSeason.year') + 1).alias('NextSeason'))\n",
    "                      #Keep only what we need going forward\n",
    "                     .select('NextSeason', 'team.A.club.id', 'venue.name', 'VenuePortion')\n",
    "                 )"
   ]
  },
  {
   "cell_type": "code",
   "execution_count": 27,
   "id": "cba46ef7-af61-439c-971a-f7bf4a97ed22",
   "metadata": {},
   "outputs": [],
   "source": [
    "#Get portion of games played at venue last season\n",
    "teamRoundVenue = (allMatchesBothSides\n",
    "                      #Again get all the venues in the same column and keep only what required\n",
    "                     .join(seasonsBase.select('round.id', 'home.team.club.id', 'venue.name'), how='left', left_on=['round.id', 'team.A.club.id'], right_on=['round.id', 'home.team.club.id'])\n",
    "                     .join(seasonsBase.select('round.id', 'away.team.club.id', 'venue.name'), how='left', left_on=['round.id', 'team.A.club.id'], right_on=['round.id', 'away.team.club.id'])\n",
    "                     .with_columns(pl.when(pl.col('venue.name').is_null()).then(pl.col('venue.name_right')).otherwise(pl.col('venue.name')).alias('venue.name'))\n",
    "                     .drop('venue.name_right', 'team.A.score.totalScore', 'team.B.club.id', 'team.B.name', 'team.B.score.totalScore')\n",
    "                     #Get the previous seasons portion of games played at any venue\n",
    "                     .join(teamRoundVenue, how='left', left_on=['compSeason.year', 'team.A.club.id', 'venue.name'], right_on=['NextSeason', 'team.A.club.id', 'venue.name'])\n",
    "                     #For venue not played at the previous \n",
    "                     .with_columns(pl.col('VenuePortion').fill_null(0))\n",
    "                     .select('round.id', 'team.A.club.id', 'venue.name', 'VenuePortion')\n",
    "                )"
   ]
  },
  {
   "cell_type": "code",
   "execution_count": 28,
   "id": "010248db-c70b-4865-b986-6554b51838bc",
   "metadata": {},
   "outputs": [],
   "source": [
    "#Attach back to the seasonsStep3 and calculate the home advatage and disadvantage\n",
    "seasonStep4 = (seasonStep3\n",
    "     #join portion for home teams\n",
    "     .join(teamRoundVenue, how='left', left_on=['round.id', 'home.team.club.id', 'venue.name'], right_on=['round.id', 'team.A.club.id', 'venue.name'])\n",
    "     #join portion for away.teams\n",
    "     .join(teamRoundVenue, how='left', left_on=['round.id', 'away.team.club.id', 'venue.name'], right_on=['round.id', 'team.A.club.id', 'venue.name'])\n",
    "     #claify the column names\n",
    "     .rename({'VenuePortion' : 'home.venue.portion',\n",
    "              'VenuePortion_right' : 'away.venue.portion'})\n",
    "     #create home advantage\n",
    "     .with_columns(pl.when(pl.col('away.venue.portion') == 0).then(pl.lit(1)).otherwise((pl.col('home.venue.portion') / pl.col('away.venue.portion'))).alias('home.advantage'))\n",
    "     #Create away disadvantage\n",
    "     .with_columns(pl.when(pl.col('home.venue.portion') == 0).then(pl.lit(1)).otherwise((pl.col('away.venue.portion')/pl.col('home.venue.portion'))).alias('away.advantage'))\n",
    ")"
   ]
  },
  {
   "cell_type": "markdown",
   "id": "2a8ad6ed-c4b5-4a93-9330-337de2c57b27",
   "metadata": {},
   "source": [
    "## Days Between Matches\n",
    "Have to go in and get afttables match info to get dates (would this work with upcoming matches, may need to be revised if not)"
   ]
  },
  {
   "cell_type": "code",
   "execution_count": 29,
   "id": "34db7d47-311d-4522-837b-88adee8eac71",
   "metadata": {},
   "outputs": [],
   "source": [
    "%%R -o seasons\n",
    "seasonList <- c(2015, 2016, 2017, 2018, 2019, 2020, 2021, 2022, 2023)\n",
    "#seasonList <- c(2015)\n",
    "first <- TRUE\n",
    "for(s in seasonList) {\n",
    "    \n",
    "    df <- fetch_fixture(season = s, comp = \"AFLM\", source='footywire')\n",
    "\n",
    "    if (first) {\n",
    "        seasons <- df\n",
    "        first <- FALSE\n",
    "    }else{\n",
    "        seasons <- seasons %>% \n",
    "                      bind_rows(df)\n",
    "    }\n",
    "}\n",
    "seasons <- seasons  %>%\n",
    "    select(Date, Season, Round, Home.Team, Away.Team)"
   ]
  },
  {
   "cell_type": "code",
   "execution_count": 30,
   "id": "8033d7ab-18e4-47ae-ad3a-9782558484fe",
   "metadata": {},
   "outputs": [],
   "source": [
    "#Get the dates into python and convert the datetime into just a date\n",
    "matchDate = (pl.from_pandas(seasons)\n",
    "                 .with_columns(pl.col('Date').dt.date())\n",
    "                 .melt(id_vars=['Date', 'Season', 'Round'], value_vars=['Home.Team', 'Away.Team'], value_name='Team', variable_name='Remove')\n",
    "                 .drop('Remove')\n",
    "                 .sort('Team', 'Date')\n",
    "                 .with_columns(pl.col('Team').cum_count().over('Team').alias('team.round.id'))\n",
    "            )"
   ]
  },
  {
   "cell_type": "code",
   "execution_count": 31,
   "id": "4d8b65c7-3c43-42d7-8851-5be80e732626",
   "metadata": {},
   "outputs": [],
   "source": [
    "#Create the date of the past date for each team\n",
    "matchDate = (matchDate\n",
    "                 #Get the last match id, setting the very first to indicate that there was no match previous\n",
    "                 .with_columns(pl.when(pl.col('team.round.id') == 1).then(pl.lit(0)).otherwise(pl.col('team.round.id') - 1).alias('team.round.id.past'))\n",
    "                 #join with itself to get the last match date\n",
    "                 .join(matchDate.drop('Season'), how='left', left_on=['Team', 'team.round.id.past'], right_on=['Team', 'team.round.id'])\n",
    "                 .rename({'Date_right' : 'date.last'})\n",
    "                 #find days difference between the two games\n",
    "                 .with_columns((pl.col('Date') - pl.col('date.last')).dt.total_days().alias('day.since.match'))\n",
    "                 #keep only what I want\n",
    "                 .select('Season', 'Round', 'Team', 'day.since.match')\n",
    "                 #cast round to int\\\n",
    "                 .with_columns(pl.col('Round').cast(pl.Int32))\n",
    "                 #convert any team names that require as much\n",
    "                 .with_columns(pl.col('Team').replace(old=['Adelaide', 'GWS', 'Geelong', 'Gold Coast', 'West Coast', 'Footscray', 'Sydney'],\n",
    "                                              new=['Adelaide Crows', 'GWS Giants', 'Geelong Cats', 'Gold Coast Suns', 'West Coast Eagles', 'Western Bulldogs', 'Sydney Swans']))\n",
    "           \n",
    "            )"
   ]
  },
  {
   "cell_type": "code",
   "execution_count": 32,
   "id": "595082b4-a94c-4aae-a13e-6596561965cf",
   "metadata": {},
   "outputs": [],
   "source": [
    "#Add the days back to main table\n",
    "seasonStep5 = (seasonStep4\n",
    "                 #join the home team days since last played\n",
    "                 .join(matchDate, how='left', left_on=['compSeason.year', 'round.roundNumber', 'home.team.name'], right_on=['Season', 'Round', 'Team'])\n",
    "                 .rename({'day.since.match' : 'home.day.last.match'})\n",
    "                 #join the awway team days since last played\n",
    "                 .join(matchDate, how='left', left_on=['compSeason.year', 'round.roundNumber', 'away.team.name'], right_on=['Season', 'Round', 'Team'])\n",
    "                 .rename({'day.since.match' : 'away.day.last.match'})\n",
    "                )"
   ]
  },
  {
   "cell_type": "markdown",
   "id": "d873adb5-3d02-4a97-868b-f9e8bacd9a34",
   "metadata": {},
   "source": [
    "## Attacking, defending and opposition Strength\n",
    "AFL has both goals and behinds so, we will count goals and add give points a value of 0.5 to reflect that they are of lesser value to the game than a goal."
   ]
  },
  {
   "cell_type": "code",
   "execution_count": 144,
   "id": "f6361535-95f8-4f48-b298-8bd9861f93f9",
   "metadata": {
    "scrolled": true,
    "tags": []
   },
   "outputs": [],
   "source": [
    "#Get the goals scored and given away and the margin of each game. Add in the ladder positions as well\n",
    "allMatchesBothSidesStats = (allMatchesBothSides\n",
    "                 #Goals scored\n",
    "                 .with_columns((pl.col('team.A.score.goals') + (pl.col('team.A.score.behinds')*0.5)).alias('strength.attack'))\n",
    "                 #Goals given away\n",
    "                 .with_columns((pl.col('team.B.score.goals') + (pl.col('team.B.score.behinds')*0.5)).alias('strength.defense'))\n",
    "                 #goal diff , i.e. margin\n",
    "                 #.with_columns((pl.col('team.A.score.totalScore') - pl.col('team.B.score.totalScore')).abs().alias('margin'))\n",
    "                 #keep only what I want\n",
    "                 .select('compSeason.year', 'round.roundNumber', 'round.id', 'team.A.club.id', 'team.A.name', 'team.B.club.id', 'team.B.name',\n",
    "                         'strength.attack', 'strength.defense', 'team.A.score.totalScore', 'team.B.score.totalScore')\n",
    "                 #Cast round.id to int rather an unsigned int\n",
    "                 .with_columns(pl.col('round.id').cast(pl.Int32))\n",
    "            )     "
   ]
  },
  {
   "cell_type": "code",
   "execution_count": 151,
   "id": "22898d76-78ad-4f1e-b69d-9cee99756689",
   "metadata": {},
   "outputs": [],
   "source": [
    "#Get the each teams rolling 5 game strength based on margin\n",
    "matchTeamStats = (allMatchesBothSidesStats\n",
    "                    #get the previous 5 games margin average of opposition\n",
    "                    #Start with descending round.id for rolling groupby statements\n",
    "                    .sort(['team.A.name', 'round.id'], descending=[False, True])\n",
    "                    #Try a rolling previous avg margin\n",
    "                    .sort('team.A.club.id', 'round.id')\n",
    "                    .rolling(index_column='round.id', period='5i', closed='left', by='team.A.club.id')\n",
    "                    .agg(pl.col('team.A.score.totalScore').sum().alias('rolling.team.A.totalScore'),\n",
    "                         pl.col('team.B.score.totalScore').sum().alias('rolling.team.B.totalScore'))\n",
    "                    #get the avg margin\n",
    "                    .with_columns(((pl.col('rolling.team.A.totalScore') - pl.col('rolling.team.B.totalScore'))/5).alias('rolling.margin.avg'))\n",
    "                    #join back up to df\n",
    "                    .join(allMatchesBothSidesStats, how='left', on=['team.A.club.id', 'round.id'])\n",
    "                    #arrange columns as desired\n",
    "                    .select('compSeason.year', 'round.roundNumber', 'team.A.club.id', 'strength.attack',\n",
    "                            'strength.defense', 'rolling.margin.avg')\n",
    "                    #Get the previous 5 matches attacking strength\n",
    "                    .with_columns(pl.col('strength.attack').shift().over('team.A.club.id').alias('strength.attack.t-1'),\n",
    "                                  pl.col('strength.attack').shift(2).over('team.A.club.id').alias('strength.attack.t-2'),\n",
    "                                  pl.col('strength.attack').shift(3).over('team.A.club.id').alias('strength.attack.t-3'),\n",
    "                                  pl.col('strength.attack').shift(4).over('team.A.club.id').alias('strength.attack.t-4'),\n",
    "                                  pl.col('strength.attack').shift(5).over('team.A.club.id').alias('strength.attack.t-5'))\n",
    "                    #Get the previous 5 matches defending strength\n",
    "                    .with_columns(pl.col('strength.defense').shift().over('team.A.club.id').alias('strength.defense.t-1'),\n",
    "                                  pl.col('strength.defense').shift(2).over('team.A.club.id').alias('strength.defense.t-2'),\n",
    "                                  pl.col('strength.defense').shift(3).over('team.A.club.id').alias('strength.defense.t-3'),\n",
    "                                  pl.col('strength.defense').shift(4).over('team.A.club.id').alias('strength.defense.t-4'),\n",
    "                                  pl.col('strength.defense').shift(5).over('team.A.club.id').alias('strength.defense.t-5'))\n",
    "                    #drop the original strength metrics\n",
    "                    .drop('strength.attack', 'strength.defense')\n",
    "\n",
    "                    \n",
    "                )"
   ]
  },
  {
   "cell_type": "code",
   "execution_count": 155,
   "id": "c5c67beb-5009-4fc7-8db2-2b435c546433",
   "metadata": {
    "scrolled": true,
    "tags": []
   },
   "outputs": [],
   "source": [
    "#Attach the stats for the home team, i.e. own strength.attack, strength.defense and as away's opposition strength\n",
    "seasonStep6 = (seasonStep5\n",
    "     #let's do a bit of cleaning first remove some of the unneeded columns\n",
    "     .drop('id', 'status', 'compSeason.id', 'home.advantage', 'away.advantage')\n",
    "     #join for home team\n",
    "     .join(matchTeamStats, how='left',\n",
    "           left_on=['compSeason.year', 'round.roundNumber', 'home.team.club.id'],\n",
    "           right_on=['compSeason.year', 'round.roundNumber', 'team.A.club.id'])\n",
    " \n",
    "     #get past strengths of home team\n",
    "     .rename({'strength.attack.t-1' : 'home.attack.t-1',\n",
    "              'strength.attack.t-2' : 'home.attack.t-2',\n",
    "              'strength.attack.t-3' : 'home.attack.t-3',\n",
    "              'strength.attack.t-4' : 'home.attack.t-4',\n",
    "              'strength.attack.t-5' : 'home.attack.t-5',\n",
    "              'strength.defense.t-1' : 'home.defense.t-1',\n",
    "              'strength.defense.t-2' : 'home.defense.t-2',\n",
    "              'strength.defense.t-3' : 'home.defense.t-3',\n",
    "              'strength.defense.t-4' : 'home.defense.t-4',\n",
    "              'strength.defense.t-5' : 'home.defense.t-5',\n",
    "              #For the away team the oppositions strength\n",
    "              'rolling.margin.avg' : 'away.opposition.strength'})\n",
    " \n",
    "      #join for away team\n",
    "     .join(matchTeamStats, how='left',\n",
    "           left_on=['compSeason.year', 'round.roundNumber', 'away.team.club.id'],\n",
    "           right_on=['compSeason.year', 'round.roundNumber', 'team.A.club.id'])\n",
    " \n",
    "     #get past strengths of away team\n",
    "     .rename({'strength.attack.t-1' : 'away.attack.t-1',\n",
    "              'strength.attack.t-2' : 'away.attack.t-2',\n",
    "              'strength.attack.t-3' : 'away.attack.t-3',\n",
    "              'strength.attack.t-4' : 'away.attack.t-4',\n",
    "              'strength.attack.t-5' : 'away.attack.t-5',\n",
    "              'strength.defense.t-1' : 'away.defense.t-1',\n",
    "              'strength.defense.t-2' : 'away.defense.t-2',\n",
    "              'strength.defense.t-3' : 'away.defense.t-3',\n",
    "              'strength.defense.t-4' : 'away.defense.t-4',\n",
    "              'strength.defense.t-5' : 'away.defense.t-5',\n",
    "              #For the home team the oppositions strength\n",
    "              'rolling.margin.avg' : 'home.opposition.strength'})\n",
    "            \n",
    "    )\n",
    " "
   ]
  },
  {
   "cell_type": "markdown",
   "id": "92b52cee-fafa-4f07-a29a-8964302cb727",
   "metadata": {},
   "source": [
    "## Player Rankings\n"
   ]
  },
  {
   "cell_type": "code",
   "execution_count": 178,
   "id": "47a02ea9-e928-4b85-9d0a-af35ec0e5f2e",
   "metadata": {},
   "outputs": [
    {
     "name": "stdout",
     "output_type": "stream",
     "text": [
      "> Returning historical player details from source `squiggle`\n"
     ]
    }
   ],
   "source": [
    "%%R -o df_test\n",
    "\n",
    "df_test <- fetch_player_details(current=FALSE, season=2015, comp='AFLM', source='squiggle')"
   ]
  },
  {
   "cell_type": "code",
   "execution_count": 180,
   "id": "9b827849-562e-43a1-94b5-04dea577600c",
   "metadata": {},
   "outputs": [
    {
     "data": {
      "text/plain": [
       "<rpy2.rinterface_lib.sexp.NULLType object at 0x000002117FB31100> [RTYPES.NILSXP]"
      ]
     },
     "execution_count": 180,
     "metadata": {},
     "output_type": "execute_result"
    }
   ],
   "source": [
    "df_test"
   ]
  },
  {
   "cell_type": "code",
   "execution_count": null,
   "id": "5d560fb4-c553-4e76-bd32-0e8dc1ad2340",
   "metadata": {},
   "outputs": [],
   "source": []
  },
  {
   "cell_type": "code",
   "execution_count": 70,
   "id": "a15c5d3b-27bf-4c60-837d-fa5aa88aee03",
   "metadata": {},
   "outputs": [
    {
     "data": {
      "text/plain": [
       "23.0"
      ]
     },
     "execution_count": 70,
     "metadata": {},
     "output_type": "execute_result"
    }
   ],
   "source": [
    "46/2"
   ]
  },
  {
   "cell_type": "code",
   "execution_count": null,
   "id": "031d0741-07d1-4068-ac98-06d43737e22a",
   "metadata": {},
   "outputs": [],
   "source": []
  }
 ],
 "metadata": {
  "kernelspec": {
   "display_name": "Python 3",
   "language": "python",
   "name": "python3"
  },
  "language_info": {
   "codemirror_mode": {
    "name": "ipython",
    "version": 3
   },
   "file_extension": ".py",
   "mimetype": "text/x-python",
   "name": "python",
   "nbconvert_exporter": "python",
   "pygments_lexer": "ipython3",
   "version": "3.8.8"
  }
 },
 "nbformat": 4,
 "nbformat_minor": 5
}
