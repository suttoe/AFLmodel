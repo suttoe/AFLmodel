{
 "cells": [
  {
   "cell_type": "markdown",
   "id": "84aed36e-1e92-4a47-8290-3845fdccb100",
   "metadata": {},
   "source": [
    "# Let's get some predictions!"
   ]
  },
  {
   "cell_type": "code",
   "execution_count": 1,
   "id": "ca27dd75-c743-4510-889c-8b6b9341659e",
   "metadata": {},
   "outputs": [],
   "source": [
    "#packages\n",
    "import polars as pl\n",
    "import pickle\n",
    "import numpy as np\n",
    "import xlsx2csv\n",
    "from sklearn.ensemble import RandomForestClassifier\n",
    "\n",
    "pl.Config.set_fmt_str_lengths(150);"
   ]
  },
  {
   "cell_type": "code",
   "execution_count": 2,
   "id": "7e2f8eb4-b79c-44df-9f54-0cf28505e066",
   "metadata": {},
   "outputs": [
    {
     "name": "stderr",
     "output_type": "stream",
     "text": [
      "C:\\Users\\e_sut\\anaconda3\\lib\\site-packages\\rpy2\\robjects\\packages.py:366: UserWarning: The symbol 'quartz' is not in this R namespace/package.\n",
      "  warnings.warn(\n"
     ]
    }
   ],
   "source": [
    "#set up R extension\n",
    "%load_ext rpy2.ipython"
   ]
  },
  {
   "cell_type": "code",
   "execution_count": 3,
   "id": "c5759c58-507c-49b0-af5d-0a7f899e642b",
   "metadata": {},
   "outputs": [],
   "source": [
    "#set current values\n",
    "season = 2024\n",
    "roundNum = 0"
   ]
  },
  {
   "cell_type": "markdown",
   "id": "7fd2e8e8-f30a-4a52-98b0-07ac2937e145",
   "metadata": {},
   "source": [
    "### Update based on last round (unless last round is round 0) and bring in other useful things"
   ]
  },
  {
   "cell_type": "code",
   "execution_count": 4,
   "id": "348554c6-3a47-4f5f-9726-1e893a7e3076",
   "metadata": {},
   "outputs": [],
   "source": [
    "#Get Team index\n",
    "\n",
    "#load team array\n",
    "indexTeams = pl.read_excel('indexTeams.xlsx')"
   ]
  },
  {
   "cell_type": "code",
   "execution_count": 5,
   "id": "e1b71481-77d4-482a-999a-7cba17a24ad3",
   "metadata": {},
   "outputs": [],
   "source": [
    "#Get distnace travelled dataframe\n",
    "\n",
    "#load in distance array\n",
    "distanceTravelled = pl.read_excel('distanceTravelled.xlsx')"
   ]
  },
  {
   "cell_type": "code",
   "execution_count": 6,
   "id": "0ad2124f-e280-447c-98de-ac08b3c9cc10",
   "metadata": {},
   "outputs": [],
   "source": [
    "#get results of past round\n",
    "if roundNum != 0:\n",
    "    pastRound = roundNum - 1\n",
    "else :\n",
    "    pastRound = roundNum\n"
   ]
  },
  {
   "cell_type": "code",
   "execution_count": 7,
   "id": "dd44a8c4-005d-409b-9d3d-c85365989890",
   "metadata": {},
   "outputs": [
    {
     "name": "stderr",
     "output_type": "stream",
     "text": [
      "R[write to console]: \n",
      "Attaching package: 'dplyr'\n",
      "\n",
      "\n",
      "R[write to console]: The following objects are masked from 'package:stats':\n",
      "\n",
      "    filter, lag\n",
      "\n",
      "\n",
      "R[write to console]: The following objects are masked from 'package:base':\n",
      "\n",
      "    intersect, setdiff, setequal, union\n",
      "\n",
      "\n"
     ]
    }
   ],
   "source": [
    "%%R -i season,pastRound -o results\n",
    "\n",
    "library(fitzRoy)\n",
    "library('dplyr')\n",
    "library('tidyr')\n",
    "\n",
    "results <- fetch_results_afl(season=season, round_number=pastRound) %>% select(match.date, round.roundNumber, match.homeTeam.name, match.awayTeam.name,\n",
    "                                                                               round.year, homeTeamScore.matchScore.totalScore, homeTeamScore.matchScore.behinds,\n",
    "                                                                               homeTeamScore.matchScore.goals, awayTeamScore.matchScore.totalScore, awayTeamScore.matchScore.behinds,\n",
    "                                                                               awayTeamScore.matchScore.goals)      "
   ]
  },
  {
   "cell_type": "code",
   "execution_count": 8,
   "id": "eb2e3c07-b728-466d-a914-acb16c10ad78",
   "metadata": {},
   "outputs": [],
   "source": [
    "results = (pl.from_pandas(results)\n",
    "            .with_columns(pl.col('match.date').dt.date())\n",
    "            .rename({'match.date' : 'Date',\n",
    "                      'round.year' : 'compSeason.year',\n",
    "                      'homeTeamScore.matchScore.totalScore' : 'home.team.totalScore',\n",
    "                      'homeTeamScore.matchScore.behinds' : 'home.team.behinds',\n",
    "                      'homeTeamScore.matchScore.goals' : 'home.team.goals',\n",
    "                      'awayTeamScore.matchScore.totalScore' : 'away.team.totalScore',\n",
    "                      'awayTeamScore.matchScore.behinds' : 'away.team.behinds',\n",
    "                      'awayTeamScore.matchScore.goals' : 'away.team.goals',\n",
    "                      'match.homeTeam.name' : 'home.team.name',\n",
    "                      'match.awayTeam.name' : 'away.team.name'})\n",
    "             #cast to int64\n",
    "             .with_columns(pl.col('compSeason.year').cast(pl.Int64),\n",
    "                           pl.col('round.roundNumber').cast(pl.Int64),\n",
    "                           pl.col('home.team.totalScore').cast(pl.Int64),\n",
    "                           pl.col('home.team.behinds').cast(pl.Int64),\n",
    "                           pl.col('home.team.goals').cast(pl.Int64),\n",
    "                           pl.col('away.team.totalScore').cast(pl.Int64),\n",
    "                           pl.col('away.team.behinds').cast(pl.Int64),\n",
    "                           pl.col('away.team.goals').cast(pl.Int64))\n",
    "             #convert any team names that require as much\n",
    "             .with_columns(pl.col('home.team.name').replace(old=['GWS GIANTS', 'Gold Coast SUNS'],\n",
    "                                          new=['GWS Giants', 'Gold Coast Suns']))\n",
    "             .with_columns(pl.col('away.team.name').replace(old=['GWS GIANTS', 'Gold Coast SUNS'],\n",
    "                                          new=['GWS Giants', 'Gold Coast Suns']))\n",
    "             #Add the indexs\n",
    "             .join(indexTeams, how='left', left_on='home.team.name', right_on='team.A.name')\n",
    "             .rename({'EloIndex' : 'home.team.id'})\n",
    "             .join(indexTeams, how='left', left_on='away.team.name', right_on='team.A.name')\n",
    "             .rename({'EloIndex' : 'away.team.id'})\n",
    "        )"
   ]
  },
  {
   "cell_type": "code",
   "execution_count": 9,
   "id": "fa0168da-a787-4cf3-977a-2200551d7e13",
   "metadata": {},
   "outputs": [],
   "source": [
    "#create a function to find a teams prediction\n",
    "def eloTeamPrediction(ratingTeamA, ratingTeamB):\n",
    "    exp = (-1*(ratingTeamA - ratingTeamB))/400\n",
    "    b = 1 + 10 ** exp\n",
    "    result = 1/b\n",
    "    return result"
   ]
  },
  {
   "cell_type": "code",
   "execution_count": 10,
   "id": "435ac648-016d-49d9-a0eb-cd728cfb7227",
   "metadata": {},
   "outputs": [],
   "source": [
    "#create a function to find the teams result, inital B = 0.004 per Multifactorial analysis of factors influencing elite australian football match outcomes: a machine learning approach\n",
    "def eloTeamResult(scoreTeamA, scoreTeamB):\n",
    "    exp = -0.04*(scoreTeamA - scoreTeamB)\n",
    "    b = 1 + np.exp(exp)\n",
    "    result = 1/b\n",
    "    return result"
   ]
  },
  {
   "cell_type": "code",
   "execution_count": 11,
   "id": "15b34dd1-786a-49a6-b358-084251ca39c5",
   "metadata": {},
   "outputs": [],
   "source": [
    "#Create a function to get change in teams elo, set K=67.559 per Multifactorial analysis of factors influencing elite australian football match outcomes: a machine learning approach\n",
    "def eloChange(scoreTeamA, scoreTeamB, ratingTeamA, ratingTeamB):\n",
    "    #get Team prediction\n",
    "    prediction = eloTeamPrediction(ratingTeamA, ratingTeamB)\n",
    "    \n",
    "    #get actual result\n",
    "    actual = eloTeamResult(scoreTeamA , scoreTeamB)\n",
    "    \n",
    "    #get elo change\n",
    "    result = 20*(actual - prediction)\n",
    "    \n",
    "    #get new elo\n",
    "    newElo = ratingTeamA + result\n",
    "\n",
    "    return newElo"
   ]
  },
  {
   "cell_type": "code",
   "execution_count": 12,
   "id": "3821e425-0138-4923-b140-4239fc0b6fdc",
   "metadata": {},
   "outputs": [],
   "source": [
    "def eloNumber(indexA, indexB, scoreA, scoreB):\n",
    "\n",
    "        #Get the new elo score for both teams\n",
    "        eloA = eloChange(scoreA, scoreB, eloScores[indexA], eloScores[indexB])\n",
    "        eloB = eloChange(scoreB, scoreA, eloScores[indexB], eloScores[indexA])\n",
    "        #Update list of list to reflect the new score\n",
    "        eloScores[indexA] = eloA\n",
    "        eloScores[indexB] = eloB\n",
    "        "
   ]
  },
  {
   "cell_type": "code",
   "execution_count": 13,
   "id": "8bf707ff-6630-443e-a821-6250cb8426b7",
   "metadata": {},
   "outputs": [],
   "source": [
    "#Update elo scores\n",
    "#load the current elo score\n",
    "with open(\"eloScores\", \"rb\") as fp:   # Unpickling\n",
    "    eloScores = pickle.load(fp)\n",
    "\n",
    "\n",
    "#update based on past round\n",
    "if roundNum != 0:\n",
    "    results.with_columns(pl.struct(['home.team.id', 'away.team.id', 'home.team.totalScore', 'away.team.totalScore'])\n",
    "                           .map_elements(lambda x: eloNumber(x['home.team.id'], x['away.team.id'], x['home.team.totalScore'], x['away.team.totalScore'])))\n",
    "#save updated elo scores\n",
    "with open(\"eloScores\", \"wb\") as fp:\n",
    "    pickle.dump(eloScores, fp)"
   ]
  },
  {
   "cell_type": "code",
   "execution_count": 14,
   "id": "1623ee43-e453-4e5d-b61c-df5ffc280ed9",
   "metadata": {},
   "outputs": [
    {
     "data": {
      "text/plain": [
       "<xlsxwriter.workbook.Workbook at 0x1f38f863e20>"
      ]
     },
     "execution_count": 14,
     "metadata": {},
     "output_type": "execute_result"
    }
   ],
   "source": [
    "#Get match date & update\n",
    "\n",
    "#load in match dates\n",
    "matchDays = pl.read_excel('matchDay.xlsx')\n",
    "#update based on teams that played\n",
    "if roundNum != 0:\n",
    "    matchDays = (matchDays\n",
    "                    .join(results.melt(id_vars='Date', value_vars=['home.team.name', 'away.team.name'], value_name='team.name').select('Date', 'team.name'),\n",
    "                          how='left',\n",
    "                          left_on='Team',\n",
    "                          right_on='team.name')\n",
    "                     .with_columns(pl.when(pl.col('Date_right').is_null()).then(pl.col('Date')).otherwise(pl.col('Date_right')).alias('Date'))\n",
    "                     .drop('Date_right')\n",
    "                )\n",
    "    \n",
    "#save updated version\n",
    "matchDays.write_excel('matchDay.xlsx')"
   ]
  },
  {
   "cell_type": "code",
   "execution_count": 17,
   "id": "a04b5f2f-74e5-42f4-83cd-eed85ec2b45e",
   "metadata": {},
   "outputs": [
    {
     "data": {
      "text/plain": [
       "<xlsxwriter.workbook.Workbook at 0x1f3919f0cd0>"
      ]
     },
     "execution_count": 17,
     "metadata": {},
     "output_type": "execute_result"
    }
   ],
   "source": [
    "#Get all matches both sides & update\n",
    "\n",
    "#load in past years matches both sides\n",
    "matchesBothSides = pl.read_excel('matchesBothSides.xlsx')\n",
    "#update based on past results\n",
    "if roundNum != 0:\n",
    "    matchesBothSides = (matchesBothSides\n",
    "                         .drop('round.Id')\n",
    "                         .vstack((results\n",
    "                         .select('compSeason.year', 'round.roundNumber', 'home.team.id', 'home.team.name', 'home.team.totalScore',\n",
    "                                 'home.team.goals', 'home.team.behinds', 'away.team.id', 'away.team.name', 'away.team.totalScore', 'away.team.goals', 'away.team.behinds')\n",
    "                         .rename({'home.team.name': 'team.A.name',\n",
    "                                  'home.team.id' : 'team.A.club.id',\n",
    "                                  'home.team.totalScore' : 'team.A.score.totalScore',\n",
    "                                  'home.team.goals' : 'team.A.score.goals',\n",
    "                                  'home.team.behinds' : 'team.A.score.behinds',\n",
    "                                  'away.team.name': 'team.B.name',\n",
    "                                  'away.team.id' : 'team.B.club.id',\n",
    "                                  'away.team.totalScore' : 'team.B.score.totalScore',\n",
    "                                  'away.team.goals' : 'team.B.score.goals',\n",
    "                                  'away.team.behinds' : 'team.B.score.behinds'})\n",
    "                         .vstack(results\n",
    "                                    .select('compSeason.year', 'round.roundNumber', 'away.team.id', 'away.team.name', 'away.team.totalScore',\n",
    "                                            'away.team.goals', 'away.team.behinds', 'home.team.id', 'home.team.name', 'home.team.totalScore', 'home.team.goals', 'home.team.behinds')\n",
    "                                    .rename({'home.team.name': 'team.B.name',\n",
    "                                              'home.team.id' : 'team.B.club.id',\n",
    "                                              'home.team.totalScore' : 'team.B.score.totalScore',\n",
    "                                              'home.team.goals' : 'team.B.score.goals',\n",
    "                                              'home.team.behinds' : 'team.B.score.behinds',\n",
    "                                              'away.team.name': 'team.A.name',\n",
    "                                              'away.team.id' : 'team.A.club.id',\n",
    "                                              'away.team.totalScore' : 'team.A.score.totalScore',\n",
    "                                              'away.team.goals' : 'team.A.score.goals',\n",
    "                                              'away.team.behinds' : 'team.A.score.behinds'}))\n",
    "                                        ))\n",
    "                         .sort('compSeason.year', 'round.roundNumber')   \n",
    "                        )\n",
    "#sort out the round id\n",
    "roundId = (matchesBothSides\n",
    "             .select('compSeason.year', 'round.roundNumber')\n",
    "             .unique()\n",
    "             .sort('compSeason.year', 'round.roundNumber')\n",
    "             .with_columns(pl.col('round.roundNumber').cum_count().alias('round.Id'))\n",
    "          )\n",
    "#Add in the roundId\n",
    "matchesBothSides = (matchesBothSides\n",
    "                      #.drop('round.Id') #remove for round 0\n",
    "                      .join(roundId, how='left', on=['compSeason.year', 'round.roundNumber']))\n",
    "#save updated version\n",
    "matchesBothSides.write_excel('matchesBothSides.xlsx')"
   ]
  },
  {
   "cell_type": "markdown",
   "id": "9bff5c49-df92-45be-8018-2c837d33d31b",
   "metadata": {},
   "source": [
    "### 1. Basic Info first"
   ]
  },
  {
   "cell_type": "code",
   "execution_count": 18,
   "id": "eb4688d2-2ec8-4fe1-8bdd-2b7b288306ce",
   "metadata": {},
   "outputs": [
    {
     "name": "stdout",
     "output_type": "stream",
     "text": [
      "v Returning data for \"Round 0, 2024\" ... done\n"
     ]
    }
   ],
   "source": [
    "%%R -i season,roundNum -o fixture,fixtureBye\n",
    "\n",
    "fixture <- fetch_fixture(season=season, round_number=roundNum)\n",
    "\n",
    "if (roundNum != 0){\n",
    "    fixtureBye <- fetch_fixture(season=season, round_number=(roundNum-1)) %>% \n",
    "                        select(compSeason.id, compSeason.year, round.roundNumber, round.byes) %>%\n",
    "                        unnest(round.byes) %>%\n",
    "                        distinct() %>%\n",
    "                        mutate(round.currentRound = round.roundNumber + 1,\n",
    "                          ByeFlag = 1) %>%\n",
    "                        select(round.currentRound, club.id, club.name, ByeFlag)\n",
    "}else{\n",
    "    fixtureBye <- 0\n",
    "}\n",
    "\n",
    "fixture <- fixture %>% select(-round.byes)"
   ]
  },
  {
   "cell_type": "code",
   "execution_count": 19,
   "id": "517a0b75-35d1-4c2f-a3a4-0856fd01fdfc",
   "metadata": {},
   "outputs": [],
   "source": [
    "#Add in bye flag if exists (i.e. not first round of the season)\n",
    "if roundNum != 0 :\n",
    "    #Clean and prep the season bye info\n",
    "    fixtureBye = pl.from_pandas(fixtureBye).drop('club.id').with_columns(pl.col('round.currentRound').cast(pl.Int32))"
   ]
  },
  {
   "cell_type": "code",
   "execution_count": 20,
   "id": "62540054-8294-4b90-b23e-f5368b1cf92e",
   "metadata": {},
   "outputs": [],
   "source": [
    "#The inital cleaning working with the gneral match details. We can use this as our base for creating the desired attributes\n",
    "if roundNum != 0:\n",
    "    fixtureBase = (pl.from_pandas(fixture)\n",
    "                .sort('round.id')\n",
    "                #Keep only the columns we want\n",
    "                .select('round.roundNumber', 'utcStartTime', 'home.team.name',\n",
    "                        'away.team.name', 'venue.id', 'venue.name', 'venue.state')\n",
    "                 #Create the date in format wanted\n",
    "                 .with_columns(pl.col('utcStartTime').str.slice(0, length=10).str.to_date().alias('Date'))\n",
    "                 .drop('utcStartTime')\n",
    "                 #Add a bye flag\n",
    "                 .join(fixtureBye, how='left', left_on=['compSeason.id', 'round.roundNumber', 'home.team.name'], right_on=['compSeason.id', 'round.nextRound', 'club.name'])\n",
    "                 .join(fixtureBye, how='left', left_on=['compSeason.id', 'round.roundNumber', 'away.team.name'], right_on=['compSeason.id', 'round.nextRound', 'club.name'])\n",
    "                 #Rename bye flag\n",
    "                 .rename({'ByeFlag' : 'home.bye.flag',\n",
    "                          'ByeFlag_right' : 'away.bye.flag'})\n",
    "                 #Fill in bye flag nulls\n",
    "                 .with_columns(pl.col('home.bye.flag').fill_null(0).cast(pl.Int32),\n",
    "                               pl.col('away.bye.flag').fill_null(0).cast(pl.Int32))\n",
    "                #Fill venue blank states with china (1 is not china but NZ but is in 2015 so we wont worry about that)\n",
    "                .with_columns(pl.col('venue.state').fill_null('China'))\n",
    "                #Add team index\n",
    "                .join(indexTeams.drop('team.A.club.id'), how='left', left_on='home.team.name', right_on='team.A.name')\n",
    "                .rename({'EloIndex' : 'home.team.id'})\n",
    "                .join(indexTeams.drop('team.A.club.id'), how='left', left_on='away.team.name', right_on='team.A.name')\n",
    "                .rename({'EloIndex' : 'away.team.id'})\n",
    "                )\n",
    "else:\n",
    "    #First round of the season\n",
    "        fixtureBase = (pl.from_pandas(fixture)\n",
    "                .sort('round.id')\n",
    "                  #Keep only the columns we want\n",
    "                .select('round.roundNumber', 'utcStartTime', 'home.team.name',\n",
    "                        'away.team.name', 'venue.id', 'venue.name', 'venue.state')\n",
    "                 #Create the date in format wanted\n",
    "                 .with_columns(pl.col('utcStartTime').str.slice(0, length=10).str.to_date().alias('Date'))\n",
    "                 .drop('utcStartTime')\n",
    "                 #Add a bye flag\n",
    "                 .with_columns(pl.lit(0).alias('home.bye.flag'),\n",
    "                               pl.lit(1).alias('away.bye.flag'))\n",
    "                #Fill venue blank states with china (1 is not china but NZ but is in 2015 so we wont worry about that)\n",
    "                .with_columns(pl.col('venue.state').fill_null('China'))\n",
    "                #Add team index\n",
    "                .join(indexTeams.drop('team.A.club.id'), how='left', left_on='home.team.name', right_on='team.A.name')\n",
    "                .rename({'EloIndex' : 'home.team.id'})\n",
    "                .join(indexTeams.drop('team.A.club.id'), how='left', left_on='away.team.name', right_on='team.A.name')\n",
    "                .rename({'EloIndex' : 'away.team.id'})\n",
    "                )"
   ]
  },
  {
   "cell_type": "markdown",
   "id": "2827d781-e2ff-4f8b-9e7c-1dfe9b6509b7",
   "metadata": {},
   "source": [
    "### 2. Add in current ladder position"
   ]
  },
  {
   "cell_type": "code",
   "execution_count": 21,
   "id": "91429247-4be4-42e4-9da8-a645514baf45",
   "metadata": {},
   "outputs": [
    {
     "name": "stdout",
     "output_type": "stream",
     "text": [
      "No round number specified, trying to return most recent ladder for specified season\n"
     ]
    }
   ],
   "source": [
    "%%R -i season,roundNum -o ladder\n",
    "\n",
    "if (roundNum != 0){\n",
    "    ladder <- fetch_ladder_afl(season=season, round_number=roundNum-1)\n",
    "}else{\n",
    "    ladder <- fetch_ladder_afl(season=season-1)\n",
    "}\n",
    "\n",
    "ladder <- ladder %>% select('team.name', 'position')"
   ]
  },
  {
   "cell_type": "code",
   "execution_count": 22,
   "id": "3e01422c-ef77-4ef5-9ec4-c25622ea8687",
   "metadata": {},
   "outputs": [],
   "source": [
    "#from pandas to polars\n",
    "ladder = pl.from_pandas(ladder)"
   ]
  },
  {
   "cell_type": "code",
   "execution_count": 23,
   "id": "0f8e42ae-7392-4659-b0a3-43b9e1d6956b",
   "metadata": {},
   "outputs": [],
   "source": [
    "#join to basic fixture info\n",
    "fixtureLadder = (fixtureBase\n",
    "                        #Home team ladder\n",
    "                        .join(ladder, how='left', left_on='home.team.name', right_on='team.name')\n",
    "                        .rename({'position' : 'home.ladder.position'})\n",
    "                        #Away team ladder\n",
    "                        .join(ladder, how='left', left_on='away.team.name', right_on='team.name')\n",
    "                        .rename({'position' : 'away.ladder.position'})                    \n",
    "                    )"
   ]
  },
  {
   "cell_type": "markdown",
   "id": "b80e5eea-a609-49b4-b978-7409c34c9719",
   "metadata": {},
   "source": [
    "### 3. Add the distance travelled"
   ]
  },
  {
   "cell_type": "code",
   "execution_count": 24,
   "id": "65396498-540c-404d-9ee8-3efc77e085c9",
   "metadata": {},
   "outputs": [],
   "source": [
    "#use loaded Distnace Travelled dataframe\n",
    "fixtureDT = (fixtureLadder \n",
    "                 #Home team distance travelled to venue\n",
    "                 .join(distanceTravelled.rename({'Distance' : 'home.distance'}), how='left', left_on=['home.team.name', 'venue.state'], right_on=['team.name', 'State'])\n",
    "                 #Away team distance travelled to venue\n",
    "                 .join(distanceTravelled.rename({'Distance' : 'away.distance'}), how='left', left_on=['away.team.name', 'venue.state'], right_on=['team.name', 'State'])\n",
    "                )"
   ]
  },
  {
   "cell_type": "markdown",
   "id": "8459a27c-25d1-4b69-adce-b3008da4180d",
   "metadata": {},
   "source": [
    "### 4. Add Elo Rating"
   ]
  },
  {
   "cell_type": "code",
   "execution_count": 25,
   "id": "9ccdc3ea-d7ba-4e4e-9fd5-4c97a5d762a9",
   "metadata": {},
   "outputs": [],
   "source": [
    "#use updated elo score to populate\n",
    "fixtureElo = (fixtureDT\n",
    "                 .with_columns(pl.col('home.team.id').map_elements(lambda x : eloScores[x]).alias('home.elo.score'),\n",
    "                               pl.col('away.team.id').map_elements(lambda x : eloScores[x]).alias('away.elo.score'))\n",
    "                )"
   ]
  },
  {
   "cell_type": "markdown",
   "id": "e83bce93-220d-4f3e-a469-011e4c62631b",
   "metadata": {},
   "source": [
    "### 5. Add in Home Adavantage/Disadvantage"
   ]
  },
  {
   "cell_type": "code",
   "execution_count": 26,
   "id": "1d4bb0c9-6a95-4e6f-a55c-21d7e14617ed",
   "metadata": {},
   "outputs": [],
   "source": [
    "#Use matches both sides to figure out last 20 games if played at venue\n",
    "venuePortions = (matchesBothSides\n",
    "                     .select('compSeason.year', 'round.roundNumber', 'venue.name', 'team.A.name')\n",
    "                     .with_columns(pl.col('venue.name').count().over('team.A.name', 'venue.name').alias('at.venue'),\n",
    "                                   pl.col('team.A.name').count().over('team.A.name').alias('game.count'))\n",
    "                     .with_columns((pl.col('at.venue')/pl.col('game.count')).alias('venue.portion'))\n",
    "                     .select('team.A.name', 'venue.name', 'venue.portion')\n",
    "                     .unique()     \n",
    "                    )\n",
    "fixtureHome = (fixtureElo\n",
    "                   #home team\n",
    "                   .join(venuePortions, how='left', left_on=['home.team.name', 'venue.name'], right_on=['team.A.name', 'venue.name'])\n",
    "                   .rename({'venue.portion' : 'home.venue.portion'})\n",
    "                   .with_columns(pl.col('home.venue.portion').fill_null(0))\n",
    "                   #away team\n",
    "                   .join(venuePortions, how='left', left_on=['away.team.name', 'venue.name'], right_on=['team.A.name', 'venue.name'])\n",
    "                   .rename({'venue.portion' : 'away.venue.portion'})\n",
    "                   .with_columns(pl.col('away.venue.portion').fill_null(0))\n",
    "               \n",
    "              )"
   ]
  },
  {
   "cell_type": "markdown",
   "id": "d95e2036-0340-461f-82b2-6d1d60292e43",
   "metadata": {},
   "source": [
    "### 6. Add Days since last match"
   ]
  },
  {
   "cell_type": "code",
   "execution_count": 27,
   "id": "63483fac-7518-4df5-a663-f819eb0d30e3",
   "metadata": {},
   "outputs": [],
   "source": [
    "#Use days since last match to populate\n",
    "fixtureDays = (fixtureHome\n",
    "                   #home teams\n",
    "                   .join(matchDays, how='left', left_on='home.team.name', right_on='Team')\n",
    "                   .rename({'Date_right' : 'home.last.date'})\n",
    "                   .with_columns((pl.col('Date') - pl.col('home.last.date').str.to_date()).dt.total_days().alias('home.day.last.match'))\n",
    "                   .drop('home.last.date')\n",
    "                    #away teams\n",
    "                   .join(matchDays, how='left', left_on='away.team.name', right_on='Team')\n",
    "                   .rename({'Date_right' : 'away.last.date'})\n",
    "                   .with_columns((pl.col('Date') - pl.col('away.last.date').str.to_date()).dt.total_days().alias('away.day.last.match'))\n",
    "                   .drop('away.last.date')\n",
    " \n",
    "                    )"
   ]
  },
  {
   "cell_type": "markdown",
   "id": "4e195ca6-f838-41d8-9f7c-0c907a13f39c",
   "metadata": {},
   "source": [
    "### 7. Add Attacking/Defending/Opposition Numbers"
   ]
  },
  {
   "cell_type": "code",
   "execution_count": 28,
   "id": "33408d87-63d8-43af-9319-458a6c526eae",
   "metadata": {},
   "outputs": [],
   "source": [
    "#Get the goals scored and given away and the margin of each game. Add in the ladder positions as well\n",
    "matchesBothSidesStats = (matchesBothSides\n",
    "                 #Goals scored\n",
    "                 .with_columns((pl.col('team.A.score.goals') + (pl.col('team.A.score.behinds')*0.5)).alias('strength.attack'))\n",
    "                 #Goals given away\n",
    "                 .with_columns((pl.col('team.B.score.goals') + (pl.col('team.B.score.behinds')*0.5)).alias('strength.defense'))\n",
    "                 #goal diff , i.e. margin\n",
    "                 #.with_columns((pl.col('team.A.score.totalScore') - pl.col('team.B.score.totalScore')).abs().alias('margin'))\n",
    "                 #keep only what I want\n",
    "                 .select('compSeason.year', 'round.roundNumber', 'round.Id', 'team.A.club.id', 'team.A.name', 'team.B.club.id', 'team.B.name',\n",
    "                         'strength.attack', 'strength.defense', 'team.A.score.totalScore', 'team.B.score.totalScore')\n",
    "                 #Cast round.id to int rather an unsigned int\n",
    "                 .with_columns(pl.col('round.Id').cast(pl.Int32))\n",
    "            )   "
   ]
  },
  {
   "cell_type": "code",
   "execution_count": 29,
   "id": "5df8d491-43e3-4f29-88e5-4b712a480453",
   "metadata": {},
   "outputs": [],
   "source": [
    "#Get the goals scored and given away and the margin of each game. Add in the ladder positions as well\n",
    "matchStats = (matchesBothSides\n",
    "                 #Goals scored\n",
    "                 .with_columns((pl.col('team.A.score.goals') + (pl.col('team.A.score.behinds')*0.5)).alias('strength.attack'))\n",
    "                 #Goals given away\n",
    "                 .with_columns((pl.col('team.B.score.goals') + (pl.col('team.B.score.behinds')*0.5)).alias('strength.defense'))\n",
    "                 #keep only what I want\n",
    "                 .select('compSeason.year', 'round.roundNumber', 'round.Id', 'team.A.club.id', 'team.A.name', 'team.B.club.id', 'team.B.name',\n",
    "                         'strength.attack', 'strength.defense', 'team.A.score.totalScore', 'team.B.score.totalScore')\n",
    "                 #Cast round.id to int rather an unsigned int\n",
    "                 .with_columns(pl.col('round.Id').cast(pl.Int32))\n",
    "                 #Get the each teams rolling 5 game strength based on margin\n",
    "                 #get the previous 5 games margin average of opposition\n",
    "                 #Start with descending round.id for rolling groupby statements\n",
    "                 .sort(['team.A.name', 'round.Id'], descending=[False, True])\n",
    "                 #Try a rolling previous avg margin\n",
    "                 .sort('team.A.name', 'round.Id')\n",
    "                 .rolling(index_column='round.Id', period='5i', by='team.A.name')\n",
    "                 .agg(pl.col('team.A.score.totalScore').sum().alias('rolling.team.A.totalScore'),\n",
    "                 pl.col('team.B.score.totalScore').sum().alias('rolling.team.B.totalScore'))\n",
    "                 #get the avg margin\n",
    "                 .with_columns(((pl.col('rolling.team.A.totalScore') - pl.col('rolling.team.B.totalScore'))/5).alias('rolling.margin.avg'))\n",
    "                 #join back up to df\n",
    "                 .join(matchesBothSidesStats, how='left', on=['team.A.name', 'round.Id'])\n",
    "                 #arrange columns as desired\n",
    "                 .select('compSeason.year', 'round.Id', 'team.A.name', 'strength.attack',\n",
    "                         'strength.defense', 'rolling.margin.avg')\n",
    "                 #Get the previous 5 matches attacking strength\n",
    "                 .with_columns(pl.col('strength.attack').over('team.A.name').alias('strength.attack.t-1'),\n",
    "                               pl.col('strength.attack').shift(1).over('team.A.name').alias('strength.attack.t-2'),\n",
    "                               pl.col('strength.attack').shift(2).over('team.A.name').alias('strength.attack.t-3'),\n",
    "                               pl.col('strength.attack').shift(3).over('team.A.name').alias('strength.attack.t-4'),\n",
    "                               pl.col('strength.attack').shift(4).over('team.A.name').alias('strength.attack.t-5'))\n",
    "                 #Get the previous 5 matches defending strength\n",
    "                 .with_columns(pl.col('strength.defense').over('team.A.name').alias('strength.defense.t-1'),\n",
    "                               pl.col('strength.defense').shift(1).over('team.A.name').alias('strength.defense.t-2'),\n",
    "                               pl.col('strength.defense').shift(2).over('team.A.name').alias('strength.defense.t-3'),\n",
    "                               pl.col('strength.defense').shift(3).over('team.A.name').alias('strength.defense.t-4'),\n",
    "                               pl.col('strength.defense').shift(4).over('team.A.name').alias('strength.defense.t-5'))\n",
    "                 #drop the original strength metrics\n",
    "                 .drop('strength.attack', 'strength.defense')\n",
    "                            \n",
    "                 #Will need to grab only the most resent results\n",
    "                 .sort('compSeason.year', 'round.Id')\n",
    "                 .with_columns(pl.col('round.Id').max().over(pl.col('team.A.name')).alias('max.round'))\n",
    "                 .filter(pl.col('max.round') == pl.col('round.Id'))\n",
    "                 #remove unwanted columns\n",
    "                 .drop('compSeason.year', 'round.Id', 'max.round')\n",
    "\n",
    "                    \n",
    "                )"
   ]
  },
  {
   "cell_type": "code",
   "execution_count": 30,
   "id": "189838b1-fa37-4382-bdfd-21c6d1a66044",
   "metadata": {},
   "outputs": [],
   "source": [
    "fixtureADO = (fixtureDays\n",
    "     #join for home team\n",
    "     .join(matchStats, how='left',\n",
    "           left_on= 'home.team.name',\n",
    "           right_on= 'team.A.name')\n",
    " \n",
    "     #get past strengths of home team\n",
    "     .rename({'strength.attack.t-1' : 'home.attack.t-1',\n",
    "              'strength.attack.t-2' : 'home.attack.t-2',\n",
    "              'strength.attack.t-3' : 'home.attack.t-3',\n",
    "              'strength.attack.t-4' : 'home.attack.t-4',\n",
    "              'strength.attack.t-5' : 'home.attack.t-5',\n",
    "              'strength.defense.t-1' : 'home.defense.t-1',\n",
    "              'strength.defense.t-2' : 'home.defense.t-2',\n",
    "              'strength.defense.t-3' : 'home.defense.t-3',\n",
    "              'strength.defense.t-4' : 'home.defense.t-4',\n",
    "              'strength.defense.t-5' : 'home.defense.t-5',\n",
    "              #For the away team the oppositions strength\n",
    "              'rolling.margin.avg' : 'away.opposition.strength'})\n",
    " \n",
    "      #join for away team\n",
    "      .join(matchStats, how='left',\n",
    "           left_on='away.team.name',\n",
    "           right_on='team.A.name')\n",
    " \n",
    "      #get past strengths of away team\n",
    "      .rename({'strength.attack.t-1' : 'away.attack.t-1',\n",
    "              'strength.attack.t-2' : 'away.attack.t-2',\n",
    "              'strength.attack.t-3' : 'away.attack.t-3',\n",
    "              'strength.attack.t-4' : 'away.attack.t-4',\n",
    "              'strength.attack.t-5' : 'away.attack.t-5',\n",
    "              'strength.defense.t-1' : 'away.defense.t-1',\n",
    "              'strength.defense.t-2' : 'away.defense.t-2',\n",
    "              'strength.defense.t-3' : 'away.defense.t-3',\n",
    "              'strength.defense.t-4' : 'away.defense.t-4',\n",
    "              'strength.defense.t-5' : 'away.defense.t-5',\n",
    "              #For the home team the oppositions strength\n",
    "              'rolling.margin.avg' : 'home.opposition.strength'})\n",
    "            \n",
    "    )"
   ]
  },
  {
   "cell_type": "markdown",
   "id": "ecc13fc7-73bf-4340-a8ca-e5f3af71d876",
   "metadata": {},
   "source": [
    "### 8. Add Player Rankings"
   ]
  },
  {
   "cell_type": "code",
   "execution_count": 31,
   "id": "84dd1f55-23a5-4c48-9162-85eb161c082c",
   "metadata": {},
   "outputs": [
    {
     "name": "stdout",
     "output_type": "stream",
     "text": [
      "v Fetching match ids ... done\n",
      "v Finding player stats for 216 matches. ... done\n",
      "v Fetching match ids ... done\n",
      "v Finding player stats for 207 matches. ... done\n"
     ]
    }
   ],
   "source": [
    "%%R -o players\n",
    "seasonList <- c(2023, 2024)\n",
    "first <- TRUE\n",
    "for(s in seasonList) {\n",
    "    \n",
    "    df <- fetch_player_stats(season=s) %>% mutate('compSeason.year' = s) %>% select(compSeason.shortName, compSeason.year, round.roundNumber, teamId, team.name, player.playerId, player.givenName, player.surname, ratingPoints)\n",
    "\n",
    "    if (first) {\n",
    "        players <- df\n",
    "        first <- FALSE\n",
    "    }else{\n",
    "        players <- players %>% \n",
    "                      bind_rows(df)\n",
    "    }\n",
    "}\n",
    "    "
   ]
  },
  {
   "cell_type": "code",
   "execution_count": 32,
   "id": "1671872a-de90-4612-a8d7-4167c8538c06",
   "metadata": {},
   "outputs": [],
   "source": [
    "players = pl.from_pandas(players)"
   ]
  },
  {
   "cell_type": "code",
   "execution_count": 33,
   "id": "a0597867-d389-4cce-9bc6-40dcf039e6f4",
   "metadata": {},
   "outputs": [],
   "source": [
    "playerRoundIndex = (players\n",
    "     .filter(~pl.col('team.name').is_null())\n",
    "     .select('compSeason.year', 'round.roundNumber')\n",
    "     .unique()\n",
    "     .sort(['compSeason.year', 'round.roundNumber'])\n",
    "     .with_columns(pl.col('round.roundNumber').cum_count().cast(pl.Int32).alias('round.Id'))\n",
    ")"
   ]
  },
  {
   "cell_type": "code",
   "execution_count": 34,
   "id": "ac566c84-d7af-41ae-b129-6e1727b3685a",
   "metadata": {},
   "outputs": [],
   "source": [
    "#Create the base of the player ratings    FOR FUTURE IMPLINTATION\n",
    "#playerRatings = (players\n",
    "#                     .filter(~pl.col('player.playerId').is_null())\n",
    "#                     .join(playerRoundIndex, how='left', on=['compSeason.year', 'round.roundNumber'])\n",
    "#                     .sort('player.playerId', 'round.Id')\n",
    "#get sum of past 10 games\n",
    "#                     .rolling(index_column='round.Id', period='10i', by=['player.playerId', 'player.givenName', 'player.surname'])\n",
    "#                     .agg(pl.col('ratingPoints').sum().alias('rolling.player.points'))\n",
    "#                     .sort('player.playerId', 'round.Id')\n",
    "#                     #get the next round to join on\n",
    "#                     .with_columns(pl.col('round.Id').shift(-1).over('player.playerId').alias('round.nextRound'))\n",
    "#                    #join back up to get the team\n",
    "#                     .join(playerRoundIndex, how='left', on='round.Id')\n",
    "#                     .join(players.select('compSeason.year', 'round.roundNumber', 'teamId', 'team.name', 'player.playerId'),\n",
    "#                           on=['compSeason.year', 'round.roundNumber', 'player.playerId'])\n",
    "#                     .sort('player.playerId', 'round.Id')\n",
    "#                )"
   ]
  },
  {
   "cell_type": "code",
   "execution_count": 35,
   "id": "fe8c8d1b-4609-469d-969f-d1f9ed1d8778",
   "metadata": {},
   "outputs": [],
   "source": [
    "#get the sum of teams rating\n",
    "sumedteamRating = (players\n",
    "    .join(playerRoundIndex, how='left', on=['compSeason.year', 'round.roundNumber'])\n",
    "    .filter(~pl.col('team.name').is_null())\n",
    "    .group_by('team.name', 'round.Id')\n",
    "    .agg(pl.col('ratingPoints').sum())                   \n",
    "    .sort('team.name', 'round.Id')\n",
    "    .rolling(index_column='round.Id', period='10i', by=['team.name'])\n",
    "    .agg(pl.col('ratingPoints').sum().alias('rolling.ratingPoints'))\n",
    "    .with_columns(pl.col('round.Id').max().over('team.name').alias('lastRound'))\n",
    "    #only want most recent results\n",
    "    .filter(pl.col('round.Id') == pl.col('lastRound'))\n",
    "    #keep only what we want\n",
    "    .select('team.name', 'rolling.ratingPoints')\n",
    ")"
   ]
  },
  {
   "cell_type": "code",
   "execution_count": 36,
   "id": "57fcf491-db47-44b5-840b-78c06ead0ab7",
   "metadata": {},
   "outputs": [],
   "source": [
    "fixturePlayer = (fixtureADO     \n",
    "     #join home teams ratings\n",
    "     .join(sumedteamRating, how='left', left_on=['home.team.name'], right_on=['team.name'])\n",
    "     .rename({'rolling.ratingPoints' : 'home.team.playerPoints'})\n",
    "     #join away tea,s ratings\n",
    "     .join(sumedteamRating, how='left', left_on=['away.team.name'], right_on=['team.name'])\n",
    "     .rename({'rolling.ratingPoints' : 'away.team.playerPoints'})\n",
    ")"
   ]
  },
  {
   "cell_type": "markdown",
   "id": "d6721e69-f009-4a49-b429-06f97ac0abe0",
   "metadata": {},
   "source": [
    "### 9. Put everything in order"
   ]
  },
  {
   "cell_type": "code",
   "execution_count": 37,
   "id": "6c3d0fc5-71fe-4083-b8f0-54878b3f403f",
   "metadata": {},
   "outputs": [],
   "source": [
    "fixtureReady = (fixturePlayer\n",
    "             .select('home.bye.flag', 'home.ladder.position', 'home.elo.score', 'home.venue.portion', 'home.day.last.match', 'home.attack.t-1', 'home.attack.t-2',\n",
    "                   'home.attack.t-3', 'home.attack.t-4', 'home.attack.t-5', 'home.defense.t-1', 'home.defense.t-2', 'home.defense.t-3', 'home.defense.t-4', 'home.defense.t-5', 'home.opposition.strength',\n",
    "                   'home.team.playerPoints', 'away.bye.flag', 'away.ladder.position', 'away.elo.score', 'away.venue.portion', 'away.day.last.match', 'away.attack.t-1', 'away.attack.t-2',\n",
    "                   'away.attack.t-3', 'away.attack.t-4', 'away.attack.t-5', 'away.defense.t-1', 'away.defense.t-2', 'away.defense.t-3', 'away.defense.t-4', 'away.defense.t-5', 'away.opposition.strength',\n",
    "                   'away.team.playerPoints')            \n",
    "            )\n",
    "predictionReady = (fixturePlayer\n",
    "                      .select('home.team.name', 'away.team.name'))"
   ]
  },
  {
   "cell_type": "markdown",
   "id": "3f4cbf3c-88c2-48f0-b4b0-65f64a6b5778",
   "metadata": {},
   "source": [
    "### 10. Predict Outcomes & Probabilities"
   ]
  },
  {
   "cell_type": "code",
   "execution_count": 40,
   "id": "06ad48e3-fbbd-4dc1-b66c-fafa2db99a4e",
   "metadata": {},
   "outputs": [
    {
     "name": "stdout",
     "output_type": "stream",
     "text": [
      "shape: (4, 3)\n",
      "┌──────────────┬──────────────────┬──────────┐\n",
      "│ Round Number ┆ Predicted Winner ┆ Win Prob │\n",
      "│ ---          ┆ ---              ┆ ---      │\n",
      "│ i32          ┆ str              ┆ f64      │\n",
      "╞══════════════╪══════════════════╪══════════╡\n",
      "│ 0            ┆ Melbourne        ┆ 0.502667 │\n",
      "│ 0            ┆ Brisbane Lions   ┆ 0.684    │\n",
      "│ 0            ┆ Gold Coast Suns  ┆ 0.652    │\n",
      "│ 0            ┆ GWS Giants       ┆ 0.672    │\n",
      "└──────────────┴──────────────────┴──────────┘\n"
     ]
    },
    {
     "data": {
      "text/plain": [
       "<xlsxwriter.workbook.Workbook at 0x1f397d833d0>"
      ]
     },
     "execution_count": 40,
     "metadata": {},
     "output_type": "execute_result"
    }
   ],
   "source": [
    "#load the model in\n",
    "model = pickle.load(open('aflModel.sav', 'rb'))\n",
    "#predict the fixture\n",
    "predictions = model.predict(fixtureReady)\n",
    "probs = model.predict_proba(fixtureReady)\n",
    "#find prob of results\n",
    "\n",
    "#send to csv file\n",
    "predictionDF = (predictionReady\n",
    "                 #place in results\n",
    "                 .with_columns(pl.Series(predictions).alias('Predictions'),\n",
    "                               pl.Series(probs).alias('Probs'))\n",
    "                 #Winner probs\n",
    "                 .with_columns(pl.col('Probs').list.get(pl.col('Predictions')).alias('Win Prob'))\n",
    "                 .with_columns(pl.when(pl.col('Predictions') == 1).then(pl.col('home.team.name')).otherwise(pl.col('away.team.name')).alias('Predicted Winner'))\n",
    "                 #Add current round\n",
    "                 .with_columns(pl.lit(roundNum).alias('Round Number'))\n",
    "                 #keep only wants required\n",
    "                 .select('Round Number', 'Predicted Winner', 'Win Prob')\n",
    "                )\n",
    "\n",
    "print(predictionDF)\n",
    "predictionDF.write_excel(f'2024Predictions\\Round_{roundNum}.xlsx', autofit=True)"
   ]
  },
  {
   "cell_type": "code",
   "execution_count": null,
   "id": "c9f2313e-2716-458e-8fab-f5f7438db03a",
   "metadata": {},
   "outputs": [],
   "source": []
  }
 ],
 "metadata": {
  "kernelspec": {
   "display_name": "Python 3",
   "language": "python",
   "name": "python3"
  },
  "language_info": {
   "codemirror_mode": {
    "name": "ipython",
    "version": 3
   },
   "file_extension": ".py",
   "mimetype": "text/x-python",
   "name": "python",
   "nbconvert_exporter": "python",
   "pygments_lexer": "ipython3",
   "version": "3.8.8"
  }
 },
 "nbformat": 4,
 "nbformat_minor": 5
}
