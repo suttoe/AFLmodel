{
 "cells": [
  {
   "cell_type": "markdown",
   "id": "84aed36e-1e92-4a47-8290-3845fdccb100",
   "metadata": {},
   "source": [
    "# Let's get some predictions!"
   ]
  },
  {
   "cell_type": "code",
   "execution_count": 3,
   "id": "ca27dd75-c743-4510-889c-8b6b9341659e",
   "metadata": {},
   "outputs": [],
   "source": [
    "#packages\n",
    "import polars as pl\n",
    "import pickle\n",
    "import numpy as np\n",
    "import pandas as pd\n",
    "import xlsx2csv\n",
    "from sklearn.ensemble import RandomForestClassifier\n",
    "\n",
    "pl.Config.set_fmt_str_lengths(150);\n",
    "pl.Config.set_tbl_cols(40);"
   ]
  },
  {
   "cell_type": "code",
   "execution_count": 4,
   "id": "7e2f8eb4-b79c-44df-9f54-0cf28505e066",
   "metadata": {},
   "outputs": [
    {
     "name": "stderr",
     "output_type": "stream",
     "text": [
      "c:\\Users\\e_sut\\anaconda3\\lib\\site-packages\\rpy2\\robjects\\packages.py:366: UserWarning: The symbol 'quartz' is not in this R namespace/package.\n",
      "  warnings.warn(\n"
     ]
    }
   ],
   "source": [
    "#set up R extension\n",
    "%load_ext rpy2.ipython"
   ]
  },
  {
   "cell_type": "code",
   "execution_count": 90,
   "id": "c5759c58-507c-49b0-af5d-0a7f899e642b",
   "metadata": {},
   "outputs": [],
   "source": [
    "#set current values\n",
    "season = 2024\n",
    "roundNum = 11"
   ]
  },
  {
   "cell_type": "markdown",
   "id": "7fd2e8e8-f30a-4a52-98b0-07ac2937e145",
   "metadata": {},
   "source": [
    "### Update based on last round (unless last round is round 0) and bring in other useful things"
   ]
  },
  {
   "cell_type": "code",
   "execution_count": 91,
   "id": "348554c6-3a47-4f5f-9726-1e893a7e3076",
   "metadata": {},
   "outputs": [],
   "source": [
    "#Get Team index\n",
    "\n",
    "#load team array\n",
    "indexTeams = pl.read_excel('indexTeams.xlsx').with_columns(pl.col('team.A.name').replace(old=['GWS GIANTS', 'Gold Coast SUNS', 'Narrm', 'Yartapuulti', 'Walyalup', 'Euro-Yroke', 'Waalitj Marawar', 'Kuwarna'],\n",
    "                                          new=['GWS Giants', 'Gold Coast Suns', 'Melbourne', 'Port Adelaide', 'Fremantle', 'St Kilda', 'West Coast Eagles', 'Adelaide Crows']))"
   ]
  },
  {
   "cell_type": "code",
   "execution_count": 73,
   "id": "e1b71481-77d4-482a-999a-7cba17a24ad3",
   "metadata": {},
   "outputs": [],
   "source": [
    "#Get distnace travelled dataframe\n",
    "\n",
    "#load in distance array\n",
    "distanceTravelled = pl.read_excel('distanceTravelled.xlsx').with_columns(pl.col('team.name').replace(old=['GWS GIANTS', 'Gold Coast SUNS', 'Narrm', 'Yartapuulti', 'Walyalup', 'Euro-Yroke', 'Waalitj Marawar', 'Kuwarna'],\n",
    "                                          new=['GWS Giants', 'Gold Coast Suns', 'Melbourne', 'Port Adelaide', 'Fremantle', 'St Kilda', 'West Coast Eagles', 'Adelaide Crows']))"
   ]
  },
  {
   "cell_type": "code",
   "execution_count": 92,
   "id": "11f6b127",
   "metadata": {},
   "outputs": [],
   "source": [
    "#get results of past round\n",
    "if roundNum != 0:\n",
    "    pastRound = roundNum - 1\n",
    "else :\n",
    "    pastRound = roundNum"
   ]
  },
  {
   "cell_type": "code",
   "execution_count": 93,
   "id": "dd44a8c4-005d-409b-9d3d-c85365989890",
   "metadata": {},
   "outputs": [],
   "source": [
    "%%R -i season,pastRound -o results\n",
    "\n",
    "library(fitzRoy)\n",
    "library('dplyr')\n",
    "library('tidyr')\n",
    "\n",
    "results <- fetch_results_afl(season=season, round_number=pastRound) %>% select(match.date, round.roundNumber, venue.name, match.homeTeam.name, match.awayTeam.name,\n",
    "                                                                               round.year, homeTeamScore.matchScore.totalScore, homeTeamScore.matchScore.behinds,\n",
    "                                                                               homeTeamScore.matchScore.goals, awayTeamScore.matchScore.totalScore, awayTeamScore.matchScore.behinds,\n",
    "                                                                               awayTeamScore.matchScore.goals)      "
   ]
  },
  {
   "cell_type": "code",
   "execution_count": 94,
   "id": "eb2e3c07-b728-466d-a914-acb16c10ad78",
   "metadata": {},
   "outputs": [],
   "source": [
    "results = (pl.from_pandas(results)\n",
    "            .with_columns(pl.col('match.date').dt.date())\n",
    "            .rename({'match.date' : 'Date',\n",
    "                      'round.year' : 'compSeason.year',\n",
    "                      'homeTeamScore.matchScore.totalScore' : 'home.team.totalScore',\n",
    "                      'homeTeamScore.matchScore.behinds' : 'home.team.behinds',\n",
    "                      'homeTeamScore.matchScore.goals' : 'home.team.goals',\n",
    "                      'awayTeamScore.matchScore.totalScore' : 'away.team.totalScore',\n",
    "                      'awayTeamScore.matchScore.behinds' : 'away.team.behinds',\n",
    "                      'awayTeamScore.matchScore.goals' : 'away.team.goals',\n",
    "                      'match.homeTeam.name' : 'home.team.name',\n",
    "                      'match.awayTeam.name' : 'away.team.name'})\n",
    "             #cast to int64\n",
    "             .with_columns(pl.col('compSeason.year').cast(pl.Int64),\n",
    "                           pl.col('round.roundNumber').cast(pl.Int64),\n",
    "                           pl.col('home.team.totalScore').cast(pl.Int64),\n",
    "                           pl.col('home.team.behinds').cast(pl.Int64),\n",
    "                           pl.col('home.team.goals').cast(pl.Int64),\n",
    "                           pl.col('away.team.totalScore').cast(pl.Int64),\n",
    "                           pl.col('away.team.behinds').cast(pl.Int64),\n",
    "                           pl.col('away.team.goals').cast(pl.Int64))\n",
    "             #convert any team names that require as much\n",
    "             .with_columns(pl.col('home.team.name').replace(old=['GWS GIANTS', 'Gold Coast SUNS', 'Narrm', 'Yartapuulti', 'Walyalup', 'Euro-Yroke', 'Waalitj Marawar', 'Kuwarna'],\n",
    "                                          new=['GWS Giants', 'Gold Coast Suns', 'Melbourne', 'Port Adelaide', 'Fremantle', 'St Kilda', 'West Coast Eagles', 'Adelaide Crows']))\n",
    "             .with_columns(pl.col('away.team.name').replace(old=['GWS GIANTS', 'Gold Coast SUNS', 'Narrm', 'Yartapuulti', 'Walyalup', 'Euro-Yroke', 'Waalitj Marawar', 'Kuwarna'],\n",
    "                                          new=['GWS Giants', 'Gold Coast Suns', 'Melbourne', 'Port Adelaide', 'Fremantle', 'St Kilda', 'West Coast Eagles', 'Adelaide Crows']))\n",
    "             #Add the indexs\n",
    "             .join(indexTeams, how='left', left_on='home.team.name', right_on='team.A.name')\n",
    "             .rename({'EloIndex' : 'home.team.id'})\n",
    "             .join(indexTeams, how='left', left_on='away.team.name', right_on='team.A.name')\n",
    "             .rename({'EloIndex' : 'away.team.id'})\n",
    "        )"
   ]
  },
  {
   "cell_type": "code",
   "execution_count": 441,
   "id": "fa0168da-a787-4cf3-977a-2200551d7e13",
   "metadata": {},
   "outputs": [],
   "source": [
    "#create a function to find a teams prediction\n",
    "def eloTeamPrediction(ratingTeamA, ratingTeamB):\n",
    "    exp = (-1*(ratingTeamA - ratingTeamB))/400\n",
    "    b = 1 + 10 ** exp\n",
    "    result = 1/b\n",
    "    return result"
   ]
  },
  {
   "cell_type": "code",
   "execution_count": 442,
   "id": "435ac648-016d-49d9-a0eb-cd728cfb7227",
   "metadata": {},
   "outputs": [],
   "source": [
    "#create a function to find the teams result, inital B = 0.004 per Multifactorial analysis of factors influencing elite australian football match outcomes: a machine learning approach\n",
    "def eloTeamResult(scoreTeamA, scoreTeamB):\n",
    "    exp = -0.04*(scoreTeamA - scoreTeamB)\n",
    "    b = 1 + np.exp(exp)\n",
    "    result = 1/b\n",
    "    return result"
   ]
  },
  {
   "cell_type": "code",
   "execution_count": 443,
   "id": "15b34dd1-786a-49a6-b358-084251ca39c5",
   "metadata": {},
   "outputs": [],
   "source": [
    "#Create a function to get change in teams elo, set K=67.559 per Multifactorial analysis of factors influencing elite australian football match outcomes: a machine learning approach\n",
    "def eloChange(scoreTeamA, scoreTeamB, ratingTeamA, ratingTeamB):\n",
    "    #get Team prediction\n",
    "    prediction = eloTeamPrediction(ratingTeamA, ratingTeamB)\n",
    "    \n",
    "    #get actual result\n",
    "    actual = eloTeamResult(scoreTeamA , scoreTeamB)\n",
    "    \n",
    "    #get elo change\n",
    "    result = 20*(actual - prediction)\n",
    "    \n",
    "    #get new elo\n",
    "    newElo = ratingTeamA + result\n",
    "\n",
    "    return newElo"
   ]
  },
  {
   "cell_type": "code",
   "execution_count": 444,
   "id": "3821e425-0138-4923-b140-4239fc0b6fdc",
   "metadata": {},
   "outputs": [],
   "source": [
    "def eloNumber(indexA, indexB, scoreA, scoreB):\n",
    "\n",
    "        #Get the new elo score for both teams\n",
    "        eloA = eloChange(scoreA, scoreB, eloScores[indexA], eloScores[indexB])\n",
    "        eloB = eloChange(scoreB, scoreA, eloScores[indexB], eloScores[indexA])\n",
    "        #Update list of list to reflect the new score\n",
    "        eloScores[indexA] = eloA\n",
    "        eloScores[indexB] = eloB\n",
    "        "
   ]
  },
  {
   "cell_type": "code",
   "execution_count": 445,
   "id": "8bf707ff-6630-443e-a821-6250cb8426b7",
   "metadata": {},
   "outputs": [],
   "source": [
    "#Update elo scores\n",
    "#load the current elo score\n",
    "with open(\"eloScores\", \"rb\") as fp:   # Unpickling\n",
    "    eloScores = pickle.load(fp)\n",
    "\n",
    "\n",
    "#update based on past round\n",
    "if roundNum != 0:\n",
    "    results.with_columns(pl.struct(['home.team.id', 'away.team.id', 'home.team.totalScore', 'away.team.totalScore'])\n",
    "                           .map_elements(lambda x: eloNumber(x['home.team.id'], x['away.team.id'], x['home.team.totalScore'], x['away.team.totalScore'])))\n",
    "#save updated elo scores\n",
    "with open(\"eloScores\", \"wb\") as fp:\n",
    "    pickle.dump(eloScores, fp)"
   ]
  },
  {
   "cell_type": "code",
   "execution_count": 446,
   "id": "1623ee43-e453-4e5d-b61c-df5ffc280ed9",
   "metadata": {},
   "outputs": [
    {
     "data": {
      "text/plain": [
       "<xlsxwriter.workbook.Workbook at 0x246e1ed1ee0>"
      ]
     },
     "execution_count": 446,
     "metadata": {},
     "output_type": "execute_result"
    }
   ],
   "source": [
    "#Get match date & update\n",
    "\n",
    "#load in match dates\n",
    "matchDays = pl.read_excel('matchDay.xlsx')\n",
    "#update based on teams that played\n",
    "if roundNum != 0:\n",
    "    matchDays = (matchDays\n",
    "                    .with_columns(pl.col('Team').replace(old=['GWS GIANTS', 'Gold Coast SUNS', 'Narrm', 'Yartapuulti', 'Walyalup', 'Euro-Yroke', 'Waalitj Marawar', 'Kuwarna'],\n",
    "                                          new=['GWS Giants', 'Gold Coast Suns', 'Melbourne', 'Port Adelaide', 'Fremantle', 'St Kilda', 'West Coast Eagles', 'Adelaide Crows']))\n",
    "                    .join(results.melt(id_vars='Date', value_vars=['home.team.name', 'away.team.name'], value_name='team.name').select('Date', 'team.name'),\n",
    "                          how='left',\n",
    "                          left_on='Team',\n",
    "                          right_on='team.name')\n",
    "                     .with_columns(pl.when(pl.col('Date_right').is_null()).then(pl.col('Date')).otherwise(pl.col('Date_right')).alias('Date'))\n",
    "                     .drop('Date_right')\n",
    "                )\n",
    "    \n",
    "#save updated version\n",
    "matchDays.write_excel('matchDay.xlsx')"
   ]
  },
  {
   "cell_type": "code",
   "execution_count": 95,
   "id": "a04b5f2f-74e5-42f4-83cd-eed85ec2b45e",
   "metadata": {},
   "outputs": [
    {
     "name": "stdout",
     "output_type": "stream",
     "text": [
      "['compSeason.year', 'round.roundNumber', 'venue.name', 'team.A.club.id', 'team.A.name', 'team.A.score.totalScore', 'team.A.score.goals', 'team.A.score.behinds', 'team.B.club.id', 'team.B.name', 'team.B.score.totalScore', 'team.B.score.goals', 'team.B.score.behinds', 'round.Id']\n"
     ]
    },
    {
     "data": {
      "text/html": [
       "<div><style>\n",
       ".dataframe > thead > tr,\n",
       ".dataframe > tbody > tr {\n",
       "  text-align: right;\n",
       "  white-space: pre-wrap;\n",
       "}\n",
       "</style>\n",
       "<small>shape: (9, 14)</small><table border=\"1\" class=\"dataframe\"><thead><tr><th>compSeason.year</th><th>round.roundNumber</th><th>venue.name</th><th>team.A.club.id</th><th>team.A.name</th><th>team.A.score.totalScore</th><th>team.A.score.goals</th><th>team.A.score.behinds</th><th>team.B.club.id</th><th>team.B.name</th><th>team.B.score.totalScore</th><th>team.B.score.goals</th><th>team.B.score.behinds</th><th>round.Id</th></tr><tr><td>i64</td><td>i64</td><td>str</td><td>i64</td><td>str</td><td>i64</td><td>i64</td><td>i64</td><td>i64</td><td>str</td><td>i64</td><td>i64</td><td>i64</td><td>u32</td></tr></thead><tbody><tr><td>2024</td><td>10</td><td>&quot;TIO Stadium&quot;</td><td>9</td><td>&quot;Geelong Cats&quot;</td><td>100</td><td>15</td><td>10</td><td>4</td><td>&quot;Gold Coast Suns&quot;</td><td>164</td><td>26</td><td>8</td><td>39</td></tr><tr><td>2024</td><td>10</td><td>&quot;SCG&quot;</td><td>0</td><td>&quot;Carlton&quot;</td><td>65</td><td>9</td><td>11</td><td>16</td><td>&quot;Sydney Swans&quot;</td><td>117</td><td>17</td><td>15</td><td>39</td></tr><tr><td>2024</td><td>10</td><td>&quot;MCG&quot;</td><td>1</td><td>&quot;Adelaide Crows&quot;</td><td>74</td><td>11</td><td>8</td><td>6</td><td>&quot;Collingwood&quot;</td><td>78</td><td>12</td><td>6</td><td>39</td></tr><tr><td>2024</td><td>10</td><td>&quot;ENGIE Stadium&quot;</td><td>17</td><td>&quot;Western Bulldogs&quot;</td><td>70</td><td>8</td><td>22</td><td>2</td><td>&quot;GWS Giants&quot;</td><td>43</td><td>6</td><td>7</td><td>39</td></tr><tr><td>2024</td><td>10</td><td>&quot;Marvel Stadium&quot;</td><td>3</td><td>&quot;Fremantle&quot;</td><td>72</td><td>9</td><td>18</td><td>13</td><td>&quot;St Kilda&quot;</td><td>55</td><td>8</td><td>7</td><td>39</td></tr><tr><td>2024</td><td>10</td><td>&quot;Gabba&quot;</td><td>14</td><td>&quot;Richmond&quot;</td><td>44</td><td>6</td><td>8</td><td>7</td><td>&quot;Brisbane Lions&quot;</td><td>163</td><td>26</td><td>7</td><td>39</td></tr><tr><td>2024</td><td>10</td><td>&quot;Marvel Stadium&quot;</td><td>12</td><td>&quot;North Melbourne&quot;</td><td>66</td><td>10</td><td>6</td><td>5</td><td>&quot;Essendon&quot;</td><td>106</td><td>16</td><td>10</td><td>39</td></tr><tr><td>2024</td><td>10</td><td>&quot;Adelaide Oval&quot;</td><td>10</td><td>&quot;Hawthorn&quot;</td><td>79</td><td>12</td><td>7</td><td>11</td><td>&quot;Port Adelaide&quot;</td><td>80</td><td>11</td><td>14</td><td>39</td></tr><tr><td>2024</td><td>10</td><td>&quot;Optus Stadium&quot;</td><td>8</td><td>&quot;Melbourne&quot;</td><td>70</td><td>10</td><td>10</td><td>15</td><td>&quot;West Coast Eagles&quot;</td><td>105</td><td>16</td><td>9</td><td>39</td></tr></tbody></table></div>"
      ],
      "text/plain": [
       "shape: (9, 14)\n",
       "┌─────┬─────┬─────┬─────┬─────┬─────┬─────┬────────┬───────┬───────┬───────┬───────┬───────┬───────┐\n",
       "│ com ┆ rou ┆ ven ┆ tea ┆ tea ┆ tea ┆ tea ┆ team.A ┆ team. ┆ team. ┆ team. ┆ team. ┆ team. ┆ round │\n",
       "│ pSe ┆ nd. ┆ ue. ┆ m.A ┆ m.A ┆ m.A ┆ m.A ┆ .score ┆ B.clu ┆ B.nam ┆ B.sco ┆ B.sco ┆ B.sco ┆ .Id   │\n",
       "│ aso ┆ rou ┆ nam ┆ .cl ┆ .na ┆ .sc ┆ .sc ┆ .behin ┆ b.id  ┆ e     ┆ re.to ┆ re.go ┆ re.be ┆ ---   │\n",
       "│ n.y ┆ ndN ┆ e   ┆ ub. ┆ me  ┆ ore ┆ ore ┆ ds     ┆ ---   ┆ ---   ┆ talSc ┆ als   ┆ hinds ┆ u32   │\n",
       "│ ear ┆ umb ┆ --- ┆ id  ┆ --- ┆ .to ┆ .go ┆ ---    ┆ i64   ┆ str   ┆ ore   ┆ ---   ┆ ---   ┆       │\n",
       "│ --- ┆ er  ┆ str ┆ --- ┆ str ┆ tal ┆ als ┆ i64    ┆       ┆       ┆ ---   ┆ i64   ┆ i64   ┆       │\n",
       "│ i64 ┆ --- ┆     ┆ i64 ┆     ┆ Sco ┆ --- ┆        ┆       ┆       ┆ i64   ┆       ┆       ┆       │\n",
       "│     ┆ i64 ┆     ┆     ┆     ┆ re  ┆ i64 ┆        ┆       ┆       ┆       ┆       ┆       ┆       │\n",
       "│     ┆     ┆     ┆     ┆     ┆ --- ┆     ┆        ┆       ┆       ┆       ┆       ┆       ┆       │\n",
       "│     ┆     ┆     ┆     ┆     ┆ i64 ┆     ┆        ┆       ┆       ┆       ┆       ┆       ┆       │\n",
       "╞═════╪═════╪═════╪═════╪═════╪═════╪═════╪════════╪═══════╪═══════╪═══════╪═══════╪═══════╪═══════╡\n",
       "│ 202 ┆ 10  ┆ TIO ┆ 9   ┆ Gee ┆ 100 ┆ 15  ┆ 10     ┆ 4     ┆ Gold  ┆ 164   ┆ 26    ┆ 8     ┆ 39    │\n",
       "│ 4   ┆     ┆ Sta ┆     ┆ lon ┆     ┆     ┆        ┆       ┆ Coast ┆       ┆       ┆       ┆       │\n",
       "│     ┆     ┆ diu ┆     ┆ g   ┆     ┆     ┆        ┆       ┆ Suns  ┆       ┆       ┆       ┆       │\n",
       "│     ┆     ┆ m   ┆     ┆ Cat ┆     ┆     ┆        ┆       ┆       ┆       ┆       ┆       ┆       │\n",
       "│     ┆     ┆     ┆     ┆ s   ┆     ┆     ┆        ┆       ┆       ┆       ┆       ┆       ┆       │\n",
       "│ 202 ┆ 10  ┆ SCG ┆ 0   ┆ Car ┆ 65  ┆ 9   ┆ 11     ┆ 16    ┆ Sydne ┆ 117   ┆ 17    ┆ 15    ┆ 39    │\n",
       "│ 4   ┆     ┆     ┆     ┆ lto ┆     ┆     ┆        ┆       ┆ y     ┆       ┆       ┆       ┆       │\n",
       "│     ┆     ┆     ┆     ┆ n   ┆     ┆     ┆        ┆       ┆ Swans ┆       ┆       ┆       ┆       │\n",
       "│ 202 ┆ 10  ┆ MCG ┆ 1   ┆ Ade ┆ 74  ┆ 11  ┆ 8      ┆ 6     ┆ Colli ┆ 78    ┆ 12    ┆ 6     ┆ 39    │\n",
       "│ 4   ┆     ┆     ┆     ┆ lai ┆     ┆     ┆        ┆       ┆ ngwoo ┆       ┆       ┆       ┆       │\n",
       "│     ┆     ┆     ┆     ┆ de  ┆     ┆     ┆        ┆       ┆ d     ┆       ┆       ┆       ┆       │\n",
       "│     ┆     ┆     ┆     ┆ Cro ┆     ┆     ┆        ┆       ┆       ┆       ┆       ┆       ┆       │\n",
       "│     ┆     ┆     ┆     ┆ ws  ┆     ┆     ┆        ┆       ┆       ┆       ┆       ┆       ┆       │\n",
       "│ 202 ┆ 10  ┆ ENG ┆ 17  ┆ Wes ┆ 70  ┆ 8   ┆ 22     ┆ 2     ┆ GWS   ┆ 43    ┆ 6     ┆ 7     ┆ 39    │\n",
       "│ 4   ┆     ┆ IE  ┆     ┆ ter ┆     ┆     ┆        ┆       ┆ Giant ┆       ┆       ┆       ┆       │\n",
       "│     ┆     ┆ Sta ┆     ┆ n   ┆     ┆     ┆        ┆       ┆ s     ┆       ┆       ┆       ┆       │\n",
       "│     ┆     ┆ diu ┆     ┆ Bul ┆     ┆     ┆        ┆       ┆       ┆       ┆       ┆       ┆       │\n",
       "│     ┆     ┆ m   ┆     ┆ ldo ┆     ┆     ┆        ┆       ┆       ┆       ┆       ┆       ┆       │\n",
       "│     ┆     ┆     ┆     ┆ gs  ┆     ┆     ┆        ┆       ┆       ┆       ┆       ┆       ┆       │\n",
       "│ 202 ┆ 10  ┆ Mar ┆ 3   ┆ Fre ┆ 72  ┆ 9   ┆ 18     ┆ 13    ┆ St    ┆ 55    ┆ 8     ┆ 7     ┆ 39    │\n",
       "│ 4   ┆     ┆ vel ┆     ┆ man ┆     ┆     ┆        ┆       ┆ Kilda ┆       ┆       ┆       ┆       │\n",
       "│     ┆     ┆ Sta ┆     ┆ tle ┆     ┆     ┆        ┆       ┆       ┆       ┆       ┆       ┆       │\n",
       "│     ┆     ┆ diu ┆     ┆     ┆     ┆     ┆        ┆       ┆       ┆       ┆       ┆       ┆       │\n",
       "│     ┆     ┆ m   ┆     ┆     ┆     ┆     ┆        ┆       ┆       ┆       ┆       ┆       ┆       │\n",
       "│ 202 ┆ 10  ┆ Gab ┆ 14  ┆ Ric ┆ 44  ┆ 6   ┆ 8      ┆ 7     ┆ Brisb ┆ 163   ┆ 26    ┆ 7     ┆ 39    │\n",
       "│ 4   ┆     ┆ ba  ┆     ┆ hmo ┆     ┆     ┆        ┆       ┆ ane   ┆       ┆       ┆       ┆       │\n",
       "│     ┆     ┆     ┆     ┆ nd  ┆     ┆     ┆        ┆       ┆ Lions ┆       ┆       ┆       ┆       │\n",
       "│ 202 ┆ 10  ┆ Mar ┆ 12  ┆ Nor ┆ 66  ┆ 10  ┆ 6      ┆ 5     ┆ Essen ┆ 106   ┆ 16    ┆ 10    ┆ 39    │\n",
       "│ 4   ┆     ┆ vel ┆     ┆ th  ┆     ┆     ┆        ┆       ┆ don   ┆       ┆       ┆       ┆       │\n",
       "│     ┆     ┆ Sta ┆     ┆ Mel ┆     ┆     ┆        ┆       ┆       ┆       ┆       ┆       ┆       │\n",
       "│     ┆     ┆ diu ┆     ┆ bou ┆     ┆     ┆        ┆       ┆       ┆       ┆       ┆       ┆       │\n",
       "│     ┆     ┆ m   ┆     ┆ rne ┆     ┆     ┆        ┆       ┆       ┆       ┆       ┆       ┆       │\n",
       "│ 202 ┆ 10  ┆ Ade ┆ 10  ┆ Haw ┆ 79  ┆ 12  ┆ 7      ┆ 11    ┆ Port  ┆ 80    ┆ 11    ┆ 14    ┆ 39    │\n",
       "│ 4   ┆     ┆ lai ┆     ┆ tho ┆     ┆     ┆        ┆       ┆ Adela ┆       ┆       ┆       ┆       │\n",
       "│     ┆     ┆ de  ┆     ┆ rn  ┆     ┆     ┆        ┆       ┆ ide   ┆       ┆       ┆       ┆       │\n",
       "│     ┆     ┆ Ova ┆     ┆     ┆     ┆     ┆        ┆       ┆       ┆       ┆       ┆       ┆       │\n",
       "│     ┆     ┆ l   ┆     ┆     ┆     ┆     ┆        ┆       ┆       ┆       ┆       ┆       ┆       │\n",
       "│ 202 ┆ 10  ┆ Opt ┆ 8   ┆ Mel ┆ 70  ┆ 10  ┆ 10     ┆ 15    ┆ West  ┆ 105   ┆ 16    ┆ 9     ┆ 39    │\n",
       "│ 4   ┆     ┆ us  ┆     ┆ bou ┆     ┆     ┆        ┆       ┆ Coast ┆       ┆       ┆       ┆       │\n",
       "│     ┆     ┆ Sta ┆     ┆ rne ┆     ┆     ┆        ┆       ┆ Eagle ┆       ┆       ┆       ┆       │\n",
       "│     ┆     ┆ diu ┆     ┆     ┆     ┆     ┆        ┆       ┆ s     ┆       ┆       ┆       ┆       │\n",
       "│     ┆     ┆ m   ┆     ┆     ┆     ┆     ┆        ┆       ┆       ┆       ┆       ┆       ┆       │\n",
       "└─────┴─────┴─────┴─────┴─────┴─────┴─────┴────────┴───────┴───────┴───────┴───────┴───────┴───────┘"
      ]
     },
     "execution_count": 95,
     "metadata": {},
     "output_type": "execute_result"
    }
   ],
   "source": [
    "#Get all matches both sides & update\n",
    "\n",
    "#load in past years matches both sides\n",
    "matchesBothSides = pl.read_excel('matchesBothSides.xlsx').drop('round.Id_right')\n",
    "print(matchesBothSides.columns)\n",
    "#update based on past results\n",
    "if roundNum != 0:\n",
    "    matchesBothSides = (matchesBothSides\n",
    "                        .with_columns(pl.col('team.A.name').replace(old=['GWS GIANTS', 'Gold Coast SUNS', 'Narrm', 'Yartapuulti', 'Walyalup', 'Euro-Yroke', 'Waalitj Marawar', 'Kuwarna'],\n",
    "                                          new=['GWS Giants', 'Gold Coast Suns', 'Melbourne', 'Port Adelaide', 'Fremantle', 'St Kilda', 'West Coast Eagles', 'Adelaide Crows']),\n",
    "                                        pl.col('team.B.name').replace(old=['GWS GIANTS', 'Gold Coast SUNS', 'Narrm', 'Yartapuulti', 'Walyalup', 'Euro-Yroke', 'Waalitj Marawar', 'Kuwarna'],\n",
    "                                          new=['GWS Giants', 'Gold Coast Suns', 'Melbourne', 'Port Adelaide', 'Fremantle', 'St Kilda', 'West Coast Eagles', 'Adelaide Crows']))\n",
    "                         .drop('round.Id')\n",
    "                         .vstack((results\n",
    "                         .select('compSeason.year', 'round.roundNumber', 'venue.name', 'home.team.id', 'home.team.name', 'home.team.totalScore',\n",
    "                                 'home.team.goals', 'home.team.behinds', 'away.team.id', 'away.team.name', 'away.team.totalScore', 'away.team.goals', 'away.team.behinds')\n",
    "                         .rename({'home.team.name': 'team.A.name',\n",
    "                                  'home.team.id' : 'team.A.club.id',\n",
    "                                  'home.team.totalScore' : 'team.A.score.totalScore',\n",
    "                                  'home.team.goals' : 'team.A.score.goals',\n",
    "                                  'home.team.behinds' : 'team.A.score.behinds',\n",
    "                                  'away.team.name': 'team.B.name',\n",
    "                                  'away.team.id' : 'team.B.club.id',\n",
    "                                  'away.team.totalScore' : 'team.B.score.totalScore',\n",
    "                                  'away.team.goals' : 'team.B.score.goals',\n",
    "                                  'away.team.behinds' : 'team.B.score.behinds'})\n",
    "                         .vstack(results\n",
    "                                    .select('compSeason.year', 'round.roundNumber', 'venue.name', 'away.team.id', 'away.team.name', 'away.team.totalScore',\n",
    "                                            'away.team.goals', 'away.team.behinds', 'home.team.id', 'home.team.name', 'home.team.totalScore', 'home.team.goals', 'home.team.behinds')\n",
    "                                    .rename({'home.team.name': 'team.B.name',\n",
    "                                              'home.team.id' : 'team.B.club.id',\n",
    "                                              'home.team.totalScore' : 'team.B.score.totalScore',\n",
    "                                              'home.team.goals' : 'team.B.score.goals',\n",
    "                                              'home.team.behinds' : 'team.B.score.behinds',\n",
    "                                              'away.team.name': 'team.A.name',\n",
    "                                              'away.team.id' : 'team.A.club.id',\n",
    "                                              'away.team.totalScore' : 'team.A.score.totalScore',\n",
    "                                              'away.team.goals' : 'team.A.score.goals',\n",
    "                                              'away.team.behinds' : 'team.A.score.behinds'}))\n",
    "                                        ))\n",
    "                         .sort('compSeason.year', 'round.roundNumber')   \n",
    "                        )\n",
    "#sort out the round id\n",
    "roundId = (matchesBothSides\n",
    "             .select('compSeason.year', 'round.roundNumber')\n",
    "             .unique()\n",
    "             .sort('compSeason.year', 'round.roundNumber')\n",
    "             .with_columns(pl.col('round.roundNumber').cum_count().alias('round.Id'))\n",
    "          )\n",
    "#Add in the roundId\n",
    "matchesBothSides = (matchesBothSides\n",
    "                      #.drop('round.Id') #remove for round 0\n",
    "                      .join(roundId, how='left', on=['compSeason.year', 'round.roundNumber']))\n",
    "#save updated version\n",
    "matchesBothSides.write_excel('matchesBothSides.xlsx')"
   ]
  },
  {
   "cell_type": "code",
   "execution_count": 448,
   "id": "232dac89",
   "metadata": {},
   "outputs": [],
   "source": [
    "matchesBothSides = matchesBothSides.with_columns(pl.col('team.A.name').replace(old=['GWS GIANTS', 'Gold Coast SUNS', 'Narrm', 'Yartapuulti', 'Walyalup', 'Euro-Yroke', 'Waalitj Marawar', 'Kuwarna'],\n",
    "                                          new=['GWS Giants', 'Gold Coast Suns', 'Melbourne', 'Port Adelaide', 'Fremantle', 'St Kilda', 'West Coast Eagles', 'Adelaide Crows']),\n",
    "                                   pl.col('team.B.name').replace(old=['GWS GIANTS', 'Gold Coast SUNS', 'Narrm', 'Yartapuulti', 'Walyalup', 'Euro-Yroke', 'Waalitj Marawar', 'Kuwarna'],\n",
    "                                          new=['GWS Giants', 'Gold Coast Suns', 'Melbourne', 'Port Adelaide', 'Fremantle', 'St Kilda', 'West Coast Eagles', 'Adelaide Crows']))"
   ]
  },
  {
   "cell_type": "markdown",
   "id": "9bff5c49-df92-45be-8018-2c837d33d31b",
   "metadata": {},
   "source": [
    "### 1. Basic Info first"
   ]
  },
  {
   "cell_type": "code",
   "execution_count": 449,
   "id": "eb4688d2-2ec8-4fe1-8bdd-2b7b288306ce",
   "metadata": {},
   "outputs": [
    {
     "name": "stdout",
     "output_type": "stream",
     "text": [
      "i Returning data for \"Round 11, 2024\"\n"
     ]
    },
    {
     "name": "stdout",
     "output_type": "stream",
     "text": [
      "v Returning data for \"Round 11, 2024\" ... done\n",
      "\n",
      "i Returning data for \"Round 10, 2024\"\n",
      "v Returning data for \"Round 10, 2024\" ... done\n",
      "\n"
     ]
    }
   ],
   "source": [
    "%%R -i season,roundNum -o fixture,fixtureBye\n",
    "\n",
    "library('tidyverse')\n",
    "\n",
    "fixture <- fetch_fixture(season=season, round_number=roundNum)\n",
    "\n",
    "if (roundNum != 0){\n",
    "    fixtureBye <- fetch_fixture(season=season, round_number=(roundNum-1)) %>% \n",
    "                        select(compSeason.id, compSeason.year, round.roundNumber, round.byes) %>%\n",
    "                        unnest(round.byes) %>%\n",
    "                        distinct() %>%\n",
    "                        mutate(round.currentRound = round.roundNumber + 1,\n",
    "                               ByeFlag = 1)\n",
    "\n",
    "    if (nrow(fixtureBye) == 0){\n",
    "\n",
    "        fixtureBye <- 0 \n",
    "    }else{\n",
    "        fixturebye <- fixtureBye %>%\n",
    "                        select(round.currentRound, club.name, ByeFlag)\n",
    "    }\n",
    "}else{\n",
    "fixtureBye <- 0\n",
    "}\n",
    "\n",
    "fixture <- fixture %>% select(-round.byes)"
   ]
  },
  {
   "cell_type": "code",
   "execution_count": 450,
   "id": "bd12ca05-203d-45d8-aa0e-2e1be10a881e",
   "metadata": {},
   "outputs": [
    {
     "data": {
      "text/plain": [
       "array([0.])"
      ]
     },
     "execution_count": 450,
     "metadata": {},
     "output_type": "execute_result"
    }
   ],
   "source": [
    "fixtureBye"
   ]
  },
  {
   "cell_type": "code",
   "execution_count": 451,
   "id": "517a0b75-35d1-4c2f-a3a4-0856fd01fdfc",
   "metadata": {},
   "outputs": [],
   "source": [
    "#Add in bye flag if exists (i.e. not first round of the season)\n",
    "if roundNum != 0 :\n",
    "    #check if any byes previous round\n",
    "    if isinstance(fixtureBye, pd.DataFrame):\n",
    "        #Clean and prep the season bye info\n",
    "        fixtureBye = (pl.from_pandas(fixtureBye)\n",
    "                          .drop('club.id')\n",
    "                          .with_columns(pl.col('round.currentRound').cast(pl.Int32))\n",
    "                          #convert any team names that require as much\n",
    "                          .with_columns(pl.col('name').replace(old=['GWS GIANTS', 'Gold Coast SUNS', 'Narrm', 'Yartapuulti', 'Walyalup', 'Euro-Yroke', 'Waalitj Marawar', 'Kuwarna'],\n",
    "                                          new=['GWS Giants', 'Gold Coast Suns', 'Melbourne', 'Port Adelaide', 'Fremantle', 'St Kilda', 'West Coast Eagles', 'Adelaide Crows']),\n",
    "                                   pl.col('club.name').replace(old=['GWS GIANTS', 'Gold Coast SUNS', 'Narrm', 'Yartapuulti', 'Walyalup', 'Euro-Yroke', 'Waalitj Marawar', 'Kuwarna'],\n",
    "                                          new=['GWS Giants', 'Gold Coast Suns', 'Melbourne', 'Port Adelaide', 'Fremantle', 'St Kilda', 'West Coast Eagles', 'Adelaide Crows']))\n",
    "                     )"
   ]
  },
  {
   "cell_type": "code",
   "execution_count": 477,
   "id": "62540054-8294-4b90-b23e-f5368b1cf92e",
   "metadata": {},
   "outputs": [],
   "source": [
    "#The inital cleaning working with the gneral match details. We can use this as our base for creating the desired attributes\n",
    "if roundNum != 0 and isinstance(fixtureBye, pd.DataFrame):\n",
    "    fixtureBase = (pl.from_pandas(fixture)\n",
    "                .sort('round.id')\n",
    "                #Keep only the columns we want\n",
    "                .select('round.roundNumber', 'utcStartTime', 'home.team.name',\n",
    "                        'away.team.name', 'venue.id', 'venue.name', 'venue.state')\n",
    "                #convert any team names that require as much\n",
    "                .with_columns(pl.col('home.team.name').replace(old=['GWS GIANTS', 'Gold Coast SUNS', 'Narrm', 'Yartapuulti', 'Walyalup', 'Euro-Yroke', 'Waalitj Marawar', 'Kuwarna'],\n",
    "                                          new=['GWS Giants', 'Gold Coast Suns', 'Melbourne', 'Port Adelaide', 'Fremantle', 'St Kilda', 'West Coast Eagles', 'Adelaide Crows']))\n",
    "                .with_columns(pl.col('away.team.name').replace(old=['GWS GIANTS', 'Gold Coast SUNS', 'Narrm', 'Yartapuulti', 'Walyalup', 'Euro-Yroke', 'Waalitj Marawar', 'Kuwarna'],\n",
    "                                          new=['GWS Giants', 'Gold Coast Suns', 'Melbourne', 'Port Adelaide', 'Fremantle', 'St Kilda', 'West Coast Eagles', 'Adelaide Crows']))\n",
    "                #Create the date in format wanted\n",
    "                .with_columns(pl.col('utcStartTime').str.slice(0, length=10).str.to_date().alias('Date'))\n",
    "                .drop('utcStartTime')\n",
    "                #Add a bye flag\n",
    "                .join(fixtureBye.select('round.currentRound', 'club.name', 'ByeFlag'), how='left', left_on=['round.roundNumber', 'home.team.name'], right_on=[ 'round.currentRound', 'club.name'])\n",
    "                .join(fixtureBye.select('round.currentRound', 'club.name', 'ByeFlag'), how='left', left_on=['round.roundNumber', 'away.team.name'], right_on=['round.currentRound', 'club.name'])\n",
    "                #Rename bye flag\n",
    "                .rename({'ByeFlag' : 'home.bye.flag',\n",
    "                         'ByeFlag_right' : 'away.bye.flag'})\n",
    "                #Fill in bye flag nulls\n",
    "                .with_columns(pl.col('home.bye.flag').fill_null(0).cast(pl.Int32),\n",
    "                              pl.col('away.bye.flag').fill_null(0).cast(pl.Int32))\n",
    "                #Fill venue blank states with china (1 is not china but NZ but is in 2015 so we wont worry about that)\n",
    "                .with_columns(pl.col('venue.state').fill_null('China'))\n",
    "                #Add team index\n",
    "                .join(indexTeams.drop('team.A.club.id'), how='left', left_on='home.team.name', right_on='team.A.name')\n",
    "                .rename({'EloIndex' : 'home.team.id'})\n",
    "                .join(indexTeams.drop('team.A.club.id'), how='left', left_on='away.team.name', right_on='team.A.name')\n",
    "                .rename({'EloIndex' : 'away.team.id'})\n",
    "                )\n",
    "else:\n",
    "    #First round of the season\n",
    "        fixtureBase = (pl.from_pandas(fixture)\n",
    "                .sort('round.id')\n",
    "                  #Keep only the columns we want\n",
    "                .select('round.roundNumber', 'utcStartTime', 'home.team.name',\n",
    "                        'away.team.name', 'venue.id', 'venue.name', 'venue.state')\n",
    "                #convert any team names that require as much\n",
    "                .with_columns(pl.col('home.team.name').replace(old=['GWS GIANTS', 'Gold Coast SUNS', 'Narrm', 'Yartapuulti', 'Walyalup', 'Euro-Yroke', 'Waalitj Marawar', 'Kuwarna'],\n",
    "                                          new=['GWS Giants', 'Gold Coast Suns', 'Melbourne', 'Port Adelaide', 'Fremantle', 'St Kilda', 'West Coast Eagles', 'Adelaide Crows']))\n",
    "                .with_columns(pl.col('away.team.name').replace(old=['GWS GIANTS', 'Gold Coast SUNS', 'Narrm', 'Yartapuulti', 'Walyalup', 'Euro-Yroke', 'Waalitj Marawar', 'Kuwarna'],\n",
    "                                          new=['GWS Giants', 'Gold Coast Suns', 'Melbourne', 'Port Adelaide', 'Fremantle', 'St Kilda', 'West Coast Eagles', 'Adelaide Crows']))\n",
    "                 #Create the date in format wanted\n",
    "                 .with_columns(pl.col('utcStartTime').str.slice(0, length=10).str.to_date().alias('Date'))\n",
    "                 .drop('utcStartTime')\n",
    "                 #Add a bye flag\n",
    "                 .with_columns(pl.lit(0).alias('home.bye.flag'),\n",
    "                               pl.lit(1).alias('away.bye.flag'))\n",
    "                #Fill venue blank states with china (1 is not china but NZ but is in 2015 so we wont worry about that)\n",
    "                .with_columns(pl.col('venue.state').fill_null('China'))\n",
    "                #Add team index\n",
    "                .join(indexTeams.drop('team.A.club.id'), how='left', left_on='home.team.name', right_on='team.A.name')\n",
    "                .rename({'EloIndex' : 'home.team.id'})\n",
    "                .join(indexTeams.drop('team.A.club.id'), how='left', left_on='away.team.name', right_on='team.A.name')\n",
    "                .rename({'EloIndex' : 'away.team.id'})\n",
    "                )"
   ]
  },
  {
   "cell_type": "markdown",
   "id": "2827d781-e2ff-4f8b-9e7c-1dfe9b6509b7",
   "metadata": {},
   "source": [
    "### 2. Add in current ladder position"
   ]
  },
  {
   "cell_type": "code",
   "execution_count": 478,
   "id": "91429247-4be4-42e4-9da8-a645514baf45",
   "metadata": {},
   "outputs": [],
   "source": [
    "%%R -i season,roundNum -o ladder\n",
    "\n",
    "if (roundNum != 0){\n",
    "    ladder <- fetch_ladder_afl(season=season, round_number=roundNum-1)\n",
    "}else{\n",
    "    ladder <- fetch_ladder_afl(season=season-1)\n",
    "}\n",
    "\n",
    "ladder <- ladder %>% select('team.name', 'position')"
   ]
  },
  {
   "cell_type": "code",
   "execution_count": 479,
   "id": "3e01422c-ef77-4ef5-9ec4-c25622ea8687",
   "metadata": {},
   "outputs": [],
   "source": [
    "#from pandas to polars\n",
    "ladder = (pl.from_pandas(ladder)\n",
    "            #convert any team names that require as much\n",
    "             .with_columns(pl.col('team.name').replace(old=['GWS GIANTS', 'Gold Coast SUNS', 'Narrm', 'Yartapuulti', 'Walyalup', 'Euro-Yroke', 'Waalitj Marawar', 'Kuwarna'],\n",
    "                                          new=['GWS Giants', 'Gold Coast Suns', 'Melbourne', 'Port Adelaide', 'Fremantle', 'St Kilda', 'West Coast Eagles', 'Adelaide Crows']))\n",
    "         )"
   ]
  },
  {
   "cell_type": "code",
   "execution_count": 480,
   "id": "0f8e42ae-7392-4659-b0a3-43b9e1d6956b",
   "metadata": {},
   "outputs": [],
   "source": [
    "#join to basic fixture info\n",
    "fixtureLadder = (fixtureBase\n",
    "                        #Home team ladder\n",
    "                        .join(ladder, how='left', left_on='home.team.name', right_on='team.name')\n",
    "                        .rename({'position' : 'home.ladder.position'})\n",
    "                        #Away team ladder\n",
    "                        .join(ladder, how='left', left_on='away.team.name', right_on='team.name')\n",
    "                        .rename({'position' : 'away.ladder.position'})                    \n",
    "                    )"
   ]
  },
  {
   "cell_type": "markdown",
   "id": "b80e5eea-a609-49b4-b978-7409c34c9719",
   "metadata": {},
   "source": [
    "### 3. Add the distance travelled"
   ]
  },
  {
   "cell_type": "code",
   "execution_count": 481,
   "id": "65396498-540c-404d-9ee8-3efc77e085c9",
   "metadata": {},
   "outputs": [],
   "source": [
    "#use loaded Distnace Travelled dataframe\n",
    "fixtureDT = (fixtureLadder \n",
    "                 #Home team distance travelled to venue\n",
    "                 .join(distanceTravelled.rename({'Distance' : 'home.distance'}), how='left', left_on=['home.team.name', 'venue.state'], right_on=['team.name', 'State'])\n",
    "                 #Away team distance travelled to venue\n",
    "                 .join(distanceTravelled.rename({'Distance' : 'away.distance'}), how='left', left_on=['away.team.name', 'venue.state'], right_on=['team.name', 'State'])\n",
    "                )"
   ]
  },
  {
   "cell_type": "markdown",
   "id": "8459a27c-25d1-4b69-adce-b3008da4180d",
   "metadata": {},
   "source": [
    "### 4. Add Elo Rating"
   ]
  },
  {
   "cell_type": "code",
   "execution_count": 482,
   "id": "9ccdc3ea-d7ba-4e4e-9fd5-4c97a5d762a9",
   "metadata": {},
   "outputs": [],
   "source": [
    "#use updated elo score to populate\n",
    "fixtureElo = (fixtureDT\n",
    "                 .with_columns(pl.col('home.team.id').map_elements(lambda x : eloScores[x]).alias('home.elo.score'),\n",
    "                               pl.col('away.team.id').map_elements(lambda x : eloScores[x]).alias('away.elo.score'))\n",
    "                )"
   ]
  },
  {
   "cell_type": "markdown",
   "id": "e83bce93-220d-4f3e-a469-011e4c62631b",
   "metadata": {},
   "source": [
    "### 5. Add in Home Adavantage/Disadvantage"
   ]
  },
  {
   "cell_type": "code",
   "execution_count": 483,
   "id": "1d4bb0c9-6a95-4e6f-a55c-21d7e14617ed",
   "metadata": {},
   "outputs": [],
   "source": [
    "#Use matches both sides to figure out last 20 games if played at venue\n",
    "venuePortions = (matchesBothSides\n",
    "                     .select('compSeason.year', 'round.roundNumber', 'venue.name', 'team.A.name')\n",
    "                     .with_columns(pl.col('venue.name').count().over('team.A.name', 'venue.name').alias('at.venue'),\n",
    "                                   pl.col('team.A.name').count().over('team.A.name').alias('game.count'))\n",
    "                     .with_columns((pl.col('at.venue')/pl.col('game.count')).alias('venue.portion'))\n",
    "                     .select('team.A.name', 'venue.name', 'venue.portion')\n",
    "                     .unique()     \n",
    "                    )\n",
    "fixtureHome = (fixtureElo\n",
    "                   #home team\n",
    "                   .join(venuePortions, how='left', left_on=['home.team.name', 'venue.name'], right_on=['team.A.name', 'venue.name'])\n",
    "                   .rename({'venue.portion' : 'home.venue.portion'})\n",
    "                   .with_columns(pl.col('home.venue.portion').fill_null(0))\n",
    "                   #away team\n",
    "                   .join(venuePortions, how='left', left_on=['away.team.name', 'venue.name'], right_on=['team.A.name', 'venue.name'])\n",
    "                   .rename({'venue.portion' : 'away.venue.portion'})\n",
    "                   .with_columns(pl.col('away.venue.portion').fill_null(0))\n",
    "               \n",
    "              )"
   ]
  },
  {
   "cell_type": "markdown",
   "id": "d95e2036-0340-461f-82b2-6d1d60292e43",
   "metadata": {},
   "source": [
    "### 6. Add Days since last match"
   ]
  },
  {
   "cell_type": "code",
   "execution_count": 485,
   "id": "63483fac-7518-4df5-a663-f819eb0d30e3",
   "metadata": {},
   "outputs": [],
   "source": [
    "#Use days since last match to populate\n",
    "fixtureDays = (fixtureHome\n",
    "                   #home teams\n",
    "                   .join(matchDays, how='left', left_on='home.team.name', right_on='Team')\n",
    "                   .rename({'Date_right' : 'home.last.date'})\n",
    "                   .with_columns((pl.col('Date') - pl.col('home.last.date').str.to_date()).dt.total_days().alias('home.day.last.match'))\n",
    "                   .drop('home.last.date')\n",
    "                    #away teams\n",
    "                   .join(matchDays, how='left', left_on='away.team.name', right_on='Team')\n",
    "                   .rename({'Date_right' : 'away.last.date'})\n",
    "                   .with_columns((pl.col('Date') - pl.col('away.last.date').str.to_date()).dt.total_days().alias('away.day.last.match'))\n",
    "                   .drop('away.last.date')\n",
    " \n",
    "                    )"
   ]
  },
  {
   "cell_type": "markdown",
   "id": "4e195ca6-f838-41d8-9f7c-0c907a13f39c",
   "metadata": {},
   "source": [
    "### 7. Add Attacking/Defending/Opposition Numbers"
   ]
  },
  {
   "cell_type": "code",
   "execution_count": 491,
   "id": "33408d87-63d8-43af-9319-458a6c526eae",
   "metadata": {},
   "outputs": [],
   "source": [
    "#Get the goals scored and given away and the margin of each game. Add in the ladder positions as well\n",
    "matchesBothSidesStats = (matchesBothSides\n",
    "                 .with_columns(pl.col('team.A.name').replace(old=['GWS GIANTS', 'Gold Coast SUNS', 'Narrm', 'Yartapuulti', 'Walyalup', 'Euro-Yroke', 'Waalitj Marawar', 'Kuwarna'],\n",
    "                                        new=['GWS Giants', 'Gold Coast Suns', 'Melbourne', 'Port Adelaide', 'Fremantle', 'St Kilda', 'West Coast Eagles', 'Adelaide Crows']),\n",
    "                                pl.col('team.B.name').replace(old=['GWS GIANTS', 'Gold Coast SUNS', 'Narrm', 'Yartapuulti', 'Walyalup', 'Euro-Yroke', 'Waalitj Marawar', 'Kuwarna'],\n",
    "                                        new=['GWS Giants', 'Gold Coast Suns', 'Melbourne', 'Port Adelaide', 'Fremantle', 'St Kilda', 'West Coast Eagles', 'Adelaide Crows']))\n",
    "                 .unique()\n",
    "                 #Goals scored\n",
    "                 .with_columns((pl.col('team.A.score.goals') + (pl.col('team.A.score.behinds')*0.5)).alias('strength.attack'))\n",
    "                 #Goals given away\n",
    "                 .with_columns((pl.col('team.B.score.goals') + (pl.col('team.B.score.behinds')*0.5)).alias('strength.defense'))\n",
    "                 #goal diff , i.e. margin\n",
    "                 #.with_columns((pl.col('team.A.score.totalScore') - pl.col('team.B.score.totalScore')).abs().alias('margin'))\n",
    "                 #keep only what I want\n",
    "                 .select('compSeason.year', 'round.roundNumber', 'round.Id', 'team.A.club.id', 'team.A.name', 'team.B.club.id', 'team.B.name',\n",
    "                         'strength.attack', 'strength.defense', 'team.A.score.totalScore', 'team.B.score.totalScore')\n",
    "                 #Cast round.id to int rather an unsigned int\n",
    "                 .with_columns(pl.col('round.Id').cast(pl.Int32))\n",
    "            )   "
   ]
  },
  {
   "cell_type": "code",
   "execution_count": 496,
   "id": "5df8d491-43e3-4f29-88e5-4b712a480453",
   "metadata": {},
   "outputs": [],
   "source": [
    "#Get the goals scored and given away and the margin of each game. Add in the ladder positions as well\n",
    "matchStats = (matchesBothSides\n",
    "                .with_columns(pl.col('team.A.name').replace(old=['GWS GIANTS', 'Gold Coast SUNS', 'Narrm', 'Yartapuulti', 'Walyalup', 'Euro-Yroke', 'Waalitj Marawar', 'Kuwarna'],\n",
    "                                        new=['GWS Giants', 'Gold Coast Suns', 'Melbourne', 'Port Adelaide', 'Fremantle', 'St Kilda', 'West Coast Eagles', 'Adelaide Crows']),\n",
    "                                pl.col('team.B.name').replace(old=['GWS GIANTS', 'Gold Coast SUNS', 'Narrm', 'Yartapuulti', 'Walyalup', 'Euro-Yroke', 'Waalitj Marawar', 'Kuwarna'],\n",
    "                                        new=['GWS Giants', 'Gold Coast Suns', 'Melbourne', 'Port Adelaide', 'Fremantle', 'St Kilda', 'West Coast Eagles', 'Adelaide Crows']))\n",
    "                .unique()\n",
    "                 #Goals scored\n",
    "                 .with_columns((pl.col('team.A.score.goals') + (pl.col('team.A.score.behinds')*0.5)).alias('strength.attack'))\n",
    "                 #Goals given away\n",
    "                 .with_columns((pl.col('team.B.score.goals') + (pl.col('team.B.score.behinds')*0.5)).alias('strength.defense'))\n",
    "                 #keep only what I want\n",
    "                 .select('compSeason.year', 'round.roundNumber', 'round.Id', 'team.A.club.id', 'team.A.name', 'team.B.club.id', 'team.B.name',\n",
    "                         'strength.attack', 'strength.defense', 'team.A.score.totalScore', 'team.B.score.totalScore')\n",
    "                 #Cast round.id to int rather an unsigned int\n",
    "                 .with_columns(pl.col('round.Id').cast(pl.Int32))\n",
    "                 #Get the each teams rolling 5 game strength based on margin\n",
    "                 #get the previous 5 games margin average of opposition\n",
    "                 #Start with descending round.id for rolling groupby statements\n",
    "                 .sort(['team.A.name', 'round.Id'], descending=[False, True])\n",
    "                 #Try a rolling previous avg margin\n",
    "                 .sort('team.A.name', 'round.Id')\n",
    "                 .rolling(index_column='round.Id', period='5i', by='team.A.name')\n",
    "                 .agg(pl.col('team.A.score.totalScore').sum().alias('rolling.team.A.totalScore'),\n",
    "                 pl.col('team.B.score.totalScore').sum().alias('rolling.team.B.totalScore'))\n",
    "                 #get the avg margin\n",
    "                 .with_columns(((pl.col('rolling.team.A.totalScore') - pl.col('rolling.team.B.totalScore'))/5).alias('rolling.margin.avg'))\n",
    "                 #join back up to df\n",
    "                 .join(matchesBothSidesStats, how='left', on=['team.A.name', 'round.Id'])\n",
    "                 #arrange columns as desired\n",
    "                 .select('compSeason.year', 'round.Id', 'team.A.name', 'strength.attack',\n",
    "                         'strength.defense', 'rolling.margin.avg')\n",
    "                 #Get the previous 5 matches attacking strength\n",
    "                 .with_columns(pl.col('strength.attack').over('team.A.name').alias('strength.attack.t-1'),\n",
    "                               pl.col('strength.attack').shift(1).over('team.A.name').alias('strength.attack.t-2'),\n",
    "                               pl.col('strength.attack').shift(2).over('team.A.name').alias('strength.attack.t-3'),\n",
    "                               pl.col('strength.attack').shift(3).over('team.A.name').alias('strength.attack.t-4'),\n",
    "                               pl.col('strength.attack').shift(4).over('team.A.name').alias('strength.attack.t-5'))\n",
    "                 #Get the previous 5 matches defending strength\n",
    "                 .with_columns(pl.col('strength.defense').over('team.A.name').alias('strength.defense.t-1'),\n",
    "                               pl.col('strength.defense').shift(1).over('team.A.name').alias('strength.defense.t-2'),\n",
    "                               pl.col('strength.defense').shift(2).over('team.A.name').alias('strength.defense.t-3'),\n",
    "                               pl.col('strength.defense').shift(3).over('team.A.name').alias('strength.defense.t-4'),\n",
    "                               pl.col('strength.defense').shift(4).over('team.A.name').alias('strength.defense.t-5'))\n",
    "                 #drop the original strength metrics\n",
    "                 .drop('strength.attack', 'strength.defense')\n",
    "                            \n",
    "                 #Will need to grab only the most resent results\n",
    "                 .sort('compSeason.year', 'round.Id')\n",
    "                 .with_columns(pl.col('round.Id').max().over(pl.col('team.A.name')).alias('max.round'))\n",
    "                 .filter(pl.col('max.round') == pl.col('round.Id'))\n",
    "                 #remove unwanted columns\n",
    "                 .drop('compSeason.year', 'round.Id', 'max.round')\n",
    "\n",
    "                    \n",
    "                )"
   ]
  },
  {
   "cell_type": "code",
   "execution_count": 497,
   "id": "189838b1-fa37-4382-bdfd-21c6d1a66044",
   "metadata": {},
   "outputs": [],
   "source": [
    "fixtureADO = (fixtureDays\n",
    "     #join for home team\n",
    "     .join(matchStats, how='left',\n",
    "           left_on= 'home.team.name',\n",
    "           right_on= 'team.A.name')\n",
    " \n",
    "     #get past strengths of home team\n",
    "     .rename({'strength.attack.t-1' : 'home.attack.t-1',\n",
    "              'strength.attack.t-2' : 'home.attack.t-2',\n",
    "              'strength.attack.t-3' : 'home.attack.t-3',\n",
    "              'strength.attack.t-4' : 'home.attack.t-4',\n",
    "              'strength.attack.t-5' : 'home.attack.t-5',\n",
    "              'strength.defense.t-1' : 'home.defense.t-1',\n",
    "              'strength.defense.t-2' : 'home.defense.t-2',\n",
    "              'strength.defense.t-3' : 'home.defense.t-3',\n",
    "              'strength.defense.t-4' : 'home.defense.t-4',\n",
    "              'strength.defense.t-5' : 'home.defense.t-5',\n",
    "              #For the away team the oppositions strength\n",
    "              'rolling.margin.avg' : 'away.opposition.strength'})\n",
    " \n",
    "      #join for away team\n",
    "      .join(matchStats, how='left',\n",
    "           left_on='away.team.name',\n",
    "           right_on='team.A.name')\n",
    " \n",
    "      #get past strengths of away team\n",
    "      .rename({'strength.attack.t-1' : 'away.attack.t-1',\n",
    "              'strength.attack.t-2' : 'away.attack.t-2',\n",
    "              'strength.attack.t-3' : 'away.attack.t-3',\n",
    "              'strength.attack.t-4' : 'away.attack.t-4',\n",
    "              'strength.attack.t-5' : 'away.attack.t-5',\n",
    "              'strength.defense.t-1' : 'away.defense.t-1',\n",
    "              'strength.defense.t-2' : 'away.defense.t-2',\n",
    "              'strength.defense.t-3' : 'away.defense.t-3',\n",
    "              'strength.defense.t-4' : 'away.defense.t-4',\n",
    "              'strength.defense.t-5' : 'away.defense.t-5',\n",
    "              #For the home team the oppositions strength\n",
    "              'rolling.margin.avg' : 'home.opposition.strength'})\n",
    "            \n",
    "    )"
   ]
  },
  {
   "cell_type": "markdown",
   "id": "ecc13fc7-73bf-4340-a8ca-e5f3af71d876",
   "metadata": {},
   "source": [
    "### 8. Add Player Rankings"
   ]
  },
  {
   "cell_type": "code",
   "execution_count": 463,
   "id": "84dd1f55-23a5-4c48-9162-85eb161c082c",
   "metadata": {},
   "outputs": [
    {
     "name": "stdout",
     "output_type": "stream",
     "text": [
      "i Fetching match ids\n"
     ]
    },
    {
     "name": "stdout",
     "output_type": "stream",
     "text": [
      "v Fetching match ids ... done\n",
      "\n",
      "i Finding player stats for 216 matches.\n",
      "v Finding player stats for 216 matches. ... done\n",
      "\n",
      "i Fetching match ids\n",
      "v Fetching match ids ... done\n",
      "\n",
      "i Finding player stats for 207 matches.\n",
      "v Finding player stats for 207 matches. ... done\n",
      "\n"
     ]
    }
   ],
   "source": [
    "%%R -o players\n",
    "seasonList <- c(2023, 2024)\n",
    "first <- TRUE\n",
    "for(s in seasonList) {\n",
    "    \n",
    "    df <- fetch_player_stats(season=s) %>% mutate('compSeason.year' = s) %>% select(compSeason.shortName, compSeason.year, round.roundNumber, teamId, team.name, player.playerId, player.givenName, player.surname, ratingPoints)\n",
    "\n",
    "    if (first) {\n",
    "        players <- df\n",
    "        first <- FALSE\n",
    "    }else{\n",
    "        players <- players %>% \n",
    "                      bind_rows(df)\n",
    "    }\n",
    "}\n",
    "    "
   ]
  },
  {
   "cell_type": "code",
   "execution_count": 464,
   "id": "1671872a-de90-4612-a8d7-4167c8538c06",
   "metadata": {},
   "outputs": [],
   "source": [
    "players = (pl.from_pandas(players)\n",
    "             #convert any team names that require as much\n",
    "             .with_columns(pl.col('team.name').replace(old=['GWS GIANTS', 'Gold Coast SUNS', 'Narrm', 'Yartapuulti', 'Walyalup', 'Euro-Yroke', 'Waalitj Marawar', 'Kuwarna'],\n",
    "                                          new=['GWS Giants', 'Gold Coast Suns', 'Melbourne', 'Port Adelaide', 'Fremantle', 'St Kilda', 'West Coast Eagles', 'Adelaide Crows']))\n",
    "          )"
   ]
  },
  {
   "cell_type": "code",
   "execution_count": 499,
   "id": "a0597867-d389-4cce-9bc6-40dcf039e6f4",
   "metadata": {},
   "outputs": [],
   "source": [
    "playerRoundIndex = (players\n",
    "     .filter(~pl.col('team.name').is_null())\n",
    "     .select('compSeason.year', 'round.roundNumber')\n",
    "     .unique()\n",
    "     .sort(['compSeason.year', 'round.roundNumber'])\n",
    "     .with_columns(pl.col('round.roundNumber').cum_count().cast(pl.Int32).alias('round.Id'))\n",
    ")"
   ]
  },
  {
   "cell_type": "code",
   "execution_count": 466,
   "id": "ac566c84-d7af-41ae-b129-6e1727b3685a",
   "metadata": {},
   "outputs": [],
   "source": [
    "#Create the base of the player ratings    FOR FUTURE IMPLINTATION\n",
    "#playerRatings = (players\n",
    "#                     .filter(~pl.col('player.playerId').is_null())\n",
    "#                     .join(playerRoundIndex, how='left', on=['compSeason.year', 'round.roundNumber'])\n",
    "#                     .sort('player.playerId', 'round.Id')\n",
    "#get sum of past 10 games\n",
    "#                     .rolling(index_column='round.Id', period='10i', by=['player.playerId', 'player.givenName', 'player.surname'])\n",
    "#                     .agg(pl.col('ratingPoints').sum().alias('rolling.player.points'))\n",
    "#                     .sort('player.playerId', 'round.Id')\n",
    "#                     #get the next round to join on\n",
    "#                     .with_columns(pl.col('round.Id').shift(-1).over('player.playerId').alias('round.nextRound'))\n",
    "#                    #join back up to get the team\n",
    "#                     .join(playerRoundIndex, how='left', on='round.Id')\n",
    "#                     .join(players.select('compSeason.year', 'round.roundNumber', 'teamId', 'team.name', 'player.playerId'),\n",
    "#                           on=['compSeason.year', 'round.roundNumber', 'player.playerId'])\n",
    "#                     .sort('player.playerId', 'round.Id')\n",
    "#                )"
   ]
  },
  {
   "cell_type": "code",
   "execution_count": 500,
   "id": "fe8c8d1b-4609-469d-969f-d1f9ed1d8778",
   "metadata": {},
   "outputs": [],
   "source": [
    "#get the sum of teams rating\n",
    "sumedteamRating = (players\n",
    "    .join(playerRoundIndex, how='left', on=['compSeason.year', 'round.roundNumber'])\n",
    "    .filter(~pl.col('team.name').is_null())\n",
    "    .group_by('team.name', 'round.Id')\n",
    "    .agg(pl.col('ratingPoints').sum())                   \n",
    "    .sort('team.name', 'round.Id')\n",
    "    .rolling(index_column='round.Id', period='10i', by=['team.name'])\n",
    "    .agg(pl.col('ratingPoints').sum().alias('rolling.ratingPoints'))\n",
    "    .with_columns(pl.col('round.Id').max().over('team.name').alias('lastRound'))\n",
    "    #only want most recent results\n",
    "    .filter(pl.col('round.Id') == pl.col('lastRound'))\n",
    "    #keep only what we want\n",
    "    .select('team.name', 'rolling.ratingPoints')\n",
    ")"
   ]
  },
  {
   "cell_type": "code",
   "execution_count": 501,
   "id": "57fcf491-db47-44b5-840b-78c06ead0ab7",
   "metadata": {},
   "outputs": [],
   "source": [
    "fixturePlayer = (fixtureADO     \n",
    "     #join home teams ratings\n",
    "     .join(sumedteamRating, how='left', left_on=['home.team.name'], right_on=['team.name'])\n",
    "     .rename({'rolling.ratingPoints' : 'home.team.playerPoints'})\n",
    "     #join away tea,s ratings\n",
    "     .join(sumedteamRating, how='left', left_on=['away.team.name'], right_on=['team.name'])\n",
    "     .rename({'rolling.ratingPoints' : 'away.team.playerPoints'})\n",
    ")"
   ]
  },
  {
   "cell_type": "markdown",
   "id": "d6721e69-f009-4a49-b429-06f97ac0abe0",
   "metadata": {},
   "source": [
    "### 9. Put everything in order"
   ]
  },
  {
   "cell_type": "code",
   "execution_count": 502,
   "id": "6c3d0fc5-71fe-4083-b8f0-54878b3f403f",
   "metadata": {},
   "outputs": [],
   "source": [
    "fixtureReady = (fixturePlayer\n",
    "             .select('home.bye.flag', 'home.ladder.position', 'home.elo.score', 'home.venue.portion', 'home.day.last.match', 'home.attack.t-1', 'home.attack.t-2',\n",
    "                   'home.attack.t-3', 'home.attack.t-4', 'home.attack.t-5', 'home.defense.t-1', 'home.defense.t-2', 'home.defense.t-3', 'home.defense.t-4', 'home.defense.t-5', 'home.opposition.strength',\n",
    "                   'home.team.playerPoints', 'away.bye.flag', 'away.ladder.position', 'away.elo.score', 'away.venue.portion', 'away.day.last.match', 'away.attack.t-1', 'away.attack.t-2',\n",
    "                   'away.attack.t-3', 'away.attack.t-4', 'away.attack.t-5', 'away.defense.t-1', 'away.defense.t-2', 'away.defense.t-3', 'away.defense.t-4', 'away.defense.t-5', 'away.opposition.strength',\n",
    "                   'away.team.playerPoints')            \n",
    "            )\n",
    "predictionReady = (fixturePlayer\n",
    "                      .select('home.team.name', 'away.team.name'))"
   ]
  },
  {
   "cell_type": "code",
   "execution_count": 503,
   "id": "0433e6a8-ccb1-4d25-9647-e157735f321b",
   "metadata": {},
   "outputs": [
    {
     "data": {
      "text/html": [
       "<div><style>\n",
       ".dataframe > thead > tr,\n",
       ".dataframe > tbody > tr {\n",
       "  text-align: right;\n",
       "  white-space: pre-wrap;\n",
       "}\n",
       "</style>\n",
       "<small>shape: (9, 34)</small><table border=\"1\" class=\"dataframe\"><thead><tr><th>home.bye.flag</th><th>home.ladder.position</th><th>home.elo.score</th><th>home.venue.portion</th><th>home.day.last.match</th><th>home.attack.t-1</th><th>home.attack.t-2</th><th>home.attack.t-3</th><th>home.attack.t-4</th><th>home.attack.t-5</th><th>home.defense.t-1</th><th>home.defense.t-2</th><th>home.defense.t-3</th><th>home.defense.t-4</th><th>home.defense.t-5</th><th>home.opposition.strength</th><th>home.team.playerPoints</th><th>away.bye.flag</th><th>away.ladder.position</th><th>away.elo.score</th><th>away.venue.portion</th><th>away.day.last.match</th><th>away.attack.t-1</th><th>away.attack.t-2</th><th>away.attack.t-3</th><th>away.attack.t-4</th><th>away.attack.t-5</th><th>away.defense.t-1</th><th>away.defense.t-2</th><th>away.defense.t-3</th><th>away.defense.t-4</th><th>away.defense.t-5</th><th>away.opposition.strength</th><th>away.team.playerPoints</th></tr><tr><td>i32</td><td>i32</td><td>f64</td><td>f64</td><td>i64</td><td>f64</td><td>f64</td><td>f64</td><td>f64</td><td>f64</td><td>f64</td><td>f64</td><td>f64</td><td>f64</td><td>f64</td><td>f64</td><td>f64</td><td>i32</td><td>i32</td><td>f64</td><td>f64</td><td>i64</td><td>f64</td><td>f64</td><td>f64</td><td>f64</td><td>f64</td><td>f64</td><td>f64</td><td>f64</td><td>f64</td><td>f64</td><td>f64</td><td>f64</td></tr></thead><tbody><tr><td>0</td><td>11</td><td>1510.957192</td><td>0.521739</td><td>271</td><td>20.0</td><td>18.5</td><td>14.0</td><td>25.0</td><td>16.5</td><td>17.5</td><td>18.0</td><td>15.5</td><td>15.5</td><td>17.0</td><td>3.2</td><td>2198.8</td><td>1</td><td>1</td><td>1573.671311</td><td>0.057143</td><td>77</td><td>19.0</td><td>16.0</td><td>14.0</td><td>15.0</td><td>21.0</td><td>14.0</td><td>15.0</td><td>16.5</td><td>16.5</td><td>19.0</td><td>13.0</td><td>2050.6</td></tr><tr><td>0</td><td>9</td><td>1476.869427</td><td>0.521739</td><td>272</td><td>18.5</td><td>13.0</td><td>27.0</td><td>15.0</td><td>15.5</td><td>12.0</td><td>15.0</td><td>8.5</td><td>16.5</td><td>14.0</td><td>-4.0</td><td>1969.1</td><td>1</td><td>5</td><td>1459.930332</td><td>0.027027</td><td>76</td><td>19.0</td><td>21.0</td><td>13.0</td><td>12.0</td><td>18.5</td><td>21.0</td><td>17.0</td><td>12.5</td><td>12.5</td><td>9.5</td><td>25.2</td><td>1909.3</td></tr><tr><td>0</td><td>18</td><td>1443.099033</td><td>0.173913</td><td>273</td><td>26.0</td><td>16.0</td><td>14.5</td><td>15.5</td><td>13.5</td><td>20.5</td><td>22.5</td><td>17.0</td><td>21.5</td><td>16.0</td><td>5.4</td><td>1896.6</td><td>1</td><td>4</td><td>1527.292994</td><td>0.04</td><td>252</td><td>17.0</td><td>15.5</td><td>21.0</td><td>15.0</td><td>26.0</td><td>20.5</td><td>23.5</td><td>15.5</td><td>13.0</td><td>16.5</td><td>-8.0</td><td>2030.3</td></tr><tr><td>0</td><td>10</td><td>1504.690582</td><td>0.216216</td><td>78</td><td>17.0</td><td>13.5</td><td>14.5</td><td>15.0</td><td>14.5</td><td>18.5</td><td>17.5</td><td>17.5</td><td>16.0</td><td>20.5</td><td>7.8</td><td>1965.7</td><td>1</td><td>8</td><td>1556.018935</td><td>0.088235</td><td>77</td><td>21.5</td><td>20.5</td><td>17.5</td><td>19.0</td><td>12.5</td><td>12.0</td><td>26.0</td><td>19.5</td><td>21.0</td><td>18.5</td><td>-1.4</td><td>2001.8</td></tr><tr><td>0</td><td>3</td><td>1519.399466</td><td>0.391304</td><td>273</td><td>17.5</td><td>11.5</td><td>20.5</td><td>20.5</td><td>14.0</td><td>20.0</td><td>20.0</td><td>22.5</td><td>18.5</td><td>15.5</td><td>15.6</td><td>2199.8</td><td>1</td><td>6</td><td>1578.752013</td><td>0.027027</td><td>77</td><td>21.0</td><td>12.5</td><td>20.5</td><td>20.5</td><td>20.5</td><td>19.0</td><td>13.0</td><td>17.0</td><td>16.5</td><td>14.5</td><td>-12.2</td><td>1995.3</td></tr><tr><td>0</td><td>17</td><td>1462.941596</td><td>0.382353</td><td>77</td><td>12.0</td><td>15.5</td><td>22.5</td><td>12.5</td><td>15.5</td><td>21.5</td><td>21.0</td><td>16.0</td><td>18.5</td><td>25.0</td><td>-37.6</td><td>1625.5</td><td>1</td><td>2</td><td>1489.203434</td><td>0.347826</td><td>274</td><td>9.5</td><td>8.0</td><td>17.0</td><td>16.5</td><td>19.5</td><td>18.5</td><td>31.0</td><td>14.5</td><td>14.0</td><td>20.5</td><td>-7.8</td><td>2081.1</td></tr><tr><td>0</td><td>15</td><td>1479.65997</td><td>0.173913</td><td>274</td><td>12.0</td><td>12.0</td><td>15.5</td><td>20.5</td><td>18.5</td><td>18.5</td><td>17.5</td><td>14.0</td><td>14.5</td><td>23.0</td><td>11.8</td><td>1947.2</td><td>1</td><td>12</td><td>1533.076627</td><td>0.108108</td><td>79</td><td>18.5</td><td>17.0</td><td>17.5</td><td>23.5</td><td>18.0</td><td>17.0</td><td>21.0</td><td>13.5</td><td>15.5</td><td>12.0</td><td>-11.6</td><td>1829.2</td></tr><tr><td>0</td><td>7</td><td>1484.917968</td><td>0.416667</td><td>80</td><td>14.0</td><td>17.5</td><td>12.5</td><td>16.5</td><td>17.5</td><td>19.0</td><td>14.5</td><td>12.0</td><td>14.0</td><td>12.0</td><td>2.8</td><td>1821.9</td><td>1</td><td>14</td><td>1475.746749</td><td>0.125</td><td>260</td><td>16.5</td><td>12.0</td><td>20.0</td><td>18.5</td><td>11.0</td><td>20.5</td><td>18.0</td><td>11.5</td><td>12.5</td><td>16.5</td><td>-6.2</td><td>1952.6</td></tr><tr><td>0</td><td>13</td><td>1499.061026</td><td>0.565217</td><td>274</td><td>27.5</td><td>16.5</td><td>20.5</td><td>18.5</td><td>24.0</td><td>15.0</td><td>15.0</td><td>19.5</td><td>12.5</td><td>14.5</td><td>-27.0</td><td>2082.1</td><td>1</td><td>16</td><td>1424.270503</td><td>0.130435</td><td>274</td><td>15.0</td><td>18.0</td><td>8.5</td><td>14.0</td><td>16.0</td><td>27.5</td><td>18.5</td><td>27.0</td><td>16.5</td><td>13.5</td><td>22.6</td><td>1899.3</td></tr></tbody></table></div>"
      ],
      "text/plain": [
       "shape: (9, 34)\n",
       "┌─────┬─────┬─────┬─────┬─────┬─────┬─────┬─────┬─────┬─────┬─────┬─────┬─────┬─────┬─────┬─────┬─────┬─────┬─────┬─────┬─────┬─────┬─────┬─────┬─────┬─────┬─────┬─────┬─────┬─────┬─────┬─────┬─────┬─────┐\n",
       "│ hom ┆ hom ┆ hom ┆ hom ┆ hom ┆ hom ┆ hom ┆ hom ┆ hom ┆ hom ┆ hom ┆ hom ┆ hom ┆ hom ┆ hom ┆ hom ┆ hom ┆ awa ┆ awa ┆ awa ┆ awa ┆ awa ┆ awa ┆ awa ┆ awa ┆ awa ┆ awa ┆ awa ┆ awa ┆ awa ┆ awa ┆ awa ┆ awa ┆ awa │\n",
       "│ e.b ┆ e.l ┆ e.e ┆ e.v ┆ e.d ┆ e.a ┆ e.a ┆ e.a ┆ e.a ┆ e.a ┆ e.d ┆ e.d ┆ e.d ┆ e.d ┆ e.d ┆ e.o ┆ e.t ┆ y.b ┆ y.l ┆ y.e ┆ y.v ┆ y.d ┆ y.a ┆ y.a ┆ y.a ┆ y.a ┆ y.a ┆ y.d ┆ y.d ┆ y.d ┆ y.d ┆ y.d ┆ y.o ┆ y.t │\n",
       "│ ye. ┆ add ┆ lo. ┆ enu ┆ ay. ┆ tta ┆ tta ┆ tta ┆ tta ┆ tta ┆ efe ┆ efe ┆ efe ┆ efe ┆ efe ┆ ppo ┆ eam ┆ ye. ┆ add ┆ lo. ┆ enu ┆ ay. ┆ tta ┆ tta ┆ tta ┆ tta ┆ tta ┆ efe ┆ efe ┆ efe ┆ efe ┆ efe ┆ ppo ┆ eam │\n",
       "│ fla ┆ er. ┆ sco ┆ e.p ┆ las ┆ ck. ┆ ck. ┆ ck. ┆ ck. ┆ ck. ┆ nse ┆ nse ┆ nse ┆ nse ┆ nse ┆ sit ┆ .pl ┆ fla ┆ er. ┆ sco ┆ e.p ┆ las ┆ ck. ┆ ck. ┆ ck. ┆ ck. ┆ ck. ┆ nse ┆ nse ┆ nse ┆ nse ┆ nse ┆ sit ┆ .pl │\n",
       "│ g   ┆ pos ┆ re  ┆ ort ┆ t.m ┆ t-1 ┆ t-2 ┆ t-3 ┆ t-4 ┆ t-5 ┆ .t- ┆ .t- ┆ .t- ┆ .t- ┆ .t- ┆ ion ┆ aye ┆ g   ┆ pos ┆ re  ┆ ort ┆ t.m ┆ t-1 ┆ t-2 ┆ t-3 ┆ t-4 ┆ t-5 ┆ .t- ┆ .t- ┆ .t- ┆ .t- ┆ .t- ┆ ion ┆ aye │\n",
       "│ --- ┆ iti ┆ --- ┆ ion ┆ atc ┆ --- ┆ --- ┆ --- ┆ --- ┆ --- ┆ 1   ┆ 2   ┆ 3   ┆ 4   ┆ 5   ┆ .st ┆ rPo ┆ --- ┆ iti ┆ --- ┆ ion ┆ atc ┆ --- ┆ --- ┆ --- ┆ --- ┆ --- ┆ 1   ┆ 2   ┆ 3   ┆ 4   ┆ 5   ┆ .st ┆ rPo │\n",
       "│ i32 ┆ on  ┆ f64 ┆ --- ┆ h   ┆ f64 ┆ f64 ┆ f64 ┆ f64 ┆ f64 ┆ --- ┆ --- ┆ --- ┆ --- ┆ --- ┆ ren ┆ int ┆ i32 ┆ on  ┆ f64 ┆ --- ┆ h   ┆ f64 ┆ f64 ┆ f64 ┆ f64 ┆ f64 ┆ --- ┆ --- ┆ --- ┆ --- ┆ --- ┆ ren ┆ int │\n",
       "│     ┆ --- ┆     ┆ f64 ┆ --- ┆     ┆     ┆     ┆     ┆     ┆ f64 ┆ f64 ┆ f64 ┆ f64 ┆ f64 ┆ gth ┆ s   ┆     ┆ --- ┆     ┆ f64 ┆ --- ┆     ┆     ┆     ┆     ┆     ┆ f64 ┆ f64 ┆ f64 ┆ f64 ┆ f64 ┆ gth ┆ s   │\n",
       "│     ┆ i32 ┆     ┆     ┆ i64 ┆     ┆     ┆     ┆     ┆     ┆     ┆     ┆     ┆     ┆     ┆ --- ┆ --- ┆     ┆ i32 ┆     ┆     ┆ i64 ┆     ┆     ┆     ┆     ┆     ┆     ┆     ┆     ┆     ┆     ┆ --- ┆ --- │\n",
       "│     ┆     ┆     ┆     ┆     ┆     ┆     ┆     ┆     ┆     ┆     ┆     ┆     ┆     ┆     ┆ f64 ┆ f64 ┆     ┆     ┆     ┆     ┆     ┆     ┆     ┆     ┆     ┆     ┆     ┆     ┆     ┆     ┆     ┆ f64 ┆ f64 │\n",
       "╞═════╪═════╪═════╪═════╪═════╪═════╪═════╪═════╪═════╪═════╪═════╪═════╪═════╪═════╪═════╪═════╪═════╪═════╪═════╪═════╪═════╪═════╪═════╪═════╪═════╪═════╪═════╪═════╪═════╪═════╪═════╪═════╪═════╪═════╡\n",
       "│ 0   ┆ 11  ┆ 151 ┆ 0.5 ┆ 271 ┆ 20. ┆ 18. ┆ 14. ┆ 25. ┆ 16. ┆ 17. ┆ 18. ┆ 15. ┆ 15. ┆ 17. ┆ 3.2 ┆ 219 ┆ 1   ┆ 1   ┆ 157 ┆ 0.0 ┆ 77  ┆ 19. ┆ 16. ┆ 14. ┆ 15. ┆ 21. ┆ 14. ┆ 15. ┆ 16. ┆ 16. ┆ 19. ┆ 13. ┆ 205 │\n",
       "│     ┆     ┆ 0.9 ┆ 217 ┆     ┆ 0   ┆ 5   ┆ 0   ┆ 0   ┆ 5   ┆ 5   ┆ 0   ┆ 5   ┆ 5   ┆ 0   ┆     ┆ 8.8 ┆     ┆     ┆ 3.6 ┆ 571 ┆     ┆ 0   ┆ 0   ┆ 0   ┆ 0   ┆ 0   ┆ 0   ┆ 0   ┆ 5   ┆ 5   ┆ 0   ┆ 0   ┆ 0.6 │\n",
       "│     ┆     ┆ 571 ┆ 39  ┆     ┆     ┆     ┆     ┆     ┆     ┆     ┆     ┆     ┆     ┆     ┆     ┆     ┆     ┆     ┆ 713 ┆ 43  ┆     ┆     ┆     ┆     ┆     ┆     ┆     ┆     ┆     ┆     ┆     ┆     ┆     │\n",
       "│     ┆     ┆ 92  ┆     ┆     ┆     ┆     ┆     ┆     ┆     ┆     ┆     ┆     ┆     ┆     ┆     ┆     ┆     ┆     ┆ 11  ┆     ┆     ┆     ┆     ┆     ┆     ┆     ┆     ┆     ┆     ┆     ┆     ┆     ┆     │\n",
       "│ 0   ┆ 9   ┆ 147 ┆ 0.5 ┆ 272 ┆ 18. ┆ 13. ┆ 27. ┆ 15. ┆ 15. ┆ 12. ┆ 15. ┆ 8.5 ┆ 16. ┆ 14. ┆ -4. ┆ 196 ┆ 1   ┆ 5   ┆ 145 ┆ 0.0 ┆ 76  ┆ 19. ┆ 21. ┆ 13. ┆ 12. ┆ 18. ┆ 21. ┆ 17. ┆ 12. ┆ 12. ┆ 9.5 ┆ 25. ┆ 190 │\n",
       "│     ┆     ┆ 6.8 ┆ 217 ┆     ┆ 5   ┆ 0   ┆ 0   ┆ 0   ┆ 5   ┆ 0   ┆ 0   ┆     ┆ 5   ┆ 0   ┆ 0   ┆ 9.1 ┆     ┆     ┆ 9.9 ┆ 270 ┆     ┆ 0   ┆ 0   ┆ 0   ┆ 0   ┆ 5   ┆ 0   ┆ 0   ┆ 5   ┆ 5   ┆     ┆ 2   ┆ 9.3 │\n",
       "│     ┆     ┆ 694 ┆ 39  ┆     ┆     ┆     ┆     ┆     ┆     ┆     ┆     ┆     ┆     ┆     ┆     ┆     ┆     ┆     ┆ 303 ┆ 27  ┆     ┆     ┆     ┆     ┆     ┆     ┆     ┆     ┆     ┆     ┆     ┆     ┆     │\n",
       "│     ┆     ┆ 27  ┆     ┆     ┆     ┆     ┆     ┆     ┆     ┆     ┆     ┆     ┆     ┆     ┆     ┆     ┆     ┆     ┆ 32  ┆     ┆     ┆     ┆     ┆     ┆     ┆     ┆     ┆     ┆     ┆     ┆     ┆     ┆     │\n",
       "│ 0   ┆ 18  ┆ 144 ┆ 0.1 ┆ 273 ┆ 26. ┆ 16. ┆ 14. ┆ 15. ┆ 13. ┆ 20. ┆ 22. ┆ 17. ┆ 21. ┆ 16. ┆ 5.4 ┆ 189 ┆ 1   ┆ 4   ┆ 152 ┆ 0.0 ┆ 252 ┆ 17. ┆ 15. ┆ 21. ┆ 15. ┆ 26. ┆ 20. ┆ 23. ┆ 15. ┆ 13. ┆ 16. ┆ -8. ┆ 203 │\n",
       "│     ┆     ┆ 3.0 ┆ 739 ┆     ┆ 0   ┆ 0   ┆ 5   ┆ 5   ┆ 5   ┆ 5   ┆ 5   ┆ 0   ┆ 5   ┆ 0   ┆     ┆ 6.6 ┆     ┆     ┆ 7.2 ┆ 4   ┆     ┆ 0   ┆ 5   ┆ 0   ┆ 0   ┆ 0   ┆ 5   ┆ 5   ┆ 5   ┆ 0   ┆ 5   ┆ 0   ┆ 0.3 │\n",
       "│     ┆     ┆ 990 ┆ 13  ┆     ┆     ┆     ┆     ┆     ┆     ┆     ┆     ┆     ┆     ┆     ┆     ┆     ┆     ┆     ┆ 929 ┆     ┆     ┆     ┆     ┆     ┆     ┆     ┆     ┆     ┆     ┆     ┆     ┆     ┆     │\n",
       "│     ┆     ┆ 33  ┆     ┆     ┆     ┆     ┆     ┆     ┆     ┆     ┆     ┆     ┆     ┆     ┆     ┆     ┆     ┆     ┆ 94  ┆     ┆     ┆     ┆     ┆     ┆     ┆     ┆     ┆     ┆     ┆     ┆     ┆     ┆     │\n",
       "│ 0   ┆ 10  ┆ 150 ┆ 0.2 ┆ 78  ┆ 17. ┆ 13. ┆ 14. ┆ 15. ┆ 14. ┆ 18. ┆ 17. ┆ 17. ┆ 16. ┆ 20. ┆ 7.8 ┆ 196 ┆ 1   ┆ 8   ┆ 155 ┆ 0.0 ┆ 77  ┆ 21. ┆ 20. ┆ 17. ┆ 19. ┆ 12. ┆ 12. ┆ 26. ┆ 19. ┆ 21. ┆ 18. ┆ -1. ┆ 200 │\n",
       "│     ┆     ┆ 4.6 ┆ 162 ┆     ┆ 0   ┆ 5   ┆ 5   ┆ 0   ┆ 5   ┆ 5   ┆ 5   ┆ 5   ┆ 0   ┆ 5   ┆     ┆ 5.7 ┆     ┆     ┆ 6.0 ┆ 882 ┆     ┆ 5   ┆ 5   ┆ 5   ┆ 0   ┆ 5   ┆ 0   ┆ 0   ┆ 5   ┆ 0   ┆ 5   ┆ 4   ┆ 1.8 │\n",
       "│     ┆     ┆ 905 ┆ 16  ┆     ┆     ┆     ┆     ┆     ┆     ┆     ┆     ┆     ┆     ┆     ┆     ┆     ┆     ┆     ┆ 189 ┆ 35  ┆     ┆     ┆     ┆     ┆     ┆     ┆     ┆     ┆     ┆     ┆     ┆     ┆     │\n",
       "│     ┆     ┆ 82  ┆     ┆     ┆     ┆     ┆     ┆     ┆     ┆     ┆     ┆     ┆     ┆     ┆     ┆     ┆     ┆     ┆ 35  ┆     ┆     ┆     ┆     ┆     ┆     ┆     ┆     ┆     ┆     ┆     ┆     ┆     ┆     │\n",
       "│ 0   ┆ 3   ┆ 151 ┆ 0.3 ┆ 273 ┆ 17. ┆ 11. ┆ 20. ┆ 20. ┆ 14. ┆ 20. ┆ 20. ┆ 22. ┆ 18. ┆ 15. ┆ 15. ┆ 219 ┆ 1   ┆ 6   ┆ 157 ┆ 0.0 ┆ 77  ┆ 21. ┆ 12. ┆ 20. ┆ 20. ┆ 20. ┆ 19. ┆ 13. ┆ 17. ┆ 16. ┆ 14. ┆ -12 ┆ 199 │\n",
       "│     ┆     ┆ 9.3 ┆ 913 ┆     ┆ 5   ┆ 5   ┆ 5   ┆ 5   ┆ 0   ┆ 0   ┆ 0   ┆ 5   ┆ 5   ┆ 5   ┆ 6   ┆ 9.8 ┆     ┆     ┆ 8.7 ┆ 270 ┆     ┆ 0   ┆ 5   ┆ 5   ┆ 5   ┆ 5   ┆ 0   ┆ 0   ┆ 0   ┆ 5   ┆ 5   ┆ .2  ┆ 5.3 │\n",
       "│     ┆     ┆ 994 ┆ 04  ┆     ┆     ┆     ┆     ┆     ┆     ┆     ┆     ┆     ┆     ┆     ┆     ┆     ┆     ┆     ┆ 520 ┆ 27  ┆     ┆     ┆     ┆     ┆     ┆     ┆     ┆     ┆     ┆     ┆     ┆     ┆     │\n",
       "│     ┆     ┆ 66  ┆     ┆     ┆     ┆     ┆     ┆     ┆     ┆     ┆     ┆     ┆     ┆     ┆     ┆     ┆     ┆     ┆ 13  ┆     ┆     ┆     ┆     ┆     ┆     ┆     ┆     ┆     ┆     ┆     ┆     ┆     ┆     │\n",
       "│ 0   ┆ 17  ┆ 146 ┆ 0.3 ┆ 77  ┆ 12. ┆ 15. ┆ 22. ┆ 12. ┆ 15. ┆ 21. ┆ 21. ┆ 16. ┆ 18. ┆ 25. ┆ -37 ┆ 162 ┆ 1   ┆ 2   ┆ 148 ┆ 0.3 ┆ 274 ┆ 9.5 ┆ 8.0 ┆ 17. ┆ 16. ┆ 19. ┆ 18. ┆ 31. ┆ 14. ┆ 14. ┆ 20. ┆ -7. ┆ 208 │\n",
       "│     ┆     ┆ 2.9 ┆ 823 ┆     ┆ 0   ┆ 5   ┆ 5   ┆ 5   ┆ 5   ┆ 5   ┆ 0   ┆ 0   ┆ 5   ┆ 0   ┆ .6  ┆ 5.5 ┆     ┆     ┆ 9.2 ┆ 478 ┆     ┆     ┆     ┆ 0   ┆ 5   ┆ 5   ┆ 5   ┆ 0   ┆ 5   ┆ 0   ┆ 5   ┆ 8   ┆ 1.1 │\n",
       "│     ┆     ┆ 415 ┆ 53  ┆     ┆     ┆     ┆     ┆     ┆     ┆     ┆     ┆     ┆     ┆     ┆     ┆     ┆     ┆     ┆ 034 ┆ 26  ┆     ┆     ┆     ┆     ┆     ┆     ┆     ┆     ┆     ┆     ┆     ┆     ┆     │\n",
       "│     ┆     ┆ 96  ┆     ┆     ┆     ┆     ┆     ┆     ┆     ┆     ┆     ┆     ┆     ┆     ┆     ┆     ┆     ┆     ┆ 34  ┆     ┆     ┆     ┆     ┆     ┆     ┆     ┆     ┆     ┆     ┆     ┆     ┆     ┆     │\n",
       "│ 0   ┆ 15  ┆ 147 ┆ 0.1 ┆ 274 ┆ 12. ┆ 12. ┆ 15. ┆ 20. ┆ 18. ┆ 18. ┆ 17. ┆ 14. ┆ 14. ┆ 23. ┆ 11. ┆ 194 ┆ 1   ┆ 12  ┆ 153 ┆ 0.1 ┆ 79  ┆ 18. ┆ 17. ┆ 17. ┆ 23. ┆ 18. ┆ 17. ┆ 21. ┆ 13. ┆ 15. ┆ 12. ┆ -11 ┆ 182 │\n",
       "│     ┆     ┆ 9.6 ┆ 739 ┆     ┆ 0   ┆ 0   ┆ 5   ┆ 5   ┆ 5   ┆ 5   ┆ 5   ┆ 0   ┆ 5   ┆ 0   ┆ 8   ┆ 7.2 ┆     ┆     ┆ 3.0 ┆ 081 ┆     ┆ 5   ┆ 0   ┆ 5   ┆ 5   ┆ 0   ┆ 0   ┆ 0   ┆ 5   ┆ 5   ┆ 0   ┆ .6  ┆ 9.2 │\n",
       "│     ┆     ┆ 599 ┆ 13  ┆     ┆     ┆     ┆     ┆     ┆     ┆     ┆     ┆     ┆     ┆     ┆     ┆     ┆     ┆     ┆ 766 ┆ 08  ┆     ┆     ┆     ┆     ┆     ┆     ┆     ┆     ┆     ┆     ┆     ┆     ┆     │\n",
       "│     ┆     ┆ 7   ┆     ┆     ┆     ┆     ┆     ┆     ┆     ┆     ┆     ┆     ┆     ┆     ┆     ┆     ┆     ┆     ┆ 27  ┆     ┆     ┆     ┆     ┆     ┆     ┆     ┆     ┆     ┆     ┆     ┆     ┆     ┆     │\n",
       "│ 0   ┆ 7   ┆ 148 ┆ 0.4 ┆ 80  ┆ 14. ┆ 17. ┆ 12. ┆ 16. ┆ 17. ┆ 19. ┆ 14. ┆ 12. ┆ 14. ┆ 12. ┆ 2.8 ┆ 182 ┆ 1   ┆ 14  ┆ 147 ┆ 0.1 ┆ 260 ┆ 16. ┆ 12. ┆ 20. ┆ 18. ┆ 11. ┆ 20. ┆ 18. ┆ 11. ┆ 12. ┆ 16. ┆ -6. ┆ 195 │\n",
       "│     ┆     ┆ 4.9 ┆ 166 ┆     ┆ 0   ┆ 5   ┆ 5   ┆ 5   ┆ 5   ┆ 0   ┆ 5   ┆ 0   ┆ 0   ┆ 0   ┆     ┆ 1.9 ┆     ┆     ┆ 5.7 ┆ 25  ┆     ┆ 5   ┆ 0   ┆ 0   ┆ 5   ┆ 0   ┆ 5   ┆ 0   ┆ 5   ┆ 5   ┆ 5   ┆ 2   ┆ 2.6 │\n",
       "│     ┆     ┆ 179 ┆ 67  ┆     ┆     ┆     ┆     ┆     ┆     ┆     ┆     ┆     ┆     ┆     ┆     ┆     ┆     ┆     ┆ 467 ┆     ┆     ┆     ┆     ┆     ┆     ┆     ┆     ┆     ┆     ┆     ┆     ┆     ┆     │\n",
       "│     ┆     ┆ 68  ┆     ┆     ┆     ┆     ┆     ┆     ┆     ┆     ┆     ┆     ┆     ┆     ┆     ┆     ┆     ┆     ┆ 49  ┆     ┆     ┆     ┆     ┆     ┆     ┆     ┆     ┆     ┆     ┆     ┆     ┆     ┆     │\n",
       "│ 0   ┆ 13  ┆ 149 ┆ 0.5 ┆ 274 ┆ 27. ┆ 16. ┆ 20. ┆ 18. ┆ 24. ┆ 15. ┆ 15. ┆ 19. ┆ 12. ┆ 14. ┆ -27 ┆ 208 ┆ 1   ┆ 16  ┆ 142 ┆ 0.1 ┆ 274 ┆ 15. ┆ 18. ┆ 8.5 ┆ 14. ┆ 16. ┆ 27. ┆ 18. ┆ 27. ┆ 16. ┆ 13. ┆ 22. ┆ 189 │\n",
       "│     ┆     ┆ 9.0 ┆ 652 ┆     ┆ 5   ┆ 5   ┆ 5   ┆ 5   ┆ 0   ┆ 0   ┆ 0   ┆ 5   ┆ 5   ┆ 5   ┆ .0  ┆ 2.1 ┆     ┆     ┆ 4.2 ┆ 304 ┆     ┆ 0   ┆ 0   ┆     ┆ 0   ┆ 0   ┆ 5   ┆ 5   ┆ 0   ┆ 5   ┆ 5   ┆ 6   ┆ 9.3 │\n",
       "│     ┆     ┆ 610 ┆ 17  ┆     ┆     ┆     ┆     ┆     ┆     ┆     ┆     ┆     ┆     ┆     ┆     ┆     ┆     ┆     ┆ 705 ┆ 35  ┆     ┆     ┆     ┆     ┆     ┆     ┆     ┆     ┆     ┆     ┆     ┆     ┆     │\n",
       "│     ┆     ┆ 26  ┆     ┆     ┆     ┆     ┆     ┆     ┆     ┆     ┆     ┆     ┆     ┆     ┆     ┆     ┆     ┆     ┆ 03  ┆     ┆     ┆     ┆     ┆     ┆     ┆     ┆     ┆     ┆     ┆     ┆     ┆     ┆     │\n",
       "└─────┴─────┴─────┴─────┴─────┴─────┴─────┴─────┴─────┴─────┴─────┴─────┴─────┴─────┴─────┴─────┴─────┴─────┴─────┴─────┴─────┴─────┴─────┴─────┴─────┴─────┴─────┴─────┴─────┴─────┴─────┴─────┴─────┴─────┘"
      ]
     },
     "execution_count": 503,
     "metadata": {},
     "output_type": "execute_result"
    }
   ],
   "source": [
    "fixtureReady"
   ]
  },
  {
   "cell_type": "markdown",
   "id": "3f4cbf3c-88c2-48f0-b4b0-65f64a6b5778",
   "metadata": {},
   "source": [
    "### 10. Predict Outcomes & Probabilities"
   ]
  },
  {
   "cell_type": "code",
   "execution_count": 504,
   "id": "06ad48e3-fbbd-4dc1-b66c-fafa2db99a4e",
   "metadata": {},
   "outputs": [
    {
     "name": "stdout",
     "output_type": "stream",
     "text": [
      "shape: (9, 5)\n",
      "┌──────────────┬──────────────────┬───────────────────┬──────────────────┬──────────┐\n",
      "│ Round Number ┆ Home Team        ┆ Away Team         ┆ Predicted Winner ┆ Win Prob │\n",
      "│ ---          ┆ ---              ┆ ---               ┆ ---              ┆ ---      │\n",
      "│ i32          ┆ str              ┆ str               ┆ str              ┆ f64      │\n",
      "╞══════════════╪══════════════════╪═══════════════════╪══════════════════╪══════════╡\n",
      "│ 11           ┆ Western Bulldogs ┆ Sydney Swans      ┆ Western Bulldogs ┆ 55.55    │\n",
      "│ 11           ┆ Fremantle        ┆ Collingwood       ┆ Fremantle        ┆ 58.42    │\n",
      "│ 11           ┆ North Melbourne  ┆ Port Adelaide     ┆ Port Adelaide    ┆ 55.75    │\n",
      "│ 11           ┆ Carlton          ┆ Gold Coast Suns   ┆ Carlton          ┆ 63.34    │\n",
      "│ 11           ┆ Geelong Cats     ┆ GWS Giants        ┆ Geelong Cats     ┆ 53.8     │\n",
      "│ 11           ┆ Richmond         ┆ Essendon          ┆ Essendon         ┆ 56.04    │\n",
      "│ 11           ┆ Hawthorn         ┆ Brisbane Lions    ┆ Hawthorn         ┆ 50.97    │\n",
      "│ 11           ┆ Melbourne        ┆ St Kilda          ┆ Melbourne        ┆ 55.81    │\n",
      "│ 11           ┆ Adelaide Crows   ┆ West Coast Eagles ┆ Adelaide Crows   ┆ 77.38    │\n",
      "└──────────────┴──────────────────┴───────────────────┴──────────────────┴──────────┘\n"
     ]
    }
   ],
   "source": [
    "#load the model in\n",
    "model = pickle.load(open('aflModel.sav', 'rb'))\n",
    "#predict the fixture\n",
    "predictions = model.predict(fixtureReady)\n",
    "probs = model.predict_proba(fixtureReady)\n",
    "#find prob of results\n",
    "\n",
    "#send to csv file\n",
    "predictionDF = (predictionReady\n",
    "                 #place in results\n",
    "                 .with_columns(pl.Series(predictions).alias('Predictions'),\n",
    "                               pl.Series(probs).alias('Probs'))\n",
    "                 #Winner probs\n",
    "                 .with_columns(((pl.col('Probs').list.get(pl.col('Predictions')))*100).round(2).alias('Win Prob'))\n",
    "                 .with_columns(pl.when(pl.col('Predictions') == 1).then(pl.col('home.team.name')).otherwise(pl.col('away.team.name')).alias('Predicted Winner'))\n",
    "                 #Add current round\n",
    "                 .with_columns(pl.lit(roundNum).alias('Round Number'))\n",
    "                 #rename\n",
    "                 .rename({'home.team.name' : 'Home Team',\n",
    "                          'away.team.name' : 'Away Team'})\n",
    "                 #keep only wants required\n",
    "                 .select('Round Number', 'Home Team', 'Away Team', 'Predicted Winner', 'Win Prob')\n",
    "                )\n",
    "\n",
    "print(predictionDF)"
   ]
  },
  {
   "cell_type": "markdown",
   "id": "bc82d10b-0d07-4dbe-a081-66ac2a07eb26",
   "metadata": {},
   "source": [
    "### Add margins"
   ]
  },
  {
   "cell_type": "code",
   "execution_count": 505,
   "id": "fa320445-f27f-4e78-b392-dc12b358879c",
   "metadata": {},
   "outputs": [],
   "source": [
    "import numpy"
   ]
  },
  {
   "cell_type": "code",
   "execution_count": 506,
   "id": "9c975ddd-00f4-47c9-a07b-69f9da20466a",
   "metadata": {},
   "outputs": [],
   "source": [
    "def margin(prob):\n",
    "    prob = prob/100\n",
    "    margin = round((-1*numpy.log((1-prob)/prob))/0.03, 0)\n",
    "    if margin == 0:\n",
    "        margin = 1\n",
    "    return margin"
   ]
  },
  {
   "cell_type": "code",
   "execution_count": 510,
   "id": "780d235e-c089-4c8d-a8c3-92bd5543fee4",
   "metadata": {},
   "outputs": [
    {
     "name": "stdout",
     "output_type": "stream",
     "text": [
      "shape: (9, 6)\n",
      "┌──────────────┬──────────────────┬───────────────────┬──────────────────┬──────────┬────────┐\n",
      "│ Round Number ┆ Home Team        ┆ Away Team         ┆ Predicted Winner ┆ Win Prob ┆ Margin │\n",
      "│ ---          ┆ ---              ┆ ---               ┆ ---              ┆ ---      ┆ ---    │\n",
      "│ i32          ┆ str              ┆ str               ┆ str              ┆ f64      ┆ f64    │\n",
      "╞══════════════╪══════════════════╪═══════════════════╪══════════════════╪══════════╪════════╡\n",
      "│ 11           ┆ Geelong Cats     ┆ GWS Giants        ┆ Geelong Cats     ┆ 53.8     ┆ 5.0    │\n",
      "│ 11           ┆ Richmond         ┆ Essendon          ┆ Essendon         ┆ 56.04    ┆ 8.0    │\n",
      "│ 11           ┆ Melbourne        ┆ St Kilda          ┆ Melbourne        ┆ 55.81    ┆ 8.0    │\n",
      "│ 11           ┆ Adelaide Crows   ┆ West Coast Eagles ┆ Adelaide Crows   ┆ 77.38    ┆ 41.0   │\n",
      "│ 11           ┆ Western Bulldogs ┆ Sydney Swans      ┆ Western Bulldogs ┆ 55.55    ┆ 7.0    │\n",
      "│ 11           ┆ Fremantle        ┆ Collingwood       ┆ Fremantle        ┆ 58.42    ┆ 11.0   │\n",
      "│ 11           ┆ Carlton          ┆ Gold Coast Suns   ┆ Carlton          ┆ 63.34    ┆ 18.0   │\n",
      "│ 11           ┆ Hawthorn         ┆ Brisbane Lions    ┆ Hawthorn         ┆ 50.97    ┆ 1.0    │\n",
      "│ 11           ┆ North Melbourne  ┆ Port Adelaide     ┆ Port Adelaide    ┆ 55.75    ┆ 8.0    │\n",
      "└──────────────┴──────────────────┴───────────────────┴──────────────────┴──────────┴────────┘\n"
     ]
    }
   ],
   "source": [
    "predictionDF = predictionDF.with_columns(pl.col('Win Prob').map_elements(lambda x: margin(x)).alias('Margin')).unique()\n",
    "print(predictionDF)\n",
    "#send to csv file"
   ]
  },
  {
   "cell_type": "code",
   "execution_count": 167,
   "id": "9e173e4b-fc86-4078-937b-bb91613e851d",
   "metadata": {},
   "outputs": [],
   "source": [
    "#send to csv file\n",
    "predictionDF.write_csv(f'2024Predictions\\Erin_Round_{roundNum}.csv')"
   ]
  },
  {
   "cell_type": "markdown",
   "id": "550f4200-8d7b-4913-b0fb-34a2eee3f34b",
   "metadata": {},
   "source": [
    "round1.write_excel(f'2024Predictions\\Erin_Round_1.xlsx', autofit=True)"
   ]
  },
  {
   "cell_type": "code",
   "execution_count": null,
   "id": "8948a3c3-a360-4133-a231-c4aab9cbb580",
   "metadata": {},
   "outputs": [],
   "source": []
  }
 ],
 "metadata": {
  "kernelspec": {
   "display_name": "Python 3",
   "language": "python",
   "name": "python3"
  },
  "language_info": {
   "codemirror_mode": {
    "name": "ipython",
    "version": 3
   },
   "file_extension": ".py",
   "mimetype": "text/x-python",
   "name": "python",
   "nbconvert_exporter": "python",
   "pygments_lexer": "ipython3",
   "version": "3.8.8"
  }
 },
 "nbformat": 4,
 "nbformat_minor": 5
}
