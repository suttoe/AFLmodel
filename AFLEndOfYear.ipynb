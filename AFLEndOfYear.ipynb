{
 "cells": [
  {
   "cell_type": "markdown",
   "id": "dfa97b45-dd79-4fa8-8257-dcb03674256b",
   "metadata": {},
   "source": [
    "# AFL End of Year Process\n",
    "After the year has eneded, we can reset all the data ready for the new year and consider the parameters of our model.\n",
    "<br>Will have to update some season, year and dealing with whatever fun season change the powers that be dream up.<br>This is the playground essentially."
   ]
  },
  {
   "cell_type": "code",
   "execution_count": 1,
   "id": "29a36529-7773-4c27-ad6b-c46dd3aa3662",
   "metadata": {},
   "outputs": [
    {
     "name": "stderr",
     "output_type": "stream",
     "text": [
      "c:\\Users\\suttoe\\AppData\\Local\\anaconda3\\lib\\site-packages\\rpy2\\robjects\\lib\\dplyr.py:27: UserWarning: This was designed against dplyr versions starting with 1.0 but you have 1.1.4\n",
      "  warnings.warn(\n"
     ]
    }
   ],
   "source": [
    "#import packages\n",
    "import polars as pl\n",
    "import numpy as np\n",
    "#Import replace Team Names form other file so I only have to update in one place\n",
    "from ipynb.fs.defs.AFLupdate import replaceTeamNames\n",
    "pl.Config.set_fmt_str_lengths(150);\n",
    "pl.Config.set_tbl_rows(1000);\n",
    "pl.Config.set_tbl_cols(40);"
   ]
  },
  {
   "cell_type": "code",
   "execution_count": 2,
   "id": "b7f6d8d4-2254-4ef9-8a08-c7b9990a80c7",
   "metadata": {},
   "outputs": [
    {
     "name": "stderr",
     "output_type": "stream",
     "text": [
      "c:\\Users\\suttoe\\AppData\\Local\\anaconda3\\lib\\site-packages\\rpy2\\robjects\\packages.py:367: UserWarning: The symbol 'quartz' is not in this R namespace/package.\n",
      "  warnings.warn(\n"
     ]
    }
   ],
   "source": [
    "#set up R extension\n",
    "%load_ext rpy2.ipython"
   ]
  },
  {
   "cell_type": "markdown",
   "id": "7f640a37-f3c1-4acb-a193-700dfbed3e88",
   "metadata": {},
   "source": [
    "Get the fixtures from 2015>, taking into account the bye infomation 2019 onwards. "
   ]
  },
  {
   "cell_type": "code",
   "execution_count": 3,
   "id": "c7c0c7d5-b17a-45c5-8a41-964d71b8054c",
   "metadata": {
    "tags": []
   },
   "outputs": [
    {
     "name": "stdout",
     "output_type": "stream",
     "text": [
      "i Returning data for \"All Rounds, 2015\"\n",
      "v Returning data for \"All Rounds, 2015\" [2.6s]\n",
      "\n",
      "i Returning data for \"All Rounds, 2016\"\n",
      "v Returning data for \"All Rounds, 2016\" [1.5s]\n",
      "\n",
      "i Returning data for \"All Rounds, 2017\"\n",
      "v Returning data for \"All Rounds, 2017\" [425ms]\n",
      "\n",
      "i Returning data for \"All Rounds, 2018\"\n",
      "v Returning data for \"All Rounds, 2018\" [501ms]\n",
      "\n",
      "i Returning data for \"All Rounds, 2019\"\n",
      "v Returning data for \"All Rounds, 2019\" [2.1s]\n",
      "\n",
      "i Returning data for \"All Rounds, 2020\"\n",
      "v Returning data for \"All Rounds, 2020\" [1.6s]\n",
      "\n",
      "i Returning data for \"All Rounds, 2021\"\n",
      "v Returning data for \"All Rounds, 2021\" [1.9s]\n",
      "\n",
      "i Returning data for \"All Rounds, 2022\"\n",
      "v Returning data for \"All Rounds, 2022\" [2s]\n",
      "\n",
      "i Returning data for \"All Rounds, 2023\"\n",
      "v Returning data for \"All Rounds, 2023\" [2.1s]\n",
      "\n",
      "i Returning data for \"All Rounds, 2024\"\n",
      "v Returning data for \"All Rounds, 2024\" [693ms]\n",
      "\n"
     ]
    }
   ],
   "source": [
    "%%R -o seasons,seasonBye\n",
    "library('fitzRoy')\n",
    "library('dplyr')\n",
    "library('tidyr')\n",
    "\n",
    "seasonList <- c(2015, 2016, 2017, 2018, 2019, 2020, 2021, 2022, 2023, 2024)\n",
    "first <- TRUE\n",
    "for(s in seasonList) {\n",
    "    \n",
    "    df <- fetch_fixture(season = s, comp = \"AFLM\")\n",
    "\n",
    "    if (first) {\n",
    "        seasons <- df\n",
    "        first <- FALSE\n",
    "    }else{\n",
    "        seasons <- seasons %>% \n",
    "                      bind_rows(df)\n",
    "    }\n",
    "    \n",
    "}\n",
    "\n",
    "seasonBye <- seasons %>% \n",
    "                select(compSeason.id, compSeason.year, round.roundNumber, round.byes) %>%\n",
    "                filter(compSeason.year >= 2019) %>%\n",
    "                unnest(round.byes) %>%\n",
    "                distinct() %>%\n",
    "                mutate(round.nextRound = round.roundNumber + 1,\n",
    "                      ByeFlag = 1) %>%\n",
    "                select(compSeason.id, round.nextRound, club.id, club.name, ByeFlag)\n",
    "\n",
    "seasons <- seasons %>% select(-round.byes)\n",
    "    "
   ]
  },
  {
   "cell_type": "markdown",
   "id": "a8caffde-c4d3-471d-8014-e7d6729105e7",
   "metadata": {},
   "source": [
    "Assign -1 as the winner id for a draw, since 2015 there have been 15 draws. We also have a cancelled game, Cats vs. Crows 2015 R14 which we are just going to remove."
   ]
  },
  {
   "cell_type": "code",
   "execution_count": 4,
   "id": "6db12739-e1fa-4f33-aff0-c882f0b1aefb",
   "metadata": {},
   "outputs": [],
   "source": [
    "#Clean and prep the season bye info\n",
    "seasonBye = pl.from_pandas(seasonBye).drop('club.id').with_columns(pl.col('round.nextRound').cast(pl.Int32))"
   ]
  },
  {
   "cell_type": "code",
   "execution_count": 5,
   "id": "22422b42",
   "metadata": {},
   "outputs": [],
   "source": [
    "#Ensure all the club names are correct\n",
    "seasonBye = replaceTeamNames(seasonBye, 'club.name')"
   ]
  },
  {
   "cell_type": "code",
   "execution_count": 6,
   "id": "9f7cb59d",
   "metadata": {},
   "outputs": [],
   "source": [
    "#get the correct team names for the seasons\n",
    "seasons = pl.from_pandas(seasons).with_columns(pl.col('home.team.name').str.strip_chars())\n",
    "seasons = replaceTeamNames(seasons, 'home.team.name')\n",
    "seasons = replaceTeamNames(seasons, 'away.team.name')"
   ]
  },
  {
   "cell_type": "code",
   "execution_count": 7,
   "id": "02600baa-f9c5-465a-bbff-a2929d60ba8d",
   "metadata": {},
   "outputs": [],
   "source": [
    "#The inital cleaning working with the gneral match details. We can use this as our base for creating the desired attributes\n",
    "seasonsBase = (seasons\n",
    "                .sort('round.id')\n",
    "                #Keep only the columns we want\n",
    "                .select('id', 'status', 'compSeason.id', 'compSeason.year', 'round.roundNumber', 'home.team.club.id', 'home.team.name',\n",
    "                        'away.team.club.id', 'away.team.name', 'home.score.goals', 'home.score.behinds', 'home.score.totalScore',\n",
    "                        'away.score.goals', 'away.score.behinds', 'away.score.totalScore', 'venue.id', 'venue.name', 'venue.state')\n",
    "                #Remove the Crows vs. Cats 2015 R14 game which was cancelled\n",
    "                .filter(pl.col('id') != 847)\n",
    "                #Label Previous comp year\n",
    "                .with_columns((pl.col('compSeason.year') - 1).alias('prevComp.year'))\n",
    "                #Label in sequential order (currently missing numbers in existing round.id) to get the previous games \n",
    "                .join(seasons\n",
    "                .select('compSeason.year', 'round.roundNumber')\n",
    "                .unique()\n",
    "                .sort('compSeason.year', 'round.roundNumber')\n",
    "                .with_columns(pl.col('round.roundNumber').cum_count().alias('round.id')), how='left', on=['compSeason.year', 'round.roundNumber'])\n",
    "     #create the margin\n",
    "        .with_columns((pl.col('home.score.totalScore') - pl.col('away.score.totalScore')).abs().alias('win.margin'))   \n",
    "     #Add a bye flag\n",
    "        .join(seasonBye, how='left', left_on=['compSeason.id', 'round.roundNumber', 'home.team.name'], right_on=['compSeason.id', 'round.nextRound', 'club.name'])\n",
    "        .join(seasonBye, how='left', left_on=['compSeason.id', 'round.roundNumber', 'away.team.name'], right_on=['compSeason.id', 'round.nextRound', 'club.name'])\n",
    "     #Rename bye flag\n",
    "        .rename({'ByeFlag' : 'home.bye.flag',\n",
    "              'ByeFlag_right' : 'away.bye.flag'})\n",
    "     #Fill in bye flag nulls\n",
    "        .with_columns(pl.col('home.bye.flag').fill_null(0).cast(pl.Int32),\n",
    "                   pl.col('away.bye.flag').fill_null(0).cast(pl.Int32))\n",
    "    #Fill venue blank states with china (1 is not china but NZ but is in 2015 so we wont worry about that)\n",
    "        .with_columns(pl.col('venue.state').fill_null('China'))\n",
    "        )"
   ]
  },
  {
   "cell_type": "code",
   "execution_count": 8,
   "id": "a3cf3b66-a68c-48f0-9a6d-c929b07f4cae",
   "metadata": {},
   "outputs": [],
   "source": [
    "#Add a round id\n",
    "seasonsBase = (seasonsBase\n",
    "     .join((seasonsBase\n",
    "                 .select('compSeason.year', 'round.roundNumber')\n",
    "                 .unique()\n",
    "                 .sort('compSeason.year', 'round.roundNumber')\n",
    "                 .with_columns(pl.col('round.roundNumber').cum_count().alias('round.Id'))), how='left', on=['compSeason.year', 'round.roundNumber'])\n",
    ")"
   ]
  },
  {
   "cell_type": "code",
   "execution_count": 9,
   "id": "f2a04b36-e9d4-4b1d-b5de-2b2f2c93031b",
   "metadata": {
    "scrolled": true,
    "tags": []
   },
   "outputs": [],
   "source": [
    "#Create a dataframe with all the match details (repeated so that boths teams get to be team A and team B)\n",
    "allMatchesBothSides = (seasonsBase\n",
    "     .select('compSeason.year', 'round.roundNumber', 'round.id', 'venue.id', 'home.team.club.id', 'home.team.name', 'home.score.totalScore', \n",
    "             'home.score.goals', 'home.score.behinds', 'away.team.club.id', 'away.team.name', 'away.score.totalScore', 'away.score.goals', 'away.score.behinds')\n",
    "     .rename({'home.team.name': 'team.A.name',\n",
    "              'home.team.club.id' : 'team.A.club.id',\n",
    "              'home.score.totalScore' : 'team.A.score.totalScore',\n",
    "              'home.score.goals' : 'team.A.score.goals',\n",
    "              'home.score.behinds' : 'team.A.score.behinds',\n",
    "              'away.team.name': 'team.B.name',\n",
    "              'away.team.club.id' : 'team.B.club.id',\n",
    "              'away.score.totalScore' : 'team.B.score.totalScore',\n",
    "              'away.score.goals' : 'team.B.score.goals',\n",
    "              'away.score.behinds' : 'team.B.score.behinds'})\n",
    "     .vstack(seasonsBase\n",
    "     .select('compSeason.year', 'round.roundNumber', 'round.id', 'venue.id', 'away.team.club.id', 'away.team.name', 'away.score.totalScore',\n",
    "             'away.score.goals', 'away.score.behinds', 'home.team.club.id', 'home.team.name', 'home.score.totalScore', 'home.score.goals', 'home.score.behinds')\n",
    "     .rename({'home.team.name': 'team.B.name',\n",
    "              'home.team.club.id' : 'team.B.club.id',\n",
    "              'home.score.totalScore' : 'team.B.score.totalScore',\n",
    "              'home.score.goals' : 'team.B.score.goals',\n",
    "              'home.score.behinds' : 'team.B.score.behinds',\n",
    "              'away.team.name': 'team.A.name',\n",
    "             'away.team.club.id' : 'team.A.club.id',\n",
    "              'away.score.totalScore' : 'team.A.score.totalScore',\n",
    "              'away.score.goals' : 'team.A.score.goals',\n",
    "              'away.score.behinds' : 'team.A.score.behinds'}))\n",
    "     .sort('team.A.club.id', 'round.id')\n",
    ")"
   ]
  },
  {
   "cell_type": "code",
   "execution_count": 10,
   "id": "9f855f8f-3550-40bb-b52b-020f1c68c04f",
   "metadata": {},
   "outputs": [],
   "source": [
    "#Create a link between teams club id and the elo index 0-17 \n",
    "indexTeams = allMatchesBothSides.select('team.A.name', 'team.A.club.id').unique().sort('team.A.club.id').with_columns((pl.col('team.A.name').cum_count() - 1).alias('EloIndex'))"
   ]
  },
  {
   "cell_type": "code",
   "execution_count": 11,
   "id": "1c24c49b-df45-48f6-b90e-4dd8a938ca96",
   "metadata": {},
   "outputs": [],
   "source": [
    "#Add the created team index\n",
    "seasonsBase = (seasonsBase\n",
    "                   .join(indexTeams.drop('team.A.club.id'), how='left', left_on='home.team.name', right_on='team.A.name')\n",
    "                   .rename({'EloIndex' : 'home.team.id'})\n",
    "                   .join(indexTeams.drop('team.A.club.id'), how='left', left_on='away.team.name', right_on='team.A.name')\n",
    "                   .rename({'EloIndex' : 'away.team.id'})\n",
    "                    #Label the id winner (-1 for a draw, 1 for home & 0 for away)\n",
    "                    .with_columns(pl.when(pl.col('home.score.totalScore') >= pl.col('away.score.totalScore')).then(pl.lit(1))\n",
    "                                .when(pl.col('home.score.totalScore') < pl.col('away.score.totalScore')).then(pl.lit(0))\n",
    "                                 .alias('winner'))\n",
    "              )"
   ]
  },
  {
   "cell_type": "markdown",
   "id": "f46a1304-d5a6-4b58-a9d3-a5d7add72ef9",
   "metadata": {},
   "source": [
    "## Get the ladder poistions at beginning round and last seasons final ladder position."
   ]
  },
  {
   "cell_type": "code",
   "execution_count": 12,
   "id": "7390bad0-8c5f-432f-b209-fa153f3466d3",
   "metadata": {},
   "outputs": [],
   "source": [
    "%%R -o ladder\n",
    "\n",
    "season <- c(2015,2016,2017,2018,2019,2020,2021, 2022, 2023, 2024)\n",
    "rounds <- c(1,2,3,4,5,6,7,8,9,10,11,12,13,14,15,16,17,18,19,20,21,22,23)\n",
    "first <- TRUE\n",
    "\n",
    "for(s in season){\n",
    "    for(r in rounds){\n",
    "\n",
    "        if(s==2020 && r <= 18){\n",
    "            df <- fetch_ladder_afl(season=s, round_number=r)\n",
    "        }else if(s!=2020){\n",
    "            df <- fetch_ladder_afl(season=s, round_number=r)\n",
    "        }\n",
    "\n",
    "        if(first){\n",
    "            ladder <- df\n",
    "            first <- FALSE\n",
    "        }else{\n",
    "            ladder <- ladder %>% bind_rows(df)\n",
    "        }\n",
    "    }\n",
    "\n",
    "    if(s == 2024){\n",
    "        ladder <- ladder %>% bind_rows(fetch_ladder_afl(season=s, round_number = 0))\n",
    "    }\n",
    "\n",
    "    if(s >= 2023){\n",
    "        ladder <- ladder %>% bind_rows(fetch_ladder_afl(season=s, round_number=24))\n",
    "    }\n",
    "}\n",
    "\n",
    "ladder = ladder %>% select(season, round_number, position, team.club.id, team.club.name)\n",
    "        "
   ]
  },
  {
   "cell_type": "code",
   "execution_count": 13,
   "id": "ff1c7a61",
   "metadata": {},
   "outputs": [],
   "source": [
    "#Ensure ladder team names are correct\n",
    "ladder = replaceTeamNames(pl.from_pandas(ladder), 'team.club.name')"
   ]
  },
  {
   "cell_type": "code",
   "execution_count": 14,
   "id": "c6d231f6-568a-4e8e-9497-620773915d26",
   "metadata": {},
   "outputs": [],
   "source": [
    "ladderNormal = (ladder\n",
    "     .with_columns((pl.col('round_number') + 1).alias('nextRound'))\n",
    "     .drop('team.club.id', 'round_number')\n",
    "                  )"
   ]
  },
  {
   "cell_type": "code",
   "execution_count": 15,
   "id": "524c5424-3f8f-416d-8b21-05aa33f00aad",
   "metadata": {},
   "outputs": [],
   "source": [
    "#get the final ladder of each season\n",
    "ladderFinal = (ladder\n",
    "                   #Get the final ladder at the end of the season\n",
    "                   .filter(pl.col('round_number') == pl.col('round_number').max().over('season'))\n",
    "                   #get the next season (for assigning to the nest round 1)\n",
    "                   .with_columns((pl.col('season') + 1).alias('Nextseason'),\n",
    "                                 pl.lit(1).alias('first_round'))\n",
    "              )"
   ]
  },
  {
   "cell_type": "code",
   "execution_count": 16,
   "id": "f08c9693-e9a8-4522-8688-667610373320",
   "metadata": {
    "tags": []
   },
   "outputs": [],
   "source": [
    "#Add home and away ladder positions before \n",
    "ladderPosition = (seasonsBase\n",
    "     .select('compSeason.year', 'round.roundNumber')\n",
    "     .unique()\n",
    "     .sort('compSeason.year', 'round.roundNumber')\n",
    "     #from round 2 till finals\n",
    "     .join(ladderNormal, how='left', left_on=['compSeason.year', 'round.roundNumber'], right_on=['season', 'nextRound'])\n",
    "     #for round 1 the final ladder of previous season\n",
    "     .join(ladderFinal.drop('season', 'round_number'), how='left', left_on=['compSeason.year', 'round.roundNumber'], right_on=['Nextseason', 'first_round'])\n",
    "     .rename({'position_right' : 'position1',\n",
    "              'team.club.name_right' : 'team.club.name1'})\n",
    "     #for the finals\n",
    "     .join(ladderFinal, how='left', left_on='compSeason.year', right_on='season')\n",
    "     #put all the parts together\n",
    "     .with_columns(pl.when(~pl.col('position').is_null()).then(pl.col('position'))\n",
    "                     .when(~pl.col('position1').is_null()).then(pl.col('position1')).otherwise(pl.col('position_right')).alias('position'),\n",
    "                   pl.when(~pl.col('team.club.name').is_null()).then(pl.col('team.club.name'))\n",
    "                     .when(~pl.col('team.club.name1').is_null()).then(pl.col('team.club.name1')).otherwise(pl.col('team.club.name_right')).alias('team.club.name'))\n",
    "     #select only what we want\n",
    "     .select('compSeason.year', 'round.roundNumber', 'team.club.name', 'position')\n",
    "     .unique()\n",
    "     .sort('compSeason.year', 'round.roundNumber', 'position')\n",
    "     #get the fianl positioning of the previous year\n",
    "     .join(ladderFinal.drop('season', 'round_number', 'first_round', 'team.club.id'), how='left', left_on=['compSeason.year', 'team.club.name'], right_on=['Nextseason', 'team.club.name'])\n",
    "     .rename({'position_right': 'last.season.position'})\n",
    "                           \n",
    ")           "
   ]
  },
  {
   "cell_type": "code",
   "execution_count": 17,
   "id": "fff32578-1da4-446b-8e26-352b1c495d9a",
   "metadata": {
    "scrolled": true,
    "tags": []
   },
   "outputs": [],
   "source": [
    "seasonsStep2 = (seasonsBase\n",
    "                 #join the ladderPosition to get the home teams ladder info\n",
    "                 .join(ladderPosition.rename({'position':'home.ladder.position', 'last.season.position': 'home.last.season.position'}),\n",
    "                       how='left',\n",
    "                       left_on=['compSeason.year', 'round.roundNumber', 'home.team.name'],\n",
    "                       right_on=['compSeason.year', 'round.roundNumber', 'team.club.name'])\n",
    "                 #Clean up any duplicates\n",
    "                 .unique()\n",
    "                 #join the ladderPosition to get the away teams ladder info\n",
    "                 .join(ladderPosition.rename({'position':'away.ladder.position', 'last.season.position': 'away.last.season.position'}),\n",
    "                       how='left',\n",
    "                       left_on=['compSeason.year', 'round.roundNumber', 'away.team.name'],\n",
    "                       right_on=['compSeason.year', 'round.roundNumber', 'team.club.name'])\n",
    "                 #clean up any duplicates\n",
    "                 .unique()\n",
    "                 #sort into order\n",
    "                 .sort('compSeason.year', 'round.roundNumber')\n",
    "     \n",
    "                )"
   ]
  },
  {
   "cell_type": "markdown",
   "id": "65a19d70-f8a7-4f52-b26a-255d5c37eddf",
   "metadata": {},
   "source": [
    "## Get the distance travelled"
   ]
  },
  {
   "cell_type": "code",
   "execution_count": 18,
   "id": "32dd80ff-c2f5-4269-a189-5a1837f00801",
   "metadata": {},
   "outputs": [
    {
     "name": "stderr",
     "output_type": "stream",
     "text": [
      "C:\\Users\\suttoe\\AppData\\Local\\Temp\\ipykernel_20988\\2175747362.py:11: DeprecationWarning: `DataFrame.melt` is deprecated. Use `unpivot` instead, with `index` instead of `id_vars` and `on` instead of `value_vars`\n",
      "  distanceTravelled = (seasonsBase\n"
     ]
    }
   ],
   "source": [
    "#Create a table for distance between states and where the team is based (based on capital to capital)\n",
    "vic = pl.Series([0, 654, 714, 2727, 1373, 0, 0, 1373, 0, 0, 0, 654, 0, 0, 0, 2727, 714, 0])\n",
    "nsw = pl.Series([714, 1165, 0, 3297, 730, 714, 714, 730, 714, 714, 714, 1165, 714, 714, 714, 3297, 0, 714])\n",
    "qld = pl.Series([1373, 1602, 730, 3613, 0, 1373, 1373, 0, 1373, 1373, 1373, 1602, 1373, 1373, 1373, 3613, 730, 1373])\n",
    "nt = pl.Series([3140, 2609, 3144, 2647, 2846, 3140, 3140, 2846, 3140, 3140, 3140, 2609, 3140, 3140, 3140, 2647, 3144, 3140])\n",
    "wa = pl.Series([2727, 2135, 3297, 0, 3613, 2727, 2727, 3613, 2727,2727, 2727, 2135, 2727, 2727, 2727, 0, 3297, 2727])\n",
    "sa = pl.Series([654, 0, 1165, 2135, 1602, 654, 654, 1602, 654, 654, 654, 0, 654, 654, 654, 2135, 1165, 654])\n",
    "tas = pl.Series([597, 1161, 1056, 3015, 1786, 597, 597, 1786, 597, 597, 597, 1161, 597, 597, 597, 3015, 1161, 597])\n",
    "act = pl.Series([467, 960, 942, 3095, 942, 467, 467, 247, 467, 467, 467, 960, 467, 467, 467, 3095, 247, 467])\n",
    "china = pl.Series([8036, 6956, 7592, 7050, 6225, 8036, 8036, 6225, 8036, 8036, 8036, 6956, 8036, 8036, 8036, 7050, 7592, 8036])\n",
    "distanceTravelled = (seasonsBase\n",
    "                         .select('home.team.name', 'home.team.club.id').unique()\n",
    "                         .sort('home.team.club.id')\n",
    "                         .with_columns(vic.alias('VIC'),\n",
    "                                       nsw.alias('NSW'),\n",
    "                                       qld.alias('QLD'),\n",
    "                                       nt.alias('NT'),\n",
    "                                       wa.alias('WA'),\n",
    "                                       sa.alias('SA'),\n",
    "                                       tas.alias('TAS'),\n",
    "                                       act.alias('ACT'),\n",
    "                                       china.alias('China'))\n",
    "                         .rename({'home.team.name' : 'team.name'})\n",
    "                         .drop('home.team.club.id')\n",
    "                         .melt(id_vars='team.name', variable_name='State', value_name='Distance')\n",
    "                        )"
   ]
  },
  {
   "cell_type": "code",
   "execution_count": 19,
   "id": "9a1dddb7-115a-4067-918c-5dbb8014072f",
   "metadata": {},
   "outputs": [],
   "source": [
    "seasonStep3 = (seasonsStep2\n",
    "                 #Home team distance travelled to venue\n",
    "                 .join(distanceTravelled.rename({'Distance' : 'home.distance'}), how='left', left_on=['home.team.name', 'venue.state'], right_on=['team.name', 'State'])\n",
    "                 #Away team distance travelled to venue\n",
    "                 .join(distanceTravelled.rename({'Distance' : 'away.distance'}), how='left', left_on=['away.team.name', 'venue.state'], right_on=['team.name', 'State'])\n",
    "                )"
   ]
  },
  {
   "cell_type": "markdown",
   "id": "db5e4fea-8ca1-43c9-9e93-8bf0e25a03b8",
   "metadata": {},
   "source": [
    "## Team ELO Rating"
   ]
  },
  {
   "cell_type": "code",
   "execution_count": 20,
   "id": "dd1c74b0-e2dc-4de7-88e3-308320278cd6",
   "metadata": {},
   "outputs": [],
   "source": [
    "#create a function to find a teams prediction\n",
    "def eloTeamPrediction(ratingTeamA, ratingTeamB):\n",
    "    exp = (-1*(ratingTeamA - ratingTeamB))/400\n",
    "    b = 1 + 10 ** exp\n",
    "    result = 1/b\n",
    "    return result"
   ]
  },
  {
   "cell_type": "code",
   "execution_count": 21,
   "id": "d4683431-c9fe-45fb-a681-8a9271cda9b9",
   "metadata": {},
   "outputs": [],
   "source": [
    "#create a function to find the teams result, inital B = 0.004 per Multifactorial analysis of factors influencing elite australian football match outcomes: a machine learning approach\n",
    "def eloTeamResult(scoreTeamA, scoreTeamB):\n",
    "    exp = -0.04*(scoreTeamA - scoreTeamB)\n",
    "    b = 1 + np.exp(exp)\n",
    "    result = 1/b\n",
    "    return result"
   ]
  },
  {
   "cell_type": "code",
   "execution_count": 22,
   "id": "eef01980-8869-4c41-8300-e0c01509b3dc",
   "metadata": {},
   "outputs": [],
   "source": [
    "#Create a function to get change in teams elo, set K=67.559 per Multifactorial analysis of factors influencing elite australian football match outcomes: a machine learning approach\n",
    "def eloChange(ratingTeamA, ratingTeamB, scoreTeamA, scoreTeamB):\n",
    "    #get Team prediction\n",
    "    prediction = eloTeamPrediction(ratingTeamA, ratingTeamB)\n",
    "    \n",
    "    #get actual result\n",
    "    actual = eloTeamResult(scoreTeamA , scoreTeamB)\n",
    "    \n",
    "    #get elo change\n",
    "    result = 20*(actual - prediction)\n",
    "    \n",
    "    #get new elo\n",
    "    newElo = ratingTeamA + result\n",
    "    \n",
    "    return newElo"
   ]
  },
  {
   "cell_type": "code",
   "execution_count": 23,
   "id": "48b0a44a-ef96-48aa-b390-da70c5870580",
   "metadata": {},
   "outputs": [],
   "source": [
    "#Create a function to get the elo for the start of the season, set Carry over at 0.70628 per Multifactorial analysis of factors influencing elite australian football match outcomes: a machine learning approach\n",
    "def eloNewSeason(lastElo):\n",
    "    carryOver = 0.80\n",
    "    result = carryOver * lastElo + 1500 * (1 - carryOver)\n",
    "    return result"
   ]
  },
  {
   "cell_type": "code",
   "execution_count": 24,
   "id": "a3479419-ee93-4333-88f9-ce603c43287e",
   "metadata": {},
   "outputs": [],
   "source": [
    "#Function to rule them all! assign elo values\n",
    "def eloFucntions(roundNumber, teamAScore, teamBScore, prevEloA, prevEloB):\n",
    "    #If first round of the season get the carry over elo value\n",
    "    if roundNumber == 1:\n",
    "        elo = eloNewSeason(prevEloA)\n",
    "    #If normal round then find new score\n",
    "    else:\n",
    "        elo = eloChange(prevEloA, prevEloB, teamAScore, teamBScore)\n",
    "    #return current elo \n",
    "    return elo   \n",
    "   \n",
    "    "
   ]
  },
  {
   "cell_type": "code",
   "execution_count": 25,
   "id": "7da2e004-92f7-47b6-93d1-bc111868f7fa",
   "metadata": {},
   "outputs": [],
   "source": [
    "#Elo list of lists to record elo's and access past elo values, with index = elo index translation found in eloIndexTeams table\n",
    "#Starting elo as default 1500\n",
    "eloScores = [[1500] * 18]\n",
    "#starting roundIndex "
   ]
  },
  {
   "cell_type": "code",
   "execution_count": 26,
   "id": "3f5e60d8-cac7-49b9-aac5-09ad6fc00466",
   "metadata": {},
   "outputs": [],
   "source": [
    "def eloNumber(roundId, roundNumber, clubA, clubB, roundIdA, roundIdB, indexA, indexB):\n",
    "    #set roundId for indexing\n",
    "    roundId = roundId - 1\n",
    "    #create default elo\n",
    "    elo=1500.0\n",
    "    #Check if new round by checking a new list has been added for the round\n",
    "    if roundId >= np.shape(eloScores)[0]:\n",
    "        #Append new list for new round\n",
    "        eloScores.append(eloScores[roundId - 1])\n",
    "        \n",
    "    #Deal with very first round we consider, simply create base for next round\n",
    "    if roundId == 0:\n",
    "        elo = 1500.0\n",
    "    #For all other rounds get the elo\n",
    "    else: \n",
    "        \n",
    "        #Get the new elo score\n",
    "        elo = eloFucntions(roundNumber, teamScores[clubA][roundIdA-1], teamScores[clubB][roundIdB-1], eloScores[roundId-1][indexA], eloScores[roundId-1][indexB])\n",
    "        #Change list of list to reflect the new score\n",
    "        eloScores[roundId][indexA] = elo\n",
    "        \n",
    "\n",
    "    #Return Elo\n",
    "    return elo\n",
    "        "
   ]
  },
  {
   "cell_type": "code",
   "execution_count": 27,
   "id": "84a77ed2-46c9-46f2-821d-32657fdbcfca",
   "metadata": {},
   "outputs": [],
   "source": [
    "teamScores = dict(allMatchesBothSides.drop('team.B.club.id', 'team.B.name', 'team.B.score.totalScore').group_by('team.A.name').agg(pl.col('team.A.score.totalScore')).to_numpy())"
   ]
  },
  {
   "cell_type": "code",
   "execution_count": 28,
   "id": "70ee2621-2c69-4f95-87b3-ca15d6668e31",
   "metadata": {
    "scrolled": true,
    "tags": []
   },
   "outputs": [
    {
     "name": "stderr",
     "output_type": "stream",
     "text": [
      "C:\\Users\\suttoe\\AppData\\Local\\Temp\\ipykernel_20988\\1401470024.py:12: MapWithoutReturnDtypeWarning: Calling `map_elements` without specifying `return_dtype` can lead to unpredictable results. Specify `return_dtype` to silence this warning.\n",
      "  .with_columns(pl.struct(['round.roundNumber', 'round.id', 'team.A.name', 'team.B.name', 'team.A.round.index', 'team.B.round.index', 'elo.index.A', 'elo.index.B'])\n"
     ]
    }
   ],
   "source": [
    "eloScoreDF = (allMatchesBothSides\n",
    "                 #Get the cleaned indexes for A teams\n",
    "                 .join(indexTeams.rename({'EloIndex': 'elo.index.A'}).drop('team.A.club.id'), how='left', on='team.A.name')\n",
    "                 #Get the cleaned indexes for B teams\n",
    "                 .join(indexTeams.rename({'EloIndex': 'elo.index.B'}).drop('team.A.club.id'), how='left', left_on='team.B.name', right_on='team.A.name')\n",
    "                 .with_columns((pl.col('team.A.name').cum_count() - 1).over(pl.col('team.A.name')).alias('team.A.round.index'))\n",
    "                 .sort('round.id', 'team.B.name')\n",
    "                 .with_columns((pl.col('team.B.name').cum_count() - 1).over(pl.col('team.B.name')).alias('team.B.round.index'))\n",
    "                 #sort so the assigning of elo scores are pasted on past club info\n",
    "                 .sort('round.id', 'team.A.name')\n",
    "                 #Get the elo scores\n",
    "                 .with_columns(pl.struct(['round.roundNumber', 'round.id', 'team.A.name', 'team.B.name', 'team.A.round.index', 'team.B.round.index', 'elo.index.A', 'elo.index.B'])\n",
    "                                 .map_elements(lambda x : eloNumber(x['round.id'], x['round.roundNumber'], x['team.A.name'], x['team.B.name'], x['team.A.round.index'], x['team.B.round.index'], x['elo.index.A'], x['elo.index.B']))\n",
    "                                 .alias('elo.score'))\n",
    "                 #Keep only the info we actually want\n",
    "                 .select('compSeason.year', 'round.roundNumber', 'round.id', 'team.A.name', 'elo.score')\n",
    "                )"
   ]
  },
  {
   "cell_type": "code",
   "execution_count": 29,
   "id": "0469f4de-3faa-4b29-9fdc-a92836de46db",
   "metadata": {},
   "outputs": [],
   "source": [
    "#Join the elo scores up into the main dataframe\n",
    "seasonStep3 = (seasonsStep2\n",
    "     #elo scores for the home teams\n",
    "     .join(eloScoreDF.rename({'elo.score' : 'home.elo.score'}),\n",
    "           how='left',\n",
    "           left_on=['compSeason.year', 'round.roundNumber', 'round.id', 'home.team.name'],\n",
    "           right_on=['compSeason.year', 'round.roundNumber', 'round.id', 'team.A.name'])\n",
    "     #elo scores for the away teams\n",
    "    .join(eloScoreDF.rename({'elo.score' : 'away.elo.score'}),\n",
    "           how='left',\n",
    "           left_on=['compSeason.year', 'round.roundNumber', 'round.id', 'away.team.name'],\n",
    "           right_on=['compSeason.year', 'round.roundNumber', 'round.id', 'team.A.name'])\n",
    ")"
   ]
  },
  {
   "cell_type": "markdown",
   "id": "52564847-0d6c-4445-8a7d-5f6a8b49294b",
   "metadata": {},
   "source": [
    "## Home Advantage/Disadvantage\n",
    "Turns out (even not considering 2020, which we are) the term 'home team' can mean fairly little which might go some way to explaining how the chances of winning if the home team is only slightly elvated due to been the home team. Therefore to consider this, we will get the portion of games each time played at the venue in the previous year, this of course can mean that there are some venues that no-one played at last year and the advantage/disadvantage will be 0 (and not undefinied).<br>\n",
    "2025: Update to percent of wins at the ground, grouping by rolling seasons, i.e. 26 rounds instead of striaght season."
   ]
  },
  {
   "cell_type": "code",
   "execution_count": 65,
   "id": "5ecd0957-3ee9-40b9-8bd6-af70cb0a96ca",
   "metadata": {},
   "outputs": [],
   "source": [
    "#Get the portion of games played at venue current season\n",
    "teamRoundVenue = (allMatchesBothSides\n",
    "                     #index the team names for rolling \n",
    "                     .sort('team.A.name', 'compSeason.year', 'round.id')\n",
    "                     .with_columns(pl.col('team.A.name').cum_count().over('team.A.name').alias('team.A.index'))\n",
    "                     #.sort('team.A.index', 'team.A.name')               \n",
    "                     #find the winner of each game \n",
    "                     .with_columns(pl.when(pl.col('team.A.score.totalScore') >= pl.col('team.B.score.totalScore')).then(pl.lit(1)).otherwise(pl.lit(0)).alias('team.A.winner'))\n",
    "                     #Get the number of times each team played at a venue during past 26 rounds approx. number of games a season i.e. rolling season\n",
    "                     .sort('team.A.name', 'round.id'))\n",
    "\n",
    "teamRoundVenue = (teamRoundVenue\n",
    "                     .rolling(index_column='team.A.index', period='26i', closed='left', group_by=['team.A.name', 'venue.id'])\n",
    "                     .agg(pl.col('round.id').len().alias('VenuePlayed'),\n",
    "                          #pl.col('compSeason.year').max().alias('compSeason.year'),\n",
    "                          #pl.col('round.id').max().alias('round.id'),\n",
    "                          pl.col('team.A.winner').sum().alias('wins'))\n",
    "                     .join(teamRoundVenue.select('compSeason.year', 'round.id', 'team.A.index'), how='left', on='team.A.index')\n",
    "                     .unique()\n",
    "                     #.filter(pl.col('round.id').is_not_null())\n",
    "                     #How much of their time did the team spend at any venue\n",
    "                     .with_columns((pl.col('VenuePlayed')/26).alias('VenuePortion'))\n",
    "                     .with_columns((pl.col('wins')/pl.col('VenuePlayed')).alias('VenueWinnerPortion'))\n",
    "                     .sort('compSeason.year', 'team.A.name', 'VenuePlayed')\n",
    "                     #Keep only what we need going forward\n",
    "                     .select('compSeason.year', 'round.id', 'team.A.name', 'venue.id', 'VenuePortion', 'VenueWinnerPortion')\n",
    "                 )"
   ]
  },
  {
   "cell_type": "code",
   "execution_count": 66,
   "id": "cba46ef7-af61-439c-971a-f7bf4a97ed22",
   "metadata": {},
   "outputs": [],
   "source": [
    "#Get portion of games played at venue last season\n",
    "teamRoundVenue = (allMatchesBothSides\n",
    "                      .drop('venue.id')\n",
    "                      #Again get all the venues in the same column and keep only what required\n",
    "                     .join(seasonsBase.select('round.id', 'home.team.name', 'venue.id'), how='left', left_on=['round.id', 'team.A.name'], right_on=['round.id', 'home.team.name'])\n",
    "                     .join(seasonsBase.select('round.id', 'away.team.name', 'venue.id'), how='left', left_on=['round.id', 'team.A.name'], right_on=['round.id', 'away.team.name'])\n",
    "                     .with_columns(pl.when(pl.col('venue.id').is_null()).then(pl.col('venue.id_right')).otherwise(pl.col('venue.id')).alias('venue.id'))\n",
    "                     .drop('venue.id_right', 'team.A.score.totalScore', 'team.B.club.id', 'team.B.name', 'team.B.score.totalScore')\n",
    "                     #Get the previous seasons portion of games played at any venue\n",
    "                     .join(teamRoundVenue, how='left', on=['round.id', 'team.A.name', 'venue.id'])\n",
    "                     #For venue not played at the previous \n",
    "                     .with_columns(pl.col('VenuePortion').fill_null(0),\n",
    "                                   pl.col('VenueWinnerPortion').fill_null(0))\n",
    "                     .select('round.id', 'team.A.name', 'venue.id', 'VenuePortion', 'VenueWinnerPortion')\n",
    "                )"
   ]
  },
  {
   "cell_type": "code",
   "execution_count": 67,
   "id": "010248db-c70b-4865-b986-6554b51838bc",
   "metadata": {},
   "outputs": [],
   "source": [
    "#Attach back to the seasonsStep3 and calculate the home advatage and disadvantage\n",
    "seasonStep4 = (seasonStep3\n",
    "     #join portion for home teams\n",
    "     .join(teamRoundVenue, how='left', left_on=['round.id', 'home.team.name', 'venue.id'], right_on=['round.id', 'team.A.name', 'venue.id'])\n",
    "     #join portion for away.teams\n",
    "     .join(teamRoundVenue, how='left', left_on=['round.id', 'away.team.name', 'venue.id'], right_on=['round.id', 'team.A.name', 'venue.id'])\n",
    "     #claify the column names\n",
    "     .rename({'VenuePortion' : 'home.venue.portion',\n",
    "              'VenueWinnerPortion': 'home.venue.winner',\n",
    "              'VenuePortion_right' : 'away.venue.portion',\n",
    "              'VenueWinnerPortion_right': 'away.venue.winner'})\n",
    ")"
   ]
  },
  {
   "cell_type": "markdown",
   "id": "2a8ad6ed-c4b5-4a93-9330-337de2c57b27",
   "metadata": {},
   "source": [
    "## Days Between Matches\n",
    "Have to go in and get afttables match info to get dates (would this work with upcoming matches, may need to be revised if not)"
   ]
  },
  {
   "cell_type": "code",
   "execution_count": 68,
   "id": "34db7d47-311d-4522-837b-88adee8eac71",
   "metadata": {},
   "outputs": [
    {
     "name": "stdout",
     "output_type": "stream",
     "text": [
      "i Returning data for \"All Rounds, 2014\"\n"
     ]
    },
    {
     "name": "stdout",
     "output_type": "stream",
     "text": [
      "v Returning data for \"All Rounds, 2014\" [2.2s]\n",
      "\n",
      "i Returning data for \"All Rounds, 2015\"\n",
      "v Returning data for \"All Rounds, 2015\" [1.9s]\n",
      "\n",
      "i Returning data for \"All Rounds, 2016\"\n",
      "v Returning data for \"All Rounds, 2016\" [3s]\n",
      "\n",
      "i Returning data for \"All Rounds, 2017\"\n",
      "v Returning data for \"All Rounds, 2017\" [453ms]\n",
      "\n",
      "i Returning data for \"All Rounds, 2018\"\n",
      "v Returning data for \"All Rounds, 2018\" [429ms]\n",
      "\n",
      "i Returning data for \"All Rounds, 2019\"\n",
      "v Returning data for \"All Rounds, 2019\" [399ms]\n",
      "\n",
      "i Returning data for \"All Rounds, 2020\"\n",
      "v Returning data for \"All Rounds, 2020\" [1.5s]\n",
      "\n",
      "i Returning data for \"All Rounds, 2021\"\n",
      "v Returning data for \"All Rounds, 2021\" [1.7s]\n",
      "\n",
      "i Returning data for \"All Rounds, 2022\"\n",
      "v Returning data for \"All Rounds, 2022\" [433ms]\n",
      "\n",
      "i Returning data for \"All Rounds, 2023\"\n",
      "v Returning data for \"All Rounds, 2023\" [1.6s]\n",
      "\n",
      "i Returning data for \"All Rounds, 2024\"\n",
      "v Returning data for \"All Rounds, 2024\" [385ms]\n",
      "\n"
     ]
    }
   ],
   "source": [
    "%%R -o seasons\n",
    "seasonList <- c(2014, 2015, 2016, 2017, 2018, 2019, 2020, 2021, 2022, 2023, 2024)\n",
    "#seasonList <- c(2015)\n",
    "first <- TRUE\n",
    "for(s in seasonList) {\n",
    "    \n",
    "    df <- fetch_fixture(season = s, comp = \"AFLM\")\n",
    "\n",
    "    if (first) {\n",
    "        seasons <- df\n",
    "        first <- FALSE\n",
    "    }else{\n",
    "        seasons <- seasons %>% \n",
    "                      bind_rows(df)\n",
    "    }\n",
    "}\n",
    "\n",
    "seasons <- seasons  %>%\n",
    "    select('utcStartTime', 'compSeason.year', 'round.roundNumber', 'home.team.name', 'away.team.name')"
   ]
  },
  {
   "cell_type": "code",
   "execution_count": 69,
   "id": "342b324b",
   "metadata": {},
   "outputs": [],
   "source": [
    "#Ensure that seasons have correct team names\n",
    "seasons = pl.from_pandas(seasons)\n",
    "seasons = replaceTeamNames(seasons, 'home.team.name')\n",
    "seasons = replaceTeamNames(seasons, 'away.team.name')\n"
   ]
  },
  {
   "cell_type": "code",
   "execution_count": 70,
   "id": "8033d7ab-18e4-47ae-ad3a-9782558484fe",
   "metadata": {},
   "outputs": [],
   "source": [
    "#Get the dates into python and convert the datetime into just a date\n",
    "matchDate = (seasons\n",
    "                 .with_columns(pl.col('utcStartTime').str.to_datetime().dt.date().alias('Date'))\n",
    "                 .unpivot(index=['Date', 'compSeason.year', 'round.roundNumber'], on=['home.team.name', 'away.team.name'], value_name='Team', variable_name='Remove')\n",
    "                 .drop('Remove')\n",
    "                 .sort('Team', 'Date')\n",
    "                 .with_columns(pl.col('Team').cum_count().over('Team').alias('team.round.id'))\n",
    "            )"
   ]
  },
  {
   "cell_type": "code",
   "execution_count": 71,
   "id": "4d8b65c7-3c43-42d7-8851-5be80e732626",
   "metadata": {},
   "outputs": [],
   "source": [
    "#Create the date of the past date for each team\n",
    "matchDate2 = (matchDate\n",
    "                 #Get the last match id, setting the very first to indicate that there was no match previous\n",
    "                 .with_columns(pl.when(pl.col('team.round.id') == 1).then(pl.lit(0)).otherwise(pl.col('team.round.id') - 1).alias('team.round.id.past'))\n",
    "                 #join with itself to get the last match date\n",
    "                 .join(matchDate.drop('compSeason.year'), how='left', left_on=['Team', 'team.round.id.past'], right_on=['Team', 'team.round.id'])\n",
    "                 .rename({'Date_right' : 'date.last'})\n",
    "                 #find days difference between the two games\n",
    "                 .with_columns((pl.col('Date') - pl.col('date.last')).dt.total_days().alias('day.since.match'))\n",
    "                 #keep only what I want\n",
    "                 .select('compSeason.year', 'round.roundNumber', 'Team', 'day.since.match')        \n",
    "            )"
   ]
  },
  {
   "cell_type": "code",
   "execution_count": 72,
   "id": "595082b4-a94c-4aae-a13e-6596561965cf",
   "metadata": {},
   "outputs": [],
   "source": [
    "#Add the days back to main table\n",
    "#\n",
    "seasonStep5 = (seasonStep4\n",
    "                 #join the home team days since last played\n",
    "                 .join(matchDate2, how='left', left_on=['compSeason.year', 'round.roundNumber', 'home.team.name'], right_on=['compSeason.year', 'round.roundNumber', 'Team'])\n",
    "                 .rename({'day.since.match' : 'home.day.last.match'})\n",
    "                 #join the awway team days since last played\n",
    "                 .join(matchDate2, how='left', left_on=['compSeason.year', 'round.roundNumber', 'away.team.name'], right_on=['compSeason.year', 'round.roundNumber', 'Team'])\n",
    "                 .rename({'day.since.match' : 'away.day.last.match'})\n",
    "                )"
   ]
  },
  {
   "cell_type": "markdown",
   "id": "d873adb5-3d02-4a97-868b-f9e8bacd9a34",
   "metadata": {},
   "source": [
    "## Attacking, defending and opposition Strength\n",
    "AFL has both goals and behinds so, we will count goals and add give points a value of 0.5 to reflect that they are of lesser value to the game than a goal."
   ]
  },
  {
   "cell_type": "code",
   "execution_count": 73,
   "id": "f6361535-95f8-4f48-b298-8bd9861f93f9",
   "metadata": {
    "scrolled": true,
    "tags": []
   },
   "outputs": [],
   "source": [
    "#Get the goals scored and given away and the margin of each game. Add in the ladder positions as well\n",
    "allMatchesBothSidesStats = (allMatchesBothSides\n",
    "                 #Goals scored\n",
    "                 .with_columns((pl.col('team.A.score.goals') + (pl.col('team.A.score.behinds')*0.5)).alias('strength.attack'))\n",
    "                 #Goals given away\n",
    "                 .with_columns((pl.col('team.B.score.goals') + (pl.col('team.B.score.behinds')*0.5)).alias('strength.defense'))\n",
    "                 #goal diff , i.e. margin\n",
    "                 #.with_columns((pl.col('team.A.score.totalScore') - pl.col('team.B.score.totalScore')).abs().alias('margin'))\n",
    "                 #keep only what I want\n",
    "                 .select('compSeason.year', 'round.roundNumber', 'round.id', 'team.A.club.id', 'team.A.name', 'team.B.club.id', 'team.B.name',\n",
    "                         'strength.attack', 'strength.defense', 'team.A.score.totalScore', 'team.B.score.totalScore')\n",
    "                 #Cast round.id to int rather an unsigned int\n",
    "                 .with_columns(pl.col('round.id').cast(pl.Int32))\n",
    "            )     "
   ]
  },
  {
   "cell_type": "code",
   "execution_count": 74,
   "id": "22898d76-78ad-4f1e-b69d-9cee99756689",
   "metadata": {},
   "outputs": [],
   "source": [
    "#Get the each teams rolling 5 game strength based on margin\n",
    "matchTeamStats = (allMatchesBothSidesStats\n",
    "                    #get the previous 5 games margin average of opposition\n",
    "                    #Start with descending round.id for rolling groupby statements\n",
    "                    .sort(['team.A.name', 'round.id'], descending=[False, True])\n",
    "                    #Try a rolling previous avg margin\n",
    "                    .sort('team.A.name', 'round.id')\n",
    "                    .rolling(index_column='round.id', period='5i', closed='left', group_by='team.A.name')\n",
    "                    .agg(pl.col('team.A.score.totalScore').sum().alias('rolling.team.A.totalScore'),\n",
    "                         pl.col('team.B.score.totalScore').sum().alias('rolling.team.B.totalScore'))\n",
    "                    #get the avg margin\n",
    "                    .with_columns(((pl.col('rolling.team.A.totalScore') - pl.col('rolling.team.B.totalScore'))/5).alias('rolling.margin.avg'))\n",
    "                    #join back up to df\n",
    "                    .join(allMatchesBothSidesStats, how='left', on=['team.A.name', 'round.id'])\n",
    "                    #arrange columns as desired\n",
    "                    .select('compSeason.year', 'round.roundNumber', 'team.A.name', 'strength.attack',\n",
    "                            'strength.defense', 'rolling.margin.avg')\n",
    "                    #Get the previous 5 matches attacking strength\n",
    "                    .with_columns(pl.col('strength.attack').shift().over('team.A.name').alias('strength.attack.t-1'),\n",
    "                                  pl.col('strength.attack').shift(2).over('team.A.name').alias('strength.attack.t-2'),\n",
    "                                  pl.col('strength.attack').shift(3).over('team.A.name').alias('strength.attack.t-3'),\n",
    "                                  pl.col('strength.attack').shift(4).over('team.A.name').alias('strength.attack.t-4'),\n",
    "                                  pl.col('strength.attack').shift(5).over('team.A.name').alias('strength.attack.t-5'))\n",
    "                    #Get the previous 5 matches defending strength\n",
    "                    .with_columns(pl.col('strength.defense').shift().over('team.A.name').alias('strength.defense.t-1'),\n",
    "                                  pl.col('strength.defense').shift(2).over('team.A.name').alias('strength.defense.t-2'),\n",
    "                                  pl.col('strength.defense').shift(3).over('team.A.name').alias('strength.defense.t-3'),\n",
    "                                  pl.col('strength.defense').shift(4).over('team.A.name').alias('strength.defense.t-4'),\n",
    "                                  pl.col('strength.defense').shift(5).over('team.A.name').alias('strength.defense.t-5'))\n",
    "                    #drop the original strength metrics\n",
    "                    .drop('strength.attack', 'strength.defense')\n",
    "\n",
    "                    \n",
    "                )"
   ]
  },
  {
   "cell_type": "code",
   "execution_count": 75,
   "id": "c5c67beb-5009-4fc7-8db2-2b435c546433",
   "metadata": {
    "scrolled": true,
    "tags": []
   },
   "outputs": [],
   "source": [
    "#Attach the stats for the home team, i.e. own strength.attack, strength.defense and as away's opposition strength\n",
    "seasonStep6 = (seasonStep5\n",
    "     #let's do a bit of cleaning first remove some of the unneeded columns\n",
    "     .drop('id', 'status', 'compSeason.id')\n",
    "     #join for home team\n",
    "     .join(matchTeamStats, how='left',\n",
    "           left_on=['compSeason.year', 'round.roundNumber', 'home.team.name'],\n",
    "           right_on=['compSeason.year', 'round.roundNumber', 'team.A.name'])\n",
    " \n",
    "     #get past strengths of home team\n",
    "     .rename({'strength.attack.t-1' : 'home.attack.t-1',\n",
    "              'strength.attack.t-2' : 'home.attack.t-2',\n",
    "              'strength.attack.t-3' : 'home.attack.t-3',\n",
    "              'strength.attack.t-4' : 'home.attack.t-4',\n",
    "              'strength.attack.t-5' : 'home.attack.t-5',\n",
    "              'strength.defense.t-1' : 'home.defense.t-1',\n",
    "              'strength.defense.t-2' : 'home.defense.t-2',\n",
    "              'strength.defense.t-3' : 'home.defense.t-3',\n",
    "              'strength.defense.t-4' : 'home.defense.t-4',\n",
    "              'strength.defense.t-5' : 'home.defense.t-5',\n",
    "              #For the away team the oppositions strength\n",
    "              'rolling.margin.avg' : 'away.opposition.strength'})\n",
    " \n",
    "      #join for away team\n",
    "     .join(matchTeamStats, how='left',\n",
    "           left_on=['compSeason.year', 'round.roundNumber', 'away.team.name'],\n",
    "           right_on=['compSeason.year', 'round.roundNumber', 'team.A.name'])\n",
    " \n",
    "     #get past strengths of away team\n",
    "     .rename({'strength.attack.t-1' : 'away.attack.t-1',\n",
    "              'strength.attack.t-2' : 'away.attack.t-2',\n",
    "              'strength.attack.t-3' : 'away.attack.t-3',\n",
    "              'strength.attack.t-4' : 'away.attack.t-4',\n",
    "              'strength.attack.t-5' : 'away.attack.t-5',\n",
    "              'strength.defense.t-1' : 'away.defense.t-1',\n",
    "              'strength.defense.t-2' : 'away.defense.t-2',\n",
    "              'strength.defense.t-3' : 'away.defense.t-3',\n",
    "              'strength.defense.t-4' : 'away.defense.t-4',\n",
    "              'strength.defense.t-5' : 'away.defense.t-5',\n",
    "              #For the home team the oppositions strength\n",
    "              'rolling.margin.avg' : 'home.opposition.strength'})\n",
    "            \n",
    "    )\n",
    " "
   ]
  },
  {
   "cell_type": "markdown",
   "id": "92b52cee-fafa-4f07-a29a-8964302cb727",
   "metadata": {},
   "source": [
    "## Player Rankings\n"
   ]
  },
  {
   "cell_type": "code",
   "execution_count": null,
   "id": "47a02ea9-e928-4b85-9d0a-af35ec0e5f2e",
   "metadata": {},
   "outputs": [
    {
     "name": "stdout",
     "output_type": "stream",
     "text": [
      "i Fetching match ids\n"
     ]
    },
    {
     "name": "stdout",
     "output_type": "stream",
     "text": [
      "v Fetching match ids [514ms]\n",
      "\n",
      "i Finding player stats for 207 matches.\n",
      "v Finding player stats for 207 matches. [42.6s]\n",
      "\n",
      "i Fetching match ids\n",
      "v Fetching match ids [521ms]\n",
      "\n",
      "i Finding player stats for 207 matches.\n",
      "v Finding player stats for 207 matches. [40s]\n",
      "\n",
      "i Fetching match ids\n",
      "v Fetching match ids [415ms]\n",
      "\n",
      "i Finding player stats for 207 matches.\n",
      "v Finding player stats for 207 matches. [38.5s]\n",
      "\n",
      "i Fetching match ids\n",
      "v Fetching match ids [2.5s]\n",
      "\n",
      "i Finding player stats for 207 matches.\n",
      "v Finding player stats for 207 matches. [38.9s]\n",
      "\n",
      "i Fetching match ids\n",
      "v Fetching match ids [1.4s]\n",
      "\n",
      "i Finding player stats for 162 matches.\n",
      "v Finding player stats for 162 matches. [31.3s]\n",
      "\n",
      "i Fetching match ids\n",
      "v Fetching match ids [487ms]\n",
      "\n",
      "i Finding player stats for 207 matches.\n"
     ]
    }
   ],
   "source": [
    "%%R -o seasons\n",
    "seasonList <- c(2016,2017,2018,2019,2020,2021, 2022, 2023, 2024)\n",
    "first <- TRUE\n",
    "for(s in seasonList) {\n",
    "    \n",
    "    df <- fetch_player_stats(season=s) %>% mutate('compSeason.year' = s) %>% select(compSeason.shortName, compSeason.year, round.roundNumber, teamId, team.name, player.playerId, player.givenName, player.surname, ratingPoints)\n",
    "\n",
    "    if (first) {\n",
    "        seasons <- df\n",
    "        first <- FALSE\n",
    "    }else{\n",
    "        seasons <- seasons %>% \n",
    "                      bind_rows(df)\n",
    "    }\n",
    "}\n",
    "    \n"
   ]
  },
  {
   "cell_type": "code",
   "execution_count": 42,
   "id": "7a694e73",
   "metadata": {},
   "outputs": [],
   "source": [
    "seasons = replaceTeamNames(pl.from_pandas(seasons), 'team.name')"
   ]
  },
  {
   "cell_type": "code",
   "execution_count": 43,
   "id": "1e954da5-3413-422b-bdeb-2b3538b6c92c",
   "metadata": {},
   "outputs": [],
   "source": [
    "playerPoints = (seasons\n",
    "                     #.drop('roundId')\n",
    "                     .join(seasonsBase.select('compSeason.year', 'round.roundNumber', 'round.id'), how='left', on=['compSeason.year', 'round.roundNumber'])\n",
    "                     .unique()\n",
    "                     .with_columns(pl.col('round.id').cast(pl.Int32))\n",
    "               )"
   ]
  },
  {
   "cell_type": "code",
   "execution_count": 44,
   "id": "c5b2ec7a-392e-48b4-b417-20f51cefe181",
   "metadata": {
    "scrolled": true,
    "tags": []
   },
   "outputs": [],
   "source": [
    "#Create the base of the player ratings\n",
    "playerRatings = (playerPoints\n",
    "     .sort('player.playerId', 'compSeason.year', 'round.roundNumber')\n",
    "     .sort('player.playerId', 'round.id')\n",
    "     #get sum of past 10 games\n",
    "     .rolling(index_column='round.id', period='10i', group_by=['player.playerId', 'player.givenName', 'player.surname'])\n",
    "     .agg(pl.col('ratingPoints').sum().alias('rolling.player.points'))\n",
    "     .sort('player.playerId', 'round.id')\n",
    "     #get the next round to join on\n",
    "     .with_columns(pl.col('round.id').shift(-1).over('player.playerId').alias('round.nextRound'))\n",
    "     #join back up to get the team\n",
    "     .join(playerPoints.select('round.id', 'teamId', 'team.name', 'player.playerId'), on=['round.id', 'player.playerId'])\n",
    "     .sort('player.playerId', 'round.id')\n",
    ")"
   ]
  },
  {
   "cell_type": "code",
   "execution_count": 45,
   "id": "c5619bfd-ffb1-4e59-802e-622637d09636",
   "metadata": {},
   "outputs": [],
   "source": [
    "#get the sum of teams rating\n",
    "sumedteamRating = (playerPoints\n",
    "    .group_by('team.name', 'round.id')\n",
    "    .agg(pl.col('ratingPoints').sum())\n",
    "    .sort('team.name', 'round.id')\n",
    "    .rolling(index_column='round.id', period='10i', group_by=['team.name'])\n",
    "    .agg(pl.col('ratingPoints').sum().alias('rolling.ratingPoints'))\n",
    "    .with_columns(pl.col('round.id').shift(-1).over('team.name').alias('nextRound'))\n",
    ")"
   ]
  },
  {
   "cell_type": "code",
   "execution_count": 92,
   "id": "031d0741-07d1-4068-ac98-06d43737e22a",
   "metadata": {},
   "outputs": [],
   "source": [
    "seasonStep7 = (seasonStep6\n",
    "     .with_columns(pl.col('round.id').cast(pl.Int32))\n",
    "     #join home teams ratings\n",
    "     .join(sumedteamRating.drop('round.id'), how='left', left_on=['home.team.name', 'round.id'], right_on=['team.name', 'nextRound'])\n",
    "     .rename({'rolling.ratingPoints' : 'home.team.playerPoints'})\n",
    "     #join away tea,s ratings\n",
    "     .join(sumedteamRating.drop('round.id'), how='left', left_on=['away.team.name', 'round.id'], right_on=['team.name', 'nextRound'])\n",
    "     .rename({'rolling.ratingPoints' : 'away.team.playerPoints'})\n",
    ")"
   ]
  },
  {
   "cell_type": "markdown",
   "id": "0c2a1a6e-e7ad-4fa6-b1cf-af29d0172388",
   "metadata": {},
   "source": [
    "## Keep and Order the final dataframe"
   ]
  },
  {
   "cell_type": "code",
   "execution_count": 112,
   "id": "db2fa117-79d5-4e51-9ceb-a3776de61ed5",
   "metadata": {},
   "outputs": [],
   "source": [
    "dataFinal = (seasonStep7\n",
    "             .select('round.id', 'compSeason.year', 'home.team.id', 'home.bye.flag', 'home.ladder.position', 'home.elo.score', 'home.venue.portion', 'home.venue.winner', 'home.day.last.match', 'home.attack.t-1', 'home.attack.t-2',\n",
    "                   'home.attack.t-3', 'home.attack.t-4', 'home.attack.t-5', 'home.defense.t-1', 'home.defense.t-2', 'home.defense.t-3', 'home.defense.t-4', 'home.defense.t-5', 'home.opposition.strength',\n",
    "                   'home.team.playerPoints', 'away.team.id', 'away.bye.flag', 'away.ladder.position', 'away.elo.score', 'away.venue.portion', 'away.venue.winner', 'away.day.last.match', 'away.attack.t-1', 'away.attack.t-2',\n",
    "                   'away.attack.t-3', 'away.attack.t-4', 'away.attack.t-5', 'away.defense.t-1', 'away.defense.t-2', 'away.defense.t-3', 'away.defense.t-4', 'away.defense.t-5', 'away.opposition.strength',\n",
    "                   'away.team.playerPoints', 'win.margin', 'winner')\n",
    "             #remove 2015\n",
    "             .filter(pl.col('compSeason.year') > 2016)\n",
    "            \n",
    "            )"
   ]
  },
  {
   "cell_type": "markdown",
   "id": "14af34be-a5cd-44fc-93ee-e30d667587c4",
   "metadata": {},
   "source": [
    "## Model: Find the winner"
   ]
  },
  {
   "cell_type": "code",
   "execution_count": 94,
   "id": "cf5872c5-534e-4eed-9cfe-323f9c04d0b1",
   "metadata": {},
   "outputs": [],
   "source": [
    "#import packages for modelling\n",
    "from sklearn.ensemble import RandomForestClassifier\n",
    "from sklearn.pipeline import Pipeline\n",
    "from sklearn.preprocessing import StandardScaler, Normalizer\n",
    "import pickle"
   ]
  },
  {
   "cell_type": "code",
   "execution_count": 113,
   "id": "ccf29fd7",
   "metadata": {},
   "outputs": [],
   "source": [
    "trainX = dataFinal.filter(pl.col('compSeason.year') != 2024).drop('win.margin', 'winner', 'compSeason.year', 'round.id', 'home.team.id', 'away.team.id')\n",
    "trainY = dataFinal.filter(pl.col('compSeason.year') != 2024).select('round.id', 'home.team.id',\n",
    "                                                                    'away.team.id', 'win.margin', 'winner')\n",
    "trainWinner = trainY.select('winner').to_numpy().ravel()\n",
    "trainMargin = trainY.select('win.margin').to_numpy().ravel()"
   ]
  },
  {
   "cell_type": "code",
   "execution_count": 114,
   "id": "3d22936e",
   "metadata": {},
   "outputs": [],
   "source": [
    "testX = dataFinal.filter(pl.col('compSeason.year') == 2024).drop('win.margin', 'winner', 'compSeason.year',  'round.id', 'home.team.id', 'away.team.id')\n",
    "testY = dataFinal.filter(pl.col('compSeason.year') == 2024).select('round.id', 'home.team.id',\n",
    "                                                                    'away.team.id', 'win.margin', 'winner')\n",
    "testWinner = testY.select('winner').to_numpy().ravel()\n",
    "testMargin = testY.select('win.margin').to_numpy().ravel()"
   ]
  },
  {
   "cell_type": "code",
   "execution_count": 97,
   "id": "3711798a-fc0d-44f1-833f-1c294d294396",
   "metadata": {},
   "outputs": [],
   "source": [
    "#Run some tests on pararmeters\n",
    "n_estimators=[50,75,100,125,130, 140, 150]\n",
    "max_depth=[None, 10, 13, 14, 15, 16, 17]\n",
    "min_samples_split=[2,3, 4, 5,8]\n",
    "max_features=['sqrt', 'log2', None]"
   ]
  },
  {
   "cell_type": "code",
   "execution_count": 98,
   "id": "20529cb6-a563-4974-b1bf-df795e119d25",
   "metadata": {},
   "outputs": [],
   "source": [
    "#Test all combos and record the results\n",
    "ne_list = []\n",
    "mss_list = []\n",
    "md_list = []\n",
    "mf_list = []\n",
    "result = []\n",
    "\n",
    "for ne in n_estimators:\n",
    "    for mss in min_samples_split:\n",
    "            for mf in max_features:\n",
    "                for md in max_depth:\n",
    "                            #Create model\n",
    "                            model = Pipeline([(\"Scaler\", Normalizer()), (\"Tree\", RandomForestClassifier(n_estimators=ne, max_depth=md, min_samples_split=mss, max_features=mf, random_state=20))])\n",
    "                            #Fit model\n",
    "                            model.fit(trainX, trainWinner)\n",
    "                            #Test checking\n",
    "                            model.predict(testX)\n",
    "                            testYMitPred = (testY\n",
    "                                             .with_columns(pl.Series(model.predict(testX)).alias('Prediction'))\n",
    "                                             .with_columns(pl.when(pl.col('winner') == pl.col('Prediction')).then(pl.lit(1)).otherwise(pl.lit(0)).alias('Check'))\n",
    "                                            )\n",
    "                            #get result\n",
    "                            result.append(testYMitPred.select(pl.col('Check')).sum().item()/216)\n",
    "                            #append parameters\n",
    "                            ne_list.append(ne)\n",
    "                            md_list.append(md)\n",
    "                            mss_list.append(mss)\n",
    "                            mf_list.append(mf)\n",
    "                    \n",
    "                    \n",
    "#Display in df\n",
    "paramTesting = pl.DataFrame({'n_estimators' : ne_list, 'max_depth' : md_list, 'Min_sample_split' : mss_list, 'Max_features' : mf_list, \n",
    "                             'Results': result})"
   ]
  },
  {
   "cell_type": "code",
   "execution_count": 99,
   "id": "10622b34",
   "metadata": {},
   "outputs": [
    {
     "data": {
      "text/html": [
       "<div><style>\n",
       ".dataframe > thead > tr,\n",
       ".dataframe > tbody > tr {\n",
       "  text-align: right;\n",
       "  white-space: pre-wrap;\n",
       "}\n",
       "</style>\n",
       "<small>shape: (5, 5)</small><table border=\"1\" class=\"dataframe\"><thead><tr><th>n_estimators</th><th>max_depth</th><th>Min_sample_split</th><th>Max_features</th><th>Results</th></tr><tr><td>i64</td><td>i64</td><td>i64</td><td>str</td><td>f64</td></tr></thead><tbody><tr><td>50</td><td>14</td><td>8</td><td>&quot;sqrt&quot;</td><td>0.847222</td></tr><tr><td>50</td><td>10</td><td>2</td><td>&quot;log2&quot;</td><td>0.842593</td></tr><tr><td>50</td><td>16</td><td>5</td><td>null</td><td>0.842593</td></tr><tr><td>130</td><td>15</td><td>4</td><td>&quot;sqrt&quot;</td><td>0.842593</td></tr><tr><td>140</td><td>15</td><td>4</td><td>&quot;sqrt&quot;</td><td>0.842593</td></tr></tbody></table></div>"
      ],
      "text/plain": [
       "shape: (5, 5)\n",
       "┌──────────────┬───────────┬──────────────────┬──────────────┬──────────┐\n",
       "│ n_estimators ┆ max_depth ┆ Min_sample_split ┆ Max_features ┆ Results  │\n",
       "│ ---          ┆ ---       ┆ ---              ┆ ---          ┆ ---      │\n",
       "│ i64          ┆ i64       ┆ i64              ┆ str          ┆ f64      │\n",
       "╞══════════════╪═══════════╪══════════════════╪══════════════╪══════════╡\n",
       "│ 50           ┆ 14        ┆ 8                ┆ sqrt         ┆ 0.847222 │\n",
       "│ 50           ┆ 10        ┆ 2                ┆ log2         ┆ 0.842593 │\n",
       "│ 50           ┆ 16        ┆ 5                ┆ null         ┆ 0.842593 │\n",
       "│ 130          ┆ 15        ┆ 4                ┆ sqrt         ┆ 0.842593 │\n",
       "│ 140          ┆ 15        ┆ 4                ┆ sqrt         ┆ 0.842593 │\n",
       "└──────────────┴───────────┴──────────────────┴──────────────┴──────────┘"
      ]
     },
     "execution_count": 99,
     "metadata": {},
     "output_type": "execute_result"
    }
   ],
   "source": [
    "paramTesting.sort('Results', descending=True).head()"
   ]
  },
  {
   "cell_type": "code",
   "execution_count": 115,
   "id": "e57691a7-91d9-4161-8de9-985cb36943b1",
   "metadata": {},
   "outputs": [
    {
     "data": {
      "text/html": [
       "<style>#sk-container-id-1 {\n",
       "  /* Definition of color scheme common for light and dark mode */\n",
       "  --sklearn-color-text: black;\n",
       "  --sklearn-color-line: gray;\n",
       "  /* Definition of color scheme for unfitted estimators */\n",
       "  --sklearn-color-unfitted-level-0: #fff5e6;\n",
       "  --sklearn-color-unfitted-level-1: #f6e4d2;\n",
       "  --sklearn-color-unfitted-level-2: #ffe0b3;\n",
       "  --sklearn-color-unfitted-level-3: chocolate;\n",
       "  /* Definition of color scheme for fitted estimators */\n",
       "  --sklearn-color-fitted-level-0: #f0f8ff;\n",
       "  --sklearn-color-fitted-level-1: #d4ebff;\n",
       "  --sklearn-color-fitted-level-2: #b3dbfd;\n",
       "  --sklearn-color-fitted-level-3: cornflowerblue;\n",
       "\n",
       "  /* Specific color for light theme */\n",
       "  --sklearn-color-text-on-default-background: var(--sg-text-color, var(--theme-code-foreground, var(--jp-content-font-color1, black)));\n",
       "  --sklearn-color-background: var(--sg-background-color, var(--theme-background, var(--jp-layout-color0, white)));\n",
       "  --sklearn-color-border-box: var(--sg-text-color, var(--theme-code-foreground, var(--jp-content-font-color1, black)));\n",
       "  --sklearn-color-icon: #696969;\n",
       "\n",
       "  @media (prefers-color-scheme: dark) {\n",
       "    /* Redefinition of color scheme for dark theme */\n",
       "    --sklearn-color-text-on-default-background: var(--sg-text-color, var(--theme-code-foreground, var(--jp-content-font-color1, white)));\n",
       "    --sklearn-color-background: var(--sg-background-color, var(--theme-background, var(--jp-layout-color0, #111)));\n",
       "    --sklearn-color-border-box: var(--sg-text-color, var(--theme-code-foreground, var(--jp-content-font-color1, white)));\n",
       "    --sklearn-color-icon: #878787;\n",
       "  }\n",
       "}\n",
       "\n",
       "#sk-container-id-1 {\n",
       "  color: var(--sklearn-color-text);\n",
       "}\n",
       "\n",
       "#sk-container-id-1 pre {\n",
       "  padding: 0;\n",
       "}\n",
       "\n",
       "#sk-container-id-1 input.sk-hidden--visually {\n",
       "  border: 0;\n",
       "  clip: rect(1px 1px 1px 1px);\n",
       "  clip: rect(1px, 1px, 1px, 1px);\n",
       "  height: 1px;\n",
       "  margin: -1px;\n",
       "  overflow: hidden;\n",
       "  padding: 0;\n",
       "  position: absolute;\n",
       "  width: 1px;\n",
       "}\n",
       "\n",
       "#sk-container-id-1 div.sk-dashed-wrapped {\n",
       "  border: 1px dashed var(--sklearn-color-line);\n",
       "  margin: 0 0.4em 0.5em 0.4em;\n",
       "  box-sizing: border-box;\n",
       "  padding-bottom: 0.4em;\n",
       "  background-color: var(--sklearn-color-background);\n",
       "}\n",
       "\n",
       "#sk-container-id-1 div.sk-container {\n",
       "  /* jupyter's `normalize.less` sets `[hidden] { display: none; }`\n",
       "     but bootstrap.min.css set `[hidden] { display: none !important; }`\n",
       "     so we also need the `!important` here to be able to override the\n",
       "     default hidden behavior on the sphinx rendered scikit-learn.org.\n",
       "     See: https://github.com/scikit-learn/scikit-learn/issues/21755 */\n",
       "  display: inline-block !important;\n",
       "  position: relative;\n",
       "}\n",
       "\n",
       "#sk-container-id-1 div.sk-text-repr-fallback {\n",
       "  display: none;\n",
       "}\n",
       "\n",
       "div.sk-parallel-item,\n",
       "div.sk-serial,\n",
       "div.sk-item {\n",
       "  /* draw centered vertical line to link estimators */\n",
       "  background-image: linear-gradient(var(--sklearn-color-text-on-default-background), var(--sklearn-color-text-on-default-background));\n",
       "  background-size: 2px 100%;\n",
       "  background-repeat: no-repeat;\n",
       "  background-position: center center;\n",
       "}\n",
       "\n",
       "/* Parallel-specific style estimator block */\n",
       "\n",
       "#sk-container-id-1 div.sk-parallel-item::after {\n",
       "  content: \"\";\n",
       "  width: 100%;\n",
       "  border-bottom: 2px solid var(--sklearn-color-text-on-default-background);\n",
       "  flex-grow: 1;\n",
       "}\n",
       "\n",
       "#sk-container-id-1 div.sk-parallel {\n",
       "  display: flex;\n",
       "  align-items: stretch;\n",
       "  justify-content: center;\n",
       "  background-color: var(--sklearn-color-background);\n",
       "  position: relative;\n",
       "}\n",
       "\n",
       "#sk-container-id-1 div.sk-parallel-item {\n",
       "  display: flex;\n",
       "  flex-direction: column;\n",
       "}\n",
       "\n",
       "#sk-container-id-1 div.sk-parallel-item:first-child::after {\n",
       "  align-self: flex-end;\n",
       "  width: 50%;\n",
       "}\n",
       "\n",
       "#sk-container-id-1 div.sk-parallel-item:last-child::after {\n",
       "  align-self: flex-start;\n",
       "  width: 50%;\n",
       "}\n",
       "\n",
       "#sk-container-id-1 div.sk-parallel-item:only-child::after {\n",
       "  width: 0;\n",
       "}\n",
       "\n",
       "/* Serial-specific style estimator block */\n",
       "\n",
       "#sk-container-id-1 div.sk-serial {\n",
       "  display: flex;\n",
       "  flex-direction: column;\n",
       "  align-items: center;\n",
       "  background-color: var(--sklearn-color-background);\n",
       "  padding-right: 1em;\n",
       "  padding-left: 1em;\n",
       "}\n",
       "\n",
       "\n",
       "/* Toggleable style: style used for estimator/Pipeline/ColumnTransformer box that is\n",
       "clickable and can be expanded/collapsed.\n",
       "- Pipeline and ColumnTransformer use this feature and define the default style\n",
       "- Estimators will overwrite some part of the style using the `sk-estimator` class\n",
       "*/\n",
       "\n",
       "/* Pipeline and ColumnTransformer style (default) */\n",
       "\n",
       "#sk-container-id-1 div.sk-toggleable {\n",
       "  /* Default theme specific background. It is overwritten whether we have a\n",
       "  specific estimator or a Pipeline/ColumnTransformer */\n",
       "  background-color: var(--sklearn-color-background);\n",
       "}\n",
       "\n",
       "/* Toggleable label */\n",
       "#sk-container-id-1 label.sk-toggleable__label {\n",
       "  cursor: pointer;\n",
       "  display: block;\n",
       "  width: 100%;\n",
       "  margin-bottom: 0;\n",
       "  padding: 0.5em;\n",
       "  box-sizing: border-box;\n",
       "  text-align: center;\n",
       "}\n",
       "\n",
       "#sk-container-id-1 label.sk-toggleable__label-arrow:before {\n",
       "  /* Arrow on the left of the label */\n",
       "  content: \"▸\";\n",
       "  float: left;\n",
       "  margin-right: 0.25em;\n",
       "  color: var(--sklearn-color-icon);\n",
       "}\n",
       "\n",
       "#sk-container-id-1 label.sk-toggleable__label-arrow:hover:before {\n",
       "  color: var(--sklearn-color-text);\n",
       "}\n",
       "\n",
       "/* Toggleable content - dropdown */\n",
       "\n",
       "#sk-container-id-1 div.sk-toggleable__content {\n",
       "  max-height: 0;\n",
       "  max-width: 0;\n",
       "  overflow: hidden;\n",
       "  text-align: left;\n",
       "  /* unfitted */\n",
       "  background-color: var(--sklearn-color-unfitted-level-0);\n",
       "}\n",
       "\n",
       "#sk-container-id-1 div.sk-toggleable__content.fitted {\n",
       "  /* fitted */\n",
       "  background-color: var(--sklearn-color-fitted-level-0);\n",
       "}\n",
       "\n",
       "#sk-container-id-1 div.sk-toggleable__content pre {\n",
       "  margin: 0.2em;\n",
       "  border-radius: 0.25em;\n",
       "  color: var(--sklearn-color-text);\n",
       "  /* unfitted */\n",
       "  background-color: var(--sklearn-color-unfitted-level-0);\n",
       "}\n",
       "\n",
       "#sk-container-id-1 div.sk-toggleable__content.fitted pre {\n",
       "  /* unfitted */\n",
       "  background-color: var(--sklearn-color-fitted-level-0);\n",
       "}\n",
       "\n",
       "#sk-container-id-1 input.sk-toggleable__control:checked~div.sk-toggleable__content {\n",
       "  /* Expand drop-down */\n",
       "  max-height: 200px;\n",
       "  max-width: 100%;\n",
       "  overflow: auto;\n",
       "}\n",
       "\n",
       "#sk-container-id-1 input.sk-toggleable__control:checked~label.sk-toggleable__label-arrow:before {\n",
       "  content: \"▾\";\n",
       "}\n",
       "\n",
       "/* Pipeline/ColumnTransformer-specific style */\n",
       "\n",
       "#sk-container-id-1 div.sk-label input.sk-toggleable__control:checked~label.sk-toggleable__label {\n",
       "  color: var(--sklearn-color-text);\n",
       "  background-color: var(--sklearn-color-unfitted-level-2);\n",
       "}\n",
       "\n",
       "#sk-container-id-1 div.sk-label.fitted input.sk-toggleable__control:checked~label.sk-toggleable__label {\n",
       "  background-color: var(--sklearn-color-fitted-level-2);\n",
       "}\n",
       "\n",
       "/* Estimator-specific style */\n",
       "\n",
       "/* Colorize estimator box */\n",
       "#sk-container-id-1 div.sk-estimator input.sk-toggleable__control:checked~label.sk-toggleable__label {\n",
       "  /* unfitted */\n",
       "  background-color: var(--sklearn-color-unfitted-level-2);\n",
       "}\n",
       "\n",
       "#sk-container-id-1 div.sk-estimator.fitted input.sk-toggleable__control:checked~label.sk-toggleable__label {\n",
       "  /* fitted */\n",
       "  background-color: var(--sklearn-color-fitted-level-2);\n",
       "}\n",
       "\n",
       "#sk-container-id-1 div.sk-label label.sk-toggleable__label,\n",
       "#sk-container-id-1 div.sk-label label {\n",
       "  /* The background is the default theme color */\n",
       "  color: var(--sklearn-color-text-on-default-background);\n",
       "}\n",
       "\n",
       "/* On hover, darken the color of the background */\n",
       "#sk-container-id-1 div.sk-label:hover label.sk-toggleable__label {\n",
       "  color: var(--sklearn-color-text);\n",
       "  background-color: var(--sklearn-color-unfitted-level-2);\n",
       "}\n",
       "\n",
       "/* Label box, darken color on hover, fitted */\n",
       "#sk-container-id-1 div.sk-label.fitted:hover label.sk-toggleable__label.fitted {\n",
       "  color: var(--sklearn-color-text);\n",
       "  background-color: var(--sklearn-color-fitted-level-2);\n",
       "}\n",
       "\n",
       "/* Estimator label */\n",
       "\n",
       "#sk-container-id-1 div.sk-label label {\n",
       "  font-family: monospace;\n",
       "  font-weight: bold;\n",
       "  display: inline-block;\n",
       "  line-height: 1.2em;\n",
       "}\n",
       "\n",
       "#sk-container-id-1 div.sk-label-container {\n",
       "  text-align: center;\n",
       "}\n",
       "\n",
       "/* Estimator-specific */\n",
       "#sk-container-id-1 div.sk-estimator {\n",
       "  font-family: monospace;\n",
       "  border: 1px dotted var(--sklearn-color-border-box);\n",
       "  border-radius: 0.25em;\n",
       "  box-sizing: border-box;\n",
       "  margin-bottom: 0.5em;\n",
       "  /* unfitted */\n",
       "  background-color: var(--sklearn-color-unfitted-level-0);\n",
       "}\n",
       "\n",
       "#sk-container-id-1 div.sk-estimator.fitted {\n",
       "  /* fitted */\n",
       "  background-color: var(--sklearn-color-fitted-level-0);\n",
       "}\n",
       "\n",
       "/* on hover */\n",
       "#sk-container-id-1 div.sk-estimator:hover {\n",
       "  /* unfitted */\n",
       "  background-color: var(--sklearn-color-unfitted-level-2);\n",
       "}\n",
       "\n",
       "#sk-container-id-1 div.sk-estimator.fitted:hover {\n",
       "  /* fitted */\n",
       "  background-color: var(--sklearn-color-fitted-level-2);\n",
       "}\n",
       "\n",
       "/* Specification for estimator info (e.g. \"i\" and \"?\") */\n",
       "\n",
       "/* Common style for \"i\" and \"?\" */\n",
       "\n",
       ".sk-estimator-doc-link,\n",
       "a:link.sk-estimator-doc-link,\n",
       "a:visited.sk-estimator-doc-link {\n",
       "  float: right;\n",
       "  font-size: smaller;\n",
       "  line-height: 1em;\n",
       "  font-family: monospace;\n",
       "  background-color: var(--sklearn-color-background);\n",
       "  border-radius: 1em;\n",
       "  height: 1em;\n",
       "  width: 1em;\n",
       "  text-decoration: none !important;\n",
       "  margin-left: 1ex;\n",
       "  /* unfitted */\n",
       "  border: var(--sklearn-color-unfitted-level-1) 1pt solid;\n",
       "  color: var(--sklearn-color-unfitted-level-1);\n",
       "}\n",
       "\n",
       ".sk-estimator-doc-link.fitted,\n",
       "a:link.sk-estimator-doc-link.fitted,\n",
       "a:visited.sk-estimator-doc-link.fitted {\n",
       "  /* fitted */\n",
       "  border: var(--sklearn-color-fitted-level-1) 1pt solid;\n",
       "  color: var(--sklearn-color-fitted-level-1);\n",
       "}\n",
       "\n",
       "/* On hover */\n",
       "div.sk-estimator:hover .sk-estimator-doc-link:hover,\n",
       ".sk-estimator-doc-link:hover,\n",
       "div.sk-label-container:hover .sk-estimator-doc-link:hover,\n",
       ".sk-estimator-doc-link:hover {\n",
       "  /* unfitted */\n",
       "  background-color: var(--sklearn-color-unfitted-level-3);\n",
       "  color: var(--sklearn-color-background);\n",
       "  text-decoration: none;\n",
       "}\n",
       "\n",
       "div.sk-estimator.fitted:hover .sk-estimator-doc-link.fitted:hover,\n",
       ".sk-estimator-doc-link.fitted:hover,\n",
       "div.sk-label-container:hover .sk-estimator-doc-link.fitted:hover,\n",
       ".sk-estimator-doc-link.fitted:hover {\n",
       "  /* fitted */\n",
       "  background-color: var(--sklearn-color-fitted-level-3);\n",
       "  color: var(--sklearn-color-background);\n",
       "  text-decoration: none;\n",
       "}\n",
       "\n",
       "/* Span, style for the box shown on hovering the info icon */\n",
       ".sk-estimator-doc-link span {\n",
       "  display: none;\n",
       "  z-index: 9999;\n",
       "  position: relative;\n",
       "  font-weight: normal;\n",
       "  right: .2ex;\n",
       "  padding: .5ex;\n",
       "  margin: .5ex;\n",
       "  width: min-content;\n",
       "  min-width: 20ex;\n",
       "  max-width: 50ex;\n",
       "  color: var(--sklearn-color-text);\n",
       "  box-shadow: 2pt 2pt 4pt #999;\n",
       "  /* unfitted */\n",
       "  background: var(--sklearn-color-unfitted-level-0);\n",
       "  border: .5pt solid var(--sklearn-color-unfitted-level-3);\n",
       "}\n",
       "\n",
       ".sk-estimator-doc-link.fitted span {\n",
       "  /* fitted */\n",
       "  background: var(--sklearn-color-fitted-level-0);\n",
       "  border: var(--sklearn-color-fitted-level-3);\n",
       "}\n",
       "\n",
       ".sk-estimator-doc-link:hover span {\n",
       "  display: block;\n",
       "}\n",
       "\n",
       "/* \"?\"-specific style due to the `<a>` HTML tag */\n",
       "\n",
       "#sk-container-id-1 a.estimator_doc_link {\n",
       "  float: right;\n",
       "  font-size: 1rem;\n",
       "  line-height: 1em;\n",
       "  font-family: monospace;\n",
       "  background-color: var(--sklearn-color-background);\n",
       "  border-radius: 1rem;\n",
       "  height: 1rem;\n",
       "  width: 1rem;\n",
       "  text-decoration: none;\n",
       "  /* unfitted */\n",
       "  color: var(--sklearn-color-unfitted-level-1);\n",
       "  border: var(--sklearn-color-unfitted-level-1) 1pt solid;\n",
       "}\n",
       "\n",
       "#sk-container-id-1 a.estimator_doc_link.fitted {\n",
       "  /* fitted */\n",
       "  border: var(--sklearn-color-fitted-level-1) 1pt solid;\n",
       "  color: var(--sklearn-color-fitted-level-1);\n",
       "}\n",
       "\n",
       "/* On hover */\n",
       "#sk-container-id-1 a.estimator_doc_link:hover {\n",
       "  /* unfitted */\n",
       "  background-color: var(--sklearn-color-unfitted-level-3);\n",
       "  color: var(--sklearn-color-background);\n",
       "  text-decoration: none;\n",
       "}\n",
       "\n",
       "#sk-container-id-1 a.estimator_doc_link.fitted:hover {\n",
       "  /* fitted */\n",
       "  background-color: var(--sklearn-color-fitted-level-3);\n",
       "}\n",
       "</style><div id=\"sk-container-id-1\" class=\"sk-top-container\"><div class=\"sk-text-repr-fallback\"><pre>Pipeline(steps=[(&#x27;Scaler&#x27;, Normalizer()),\n",
       "                (&#x27;Tree&#x27;,\n",
       "                 RandomForestClassifier(max_depth=14, min_samples_split=8,\n",
       "                                        n_estimators=50, random_state=20))])</pre><b>In a Jupyter environment, please rerun this cell to show the HTML representation or trust the notebook. <br />On GitHub, the HTML representation is unable to render, please try loading this page with nbviewer.org.</b></div><div class=\"sk-container\" hidden><div class=\"sk-item sk-dashed-wrapped\"><div class=\"sk-label-container\"><div class=\"sk-label fitted sk-toggleable\"><input class=\"sk-toggleable__control sk-hidden--visually\" id=\"sk-estimator-id-1\" type=\"checkbox\" ><label for=\"sk-estimator-id-1\" class=\"sk-toggleable__label fitted sk-toggleable__label-arrow fitted\">&nbsp;&nbsp;Pipeline<a class=\"sk-estimator-doc-link fitted\" rel=\"noreferrer\" target=\"_blank\" href=\"https://scikit-learn.org/1.5/modules/generated/sklearn.pipeline.Pipeline.html\">?<span>Documentation for Pipeline</span></a><span class=\"sk-estimator-doc-link fitted\">i<span>Fitted</span></span></label><div class=\"sk-toggleable__content fitted\"><pre>Pipeline(steps=[(&#x27;Scaler&#x27;, Normalizer()),\n",
       "                (&#x27;Tree&#x27;,\n",
       "                 RandomForestClassifier(max_depth=14, min_samples_split=8,\n",
       "                                        n_estimators=50, random_state=20))])</pre></div> </div></div><div class=\"sk-serial\"><div class=\"sk-item\"><div class=\"sk-estimator fitted sk-toggleable\"><input class=\"sk-toggleable__control sk-hidden--visually\" id=\"sk-estimator-id-2\" type=\"checkbox\" ><label for=\"sk-estimator-id-2\" class=\"sk-toggleable__label fitted sk-toggleable__label-arrow fitted\">&nbsp;Normalizer<a class=\"sk-estimator-doc-link fitted\" rel=\"noreferrer\" target=\"_blank\" href=\"https://scikit-learn.org/1.5/modules/generated/sklearn.preprocessing.Normalizer.html\">?<span>Documentation for Normalizer</span></a></label><div class=\"sk-toggleable__content fitted\"><pre>Normalizer()</pre></div> </div></div><div class=\"sk-item\"><div class=\"sk-estimator fitted sk-toggleable\"><input class=\"sk-toggleable__control sk-hidden--visually\" id=\"sk-estimator-id-3\" type=\"checkbox\" ><label for=\"sk-estimator-id-3\" class=\"sk-toggleable__label fitted sk-toggleable__label-arrow fitted\">&nbsp;RandomForestClassifier<a class=\"sk-estimator-doc-link fitted\" rel=\"noreferrer\" target=\"_blank\" href=\"https://scikit-learn.org/1.5/modules/generated/sklearn.ensemble.RandomForestClassifier.html\">?<span>Documentation for RandomForestClassifier</span></a></label><div class=\"sk-toggleable__content fitted\"><pre>RandomForestClassifier(max_depth=14, min_samples_split=8, n_estimators=50,\n",
       "                       random_state=20)</pre></div> </div></div></div></div></div></div>"
      ],
      "text/plain": [
       "Pipeline(steps=[('Scaler', Normalizer()),\n",
       "                ('Tree',\n",
       "                 RandomForestClassifier(max_depth=14, min_samples_split=8,\n",
       "                                        n_estimators=50, random_state=20))])"
      ]
     },
     "execution_count": 115,
     "metadata": {},
     "output_type": "execute_result"
    }
   ],
   "source": [
    "model = Pipeline([(\"Scaler\", Normalizer()), (\"Tree\", RandomForestClassifier(n_estimators=50, min_samples_split=8, max_depth=14, max_features=\"sqrt\", random_state=20))])\n",
    "model.fit(trainX, trainWinner)\n",
    "\n",
    "\n",
    "#pickle.dump(model, open('Data/winner.sav', 'wb'))"
   ]
  },
  {
   "cell_type": "code",
   "execution_count": 116,
   "id": "83e64171",
   "metadata": {},
   "outputs": [],
   "source": [
    "probTrain = model.predict_proba(trainX)\n",
    "trainX[['homeProb', 'awayProb']] = probTrain\n",
    "trainX = (trainX\n",
    "    .with_columns(pl.when(pl.col('homeProb') >= pl.col('awayProb')).then(pl.col('homeProb')).otherwise(pl.col('awayProb')).alias('WinProb'))\n",
    "    #.drop('homeProb', 'awayProb')\n",
    ")"
   ]
  },
  {
   "cell_type": "code",
   "execution_count": 117,
   "id": "d22540c5",
   "metadata": {},
   "outputs": [],
   "source": [
    "probTest = model.predict_proba(testX)\n",
    "testX[['homeProb', 'awayProb']] = probTest\n",
    "testX = (testX\n",
    "    .with_columns(pl.when(pl.col('homeProb') >= pl.col('awayProb')).then(pl.col('homeProb')).otherwise(pl.col('awayProb')).alias('WinProb'))\n",
    "    #.drop('homeProb', 'awayProb')\n",
    ")"
   ]
  },
  {
   "cell_type": "markdown",
   "id": "46d032a6-60d2-4b4b-bcf2-cceddbe09f19",
   "metadata": {},
   "source": [
    "### Save Bits and Pieces"
   ]
  },
  {
   "cell_type": "code",
   "execution_count": 101,
   "id": "68025d38-5fa6-447e-95ac-91ed1158add9",
   "metadata": {},
   "outputs": [
    {
     "data": {
      "text/plain": [
       "<xlsxwriter.workbook.Workbook at 0x1f650a7ca30>"
      ]
     },
     "execution_count": 101,
     "metadata": {},
     "output_type": "execute_result"
    }
   ],
   "source": [
    "#save everythingelse\n",
    "indexTeams.write_excel('Data/indexTeams.xlsx')\n",
    "distanceTravelled.write_excel('Data/distanceTravelled.xlsx')\n",
    "with open(\"Data/eloScores\", \"wb\") as fp:\n",
    "    pickle.dump(eloScores[-1], fp)\n",
    "(matchDate\n",
    "     .with_columns(pl.col('team.round.id').max().over('Team').alias('MaxRound'))\n",
    "     .filter(pl.col('team.round.id') == pl.col('MaxRound'))\n",
    "     .select('Date', 'Team')).write_excel('Data/matchDay.xlsx')  \n",
    "allMatchesBothSides.filter(pl.col('compSeason.year') == 2023).write_excel('Data/matchesBothSides.xlsx')"
   ]
  },
  {
   "cell_type": "markdown",
   "id": "b5111b30-80d2-4876-992d-e7bc06ee192d",
   "metadata": {},
   "source": [
    "### Model: Margin"
   ]
  },
  {
   "cell_type": "code",
   "execution_count": 58,
   "id": "c413ee99-c755-4fb8-98eb-ef050f049ddc",
   "metadata": {},
   "outputs": [],
   "source": [
    "from sklearn.neural_network import MLPRegressor\n",
    "from sklearn.tree import DecisionTreeRegressor\n",
    "from sklearn.linear_model import RidgeCV\n",
    "from sklearn.svm import SVR\n",
    "import pickle "
   ]
  },
  {
   "cell_type": "code",
   "execution_count": 59,
   "id": "d391f28d-b0e5-4b54-a3d6-e7ea847c4a05",
   "metadata": {},
   "outputs": [],
   "source": [
    "#Run some tests on pararmeters\n",
    "splitter = ['best', 'random']\n",
    "max_depth=[None, 10, 13, 14, 15, 16, 17]\n",
    "min_samples_split=[2,3, 4, 5,8]\n",
    "max_features=['sqrt', 'log2', None]"
   ]
  },
  {
   "cell_type": "code",
   "execution_count": 124,
   "id": "1ad470aa",
   "metadata": {},
   "outputs": [],
   "source": [
    "#Test all combos and record the results\n",
    "s_list = []\n",
    "mss_list = []\n",
    "md_list = []\n",
    "mf_list = []\n",
    "result = []\n",
    "\n",
    "for s in splitter:\n",
    "    for mss in min_samples_split:\n",
    "            for mf in max_features:\n",
    "                for md in max_depth:\n",
    "                            #Create model\n",
    "                            model = Pipeline([('Scaler', StandardScaler()), ('Tree', DecisionTreeRegressor(splitter=s, max_depth=md, min_samples_split=mss, max_features=mf, random_state=20))])\n",
    "                            #Fit model\n",
    "                            model.fit(trainX.drop('WinProb'), trainMargin)\n",
    "                            #Test checking\n",
    "                            testYMitPred = (testY\n",
    "                                             .with_columns(pl.Series(model.predict(testX.drop( 'WinProb'))).alias('Prediction'))\n",
    "                                             .with_columns(((pl.col('win.margin') - pl.col('Prediction'))**2).alias('SqDiff'))\n",
    "                                             .select(pl.col('SqDiff').sum().alias('SqDiffSum'), pl.col('SqDiff').len().alias('Len'))\n",
    "                                             .with_columns(((1/pl.col('Len'))*pl.col('SqDiffSum')).alias('MSE'))\n",
    "                                             .select('MSE')\n",
    "                                             .item()\n",
    "                                            )\n",
    "                            #get result\n",
    "                            result.append(testYMitPred)\n",
    "                            #append parameters\n",
    "                            s_list.append(s)\n",
    "                            md_list.append(md)\n",
    "                            mss_list.append(mss)\n",
    "                            mf_list.append(mf)\n",
    "                    \n",
    "                    \n",
    "#Display in df\n",
    "paramTesting = pl.DataFrame({'splitter' : s_list, 'max_depth' : md_list, 'Min_sample_split' : mss_list, 'Max_features' : mf_list, \n",
    "                             'Results': result})"
   ]
  },
  {
   "cell_type": "code",
   "execution_count": 125,
   "id": "b0c8dbd3",
   "metadata": {},
   "outputs": [
    {
     "data": {
      "text/html": [
       "<div><style>\n",
       ".dataframe > thead > tr,\n",
       ".dataframe > tbody > tr {\n",
       "  text-align: right;\n",
       "  white-space: pre-wrap;\n",
       "}\n",
       "</style>\n",
       "<small>shape: (5, 5)</small><table border=\"1\" class=\"dataframe\"><thead><tr><th>splitter</th><th>max_depth</th><th>Min_sample_split</th><th>Max_features</th><th>Results</th></tr><tr><td>str</td><td>i64</td><td>i64</td><td>str</td><td>f64</td></tr></thead><tbody><tr><td>&quot;random&quot;</td><td>10</td><td>2</td><td>&quot;log2&quot;</td><td>665.444787</td></tr><tr><td>&quot;random&quot;</td><td>15</td><td>8</td><td>&quot;sqrt&quot;</td><td>681.708977</td></tr><tr><td>&quot;random&quot;</td><td>10</td><td>3</td><td>&quot;log2&quot;</td><td>696.268937</td></tr><tr><td>&quot;random&quot;</td><td>14</td><td>8</td><td>&quot;sqrt&quot;</td><td>722.855497</td></tr><tr><td>&quot;best&quot;</td><td>10</td><td>5</td><td>&quot;sqrt&quot;</td><td>736.915168</td></tr></tbody></table></div>"
      ],
      "text/plain": [
       "shape: (5, 5)\n",
       "┌──────────┬───────────┬──────────────────┬──────────────┬────────────┐\n",
       "│ splitter ┆ max_depth ┆ Min_sample_split ┆ Max_features ┆ Results    │\n",
       "│ ---      ┆ ---       ┆ ---              ┆ ---          ┆ ---        │\n",
       "│ str      ┆ i64       ┆ i64              ┆ str          ┆ f64        │\n",
       "╞══════════╪═══════════╪══════════════════╪══════════════╪════════════╡\n",
       "│ random   ┆ 10        ┆ 2                ┆ log2         ┆ 665.444787 │\n",
       "│ random   ┆ 15        ┆ 8                ┆ sqrt         ┆ 681.708977 │\n",
       "│ random   ┆ 10        ┆ 3                ┆ log2         ┆ 696.268937 │\n",
       "│ random   ┆ 14        ┆ 8                ┆ sqrt         ┆ 722.855497 │\n",
       "│ best     ┆ 10        ┆ 5                ┆ sqrt         ┆ 736.915168 │\n",
       "└──────────┴───────────┴──────────────────┴──────────────┴────────────┘"
      ]
     },
     "execution_count": 125,
     "metadata": {},
     "output_type": "execute_result"
    }
   ],
   "source": [
    "paramTesting.sort('Results', descending=False).head()"
   ]
  },
  {
   "cell_type": "code",
   "execution_count": 126,
   "id": "de2e9327",
   "metadata": {},
   "outputs": [
    {
     "data": {
      "text/plain": [
       "25.787593916455254"
      ]
     },
     "execution_count": 126,
     "metadata": {},
     "output_type": "execute_result"
    }
   ],
   "source": [
    "np.sqrt(665)"
   ]
  },
  {
   "cell_type": "code",
   "execution_count": 127,
   "id": "5be986d1",
   "metadata": {},
   "outputs": [],
   "source": [
    "model = Pipeline([('Scaler', StandardScaler()), ('Tree', DecisionTreeRegressor(splitter='random', max_depth=10, min_samples_split=2, max_features='log2', random_state=20))])\n",
    "model.fit(trainX.drop('WinProb'), trainMargin)\n",
    "pickle.dump(model, open('Data/margin.sav', 'wb'))"
   ]
  }
 ],
 "metadata": {
  "kernelspec": {
   "display_name": "base",
   "language": "python",
   "name": "python3"
  },
  "language_info": {
   "codemirror_mode": {
    "name": "ipython",
    "version": 3
   },
   "file_extension": ".py",
   "mimetype": "text/x-python",
   "name": "python",
   "nbconvert_exporter": "python",
   "pygments_lexer": "ipython3",
   "version": "3.10.13"
  }
 },
 "nbformat": 4,
 "nbformat_minor": 5
}
