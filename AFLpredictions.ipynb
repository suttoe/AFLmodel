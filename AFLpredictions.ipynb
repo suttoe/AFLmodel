{
 "cells": [
  {
   "cell_type": "markdown",
   "metadata": {},
   "source": [
    "# AFL Predictions\n",
    "The file we will run to get each rounds predictions!"
   ]
  },
  {
   "cell_type": "code",
   "execution_count": 1,
   "metadata": {},
   "outputs": [
    {
     "name": "stderr",
     "output_type": "stream",
     "text": [
      "/home/erin/Documents/AFL tipping/afl-env/lib/python3.12/site-packages/rpy2/robjects/lib/dplyr.py:27: UserWarning: This was designed against dplyr versions starting with 1.0 but you have 1.1.4\n",
      "  warnings.warn(\n"
     ]
    }
   ],
   "source": [
    "#packages\n",
    "import polars as pl\n",
    "import pickle\n",
    "import numpy as np\n",
    "import pandas as pd\n",
    "#Get Update function\n",
    "from ipynb.fs.defs.AFLupdate import updateData, getCurrentRoundNumbers\n",
    "#Get upcoming fixture\n",
    "from ipynb.fs.defs.AFLfixture import createFixture\n",
    "\n",
    "pl.Config.set_fmt_str_lengths(150);\n",
    "pl.Config.set_tbl_cols(40);\n",
    "pl.Config.set_tbl_rows(50);\n"
   ]
  },
  {
   "cell_type": "code",
   "execution_count": 2,
   "metadata": {},
   "outputs": [
    {
     "name": "stdout",
     "output_type": "stream",
     "text": [
      "ℹ Returning data for \"All Rounds, 2025\"\n",
      "✔ Returning data for \"All Rounds, 2025\" [451ms]\n",
      "\n",
      "No update Required\n"
     ]
    }
   ],
   "source": [
    "#Run updates\n",
    "updateData()"
   ]
  },
  {
   "cell_type": "code",
   "execution_count": 3,
   "metadata": {},
   "outputs": [
    {
     "name": "stdout",
     "output_type": "stream",
     "text": [
      "ℹ Returning data for \"All Rounds, 2025\"\n",
      "✔ Returning data for \"All Rounds, 2025\" [330ms]\n",
      "\n",
      "ℹ Returning data for \"Round 3, 2025\"\n",
      "✔ Returning data for \"Round 3, 2025\" [251ms]\n",
      "\n",
      "ℹ Returning data for \"All Rounds, 2025\"\n",
      "✔ Returning data for \"All Rounds, 2025\" [294ms]\n",
      "\n",
      "ℹ Returning data for \"Round 2, 2025\"\n",
      "✔ Returning data for \"Round 2, 2025\" [241ms]\n",
      "\n",
      "shape: (1, 13)\n",
      "┌─────┬─────┬─────┬────────┬───────┬───────┬───────┬───────┬───────┬───────┬───────┬───────┬───────┐\n",
      "│ id  ┆ pro ┆ nam ┆ abbrev ┆ nickn ┆ teamT ┆ club. ┆ club. ┆ club. ┆ club. ┆ club. ┆ round ┆ ByeFl │\n",
      "│ --- ┆ vid ┆ e   ┆ iation ┆ ame   ┆ ype   ┆ id    ┆ provi ┆ name  ┆ abbre ┆ nickn ┆ .curr ┆ ag    │\n",
      "│ i64 ┆ erI ┆ --- ┆ ---    ┆ ---   ┆ ---   ┆ ---   ┆ derId ┆ ---   ┆ viati ┆ ame   ┆ entRo ┆ ---   │\n",
      "│     ┆ d   ┆ str ┆ str    ┆ str   ┆ str   ┆ i64   ┆ ---   ┆ str   ┆ on    ┆ ---   ┆ und   ┆ i32   │\n",
      "│     ┆ --- ┆     ┆        ┆       ┆       ┆       ┆ str   ┆       ┆ ---   ┆ str   ┆ ---   ┆       │\n",
      "│     ┆ str ┆     ┆        ┆       ┆       ┆       ┆       ┆       ┆ str   ┆       ┆ i32   ┆       │\n",
      "╞═════╪═════╪═════╪════════╪═══════╪═══════╪═══════╪═══════╪═══════╪═══════╪═══════╪═══════╪═══════╡\n",
      "│ 4   ┆ CD_ ┆ Gol ┆ GCFC   ┆ SUNS  ┆ MEN   ┆ 9     ┆ CD_O1 ┆ Gold  ┆ SUNS  ┆ SUNS  ┆ 3     ┆ 1     │\n",
      "│     ┆ T10 ┆ d   ┆        ┆       ┆       ┆       ┆ 4     ┆ Coast ┆       ┆       ┆       ┆       │\n",
      "│     ┆ 00  ┆ Coa ┆        ┆       ┆       ┆       ┆       ┆ SUNS  ┆       ┆       ┆       ┆       │\n",
      "│     ┆     ┆ st  ┆        ┆       ┆       ┆       ┆       ┆       ┆       ┆       ┆       ┆       │\n",
      "│     ┆     ┆ SUN ┆        ┆       ┆       ┆       ┆       ┆       ┆       ┆       ┆       ┆       │\n",
      "│     ┆     ┆ S   ┆        ┆       ┆       ┆       ┆       ┆       ┆       ┆       ┆       ┆       │\n",
      "└─────┴─────┴─────┴────────┴───────┴───────┴───────┴───────┴───────┴───────┴───────┴───────┴───────┘\n",
      "ℹ Returning data for \"All Rounds, 2025\"\n",
      "✔ Returning data for \"All Rounds, 2025\" [290ms]\n",
      "\n",
      "ℹ Returning data for \"All Rounds, 2025\"\n",
      "✔ Returning data for \"All Rounds, 2025\" [294ms]\n",
      "\n",
      "ℹ Returning data for \"All Rounds, 2025\"\n",
      "✔ Returning data for \"All Rounds, 2025\" [319ms]\n",
      "\n",
      "ℹ Fetching match ids\n",
      "✔ Fetching match ids [492ms]\n",
      "\n",
      "ℹ Finding player stats for 216 matches.\n",
      "✔ Finding player stats for 216 matches. [35.6s]\n",
      "\n",
      "ℹ Fetching match ids\n",
      "✔ Fetching match ids [297ms]\n",
      "\n",
      "ℹ Finding player stats for 207 matches.\n",
      "✔ Finding player stats for 207 matches. [23.2s]\n",
      "\n"
     ]
    }
   ],
   "source": [
    "#get the fixture \n",
    "fixture, predictionDF = createFixture()"
   ]
  },
  {
   "cell_type": "code",
   "execution_count": 4,
   "metadata": {},
   "outputs": [
    {
     "name": "stdout",
     "output_type": "stream",
     "text": [
      "ℹ Returning data for \"All Rounds, 2025\"\n",
      "✔ Returning data for \"All Rounds, 2025\" [285ms]\n",
      "\n"
     ]
    }
   ],
   "source": [
    "#if fixture exists i.e no issues have been introduced, go ahead and use our models to get our predictions\n",
    "modelWin = pickle.load(open('Data/winner.sav', 'rb'))\n",
    "\n",
    "predictWinner = modelWin.predict(fixture).tolist()\n",
    "probsWinner = modelWin.predict_proba(fixture).tolist()\n",
    "\n",
    "#create the winner portion of the prediction df\n",
    "predictionDF = (predictionDF\n",
    "                 #place in results\n",
    "                 .with_columns(pl.Series(predictWinner).alias('Predictions'),\n",
    "                               pl.Series(probsWinner).alias('Probs'))\n",
    "                 #Winner probs\n",
    "                 .with_columns(((pl.col('Probs').list.get(pl.col('Predictions')))*100).round(2).alias('Win Prob'))\n",
    "                 .with_columns(pl.when(pl.col('Predictions') == 1).then(pl.col('home.team.name')).otherwise(pl.col('away.team.name')).alias('Predicted Winner'))\n",
    "                 #Add current round\n",
    "                 .with_columns(pl.lit(getCurrentRoundNumbers()).alias('Round Number'))\n",
    "                 #rename\n",
    "                 .rename({'home.team.name' : 'Home Team',\n",
    "                          'away.team.name' : 'Away Team'})\n",
    "                 #keep only wants required\n",
    "                 .select('Round Number', 'Home Team', 'Away Team', 'Predicted Winner', 'Win Prob')\n",
    "                )\n"
   ]
  },
  {
   "cell_type": "code",
   "execution_count": 5,
   "metadata": {},
   "outputs": [],
   "source": [
    "#Get the margin\n",
    "#load the model in\n",
    "model = pickle.load(open('Data/margin.sav', 'rb'))\n",
    "\n",
    "#And the win probablities to fixture\n",
    "fixture[['homeProb', 'awayProb']] = probsWinner\n",
    "#predict the fixture\n",
    "predictMargin = model.predict(fixture).tolist()\n",
    "\n",
    "#Add to prediction df\n",
    "predictionDF = (predictionDF.with_columns(pl.Series(predictMargin).round(0).cast(pl.Int32).alias('Margin')))\n"
   ]
  },
  {
   "cell_type": "code",
   "execution_count": 6,
   "metadata": {},
   "outputs": [
    {
     "data": {
      "text/html": [
       "<div><style>\n",
       ".dataframe > thead > tr,\n",
       ".dataframe > tbody > tr {\n",
       "  text-align: right;\n",
       "  white-space: pre-wrap;\n",
       "}\n",
       "</style>\n",
       "<small>shape: (8, 6)</small><table border=\"1\" class=\"dataframe\"><thead><tr><th>Round Number</th><th>Home Team</th><th>Away Team</th><th>Predicted Winner</th><th>Win Prob</th><th>Margin</th></tr><tr><td>i32</td><td>str</td><td>str</td><td>str</td><td>f64</td><td>i32</td></tr></thead><tbody><tr><td>3</td><td>&quot;Essendon&quot;</td><td>&quot;Port Adelaide&quot;</td><td>&quot;Essendon&quot;</td><td>63.21</td><td>64</td></tr><tr><td>3</td><td>&quot;Carlton&quot;</td><td>&quot;Western Bulldogs&quot;</td><td>&quot;Carlton&quot;</td><td>56.9</td><td>3</td></tr><tr><td>3</td><td>&quot;Melbourne&quot;</td><td>&quot;Gold Coast Suns&quot;</td><td>&quot;Melbourne&quot;</td><td>80.05</td><td>25</td></tr><tr><td>3</td><td>&quot;St Kilda&quot;</td><td>&quot;Richmond&quot;</td><td>&quot;St Kilda&quot;</td><td>62.38</td><td>28</td></tr><tr><td>3</td><td>&quot;Hawthorn&quot;</td><td>&quot;GWS Giants&quot;</td><td>&quot;GWS Giants&quot;</td><td>51.87</td><td>23</td></tr><tr><td>3</td><td>&quot;Brisbane Lions&quot;</td><td>&quot;Geelong Cats&quot;</td><td>&quot;Brisbane Lions&quot;</td><td>61.54</td><td>28</td></tr><tr><td>3</td><td>&quot;Adelaide Crows&quot;</td><td>&quot;North Melbourne&quot;</td><td>&quot;Adelaide Crows&quot;</td><td>68.78</td><td>28</td></tr><tr><td>3</td><td>&quot;West Coast Eagles&quot;</td><td>&quot;Fremantle&quot;</td><td>&quot;Fremantle&quot;</td><td>60.96</td><td>48</td></tr></tbody></table></div>"
      ],
      "text/plain": [
       "shape: (8, 6)\n",
       "┌──────────────┬───────────────────┬──────────────────┬──────────────────┬──────────┬────────┐\n",
       "│ Round Number ┆ Home Team         ┆ Away Team        ┆ Predicted Winner ┆ Win Prob ┆ Margin │\n",
       "│ ---          ┆ ---               ┆ ---              ┆ ---              ┆ ---      ┆ ---    │\n",
       "│ i32          ┆ str               ┆ str              ┆ str              ┆ f64      ┆ i32    │\n",
       "╞══════════════╪═══════════════════╪══════════════════╪══════════════════╪══════════╪════════╡\n",
       "│ 3            ┆ Essendon          ┆ Port Adelaide    ┆ Essendon         ┆ 63.21    ┆ 64     │\n",
       "│ 3            ┆ Carlton           ┆ Western Bulldogs ┆ Carlton          ┆ 56.9     ┆ 3      │\n",
       "│ 3            ┆ Melbourne         ┆ Gold Coast Suns  ┆ Melbourne        ┆ 80.05    ┆ 25     │\n",
       "│ 3            ┆ St Kilda          ┆ Richmond         ┆ St Kilda         ┆ 62.38    ┆ 28     │\n",
       "│ 3            ┆ Hawthorn          ┆ GWS Giants       ┆ GWS Giants       ┆ 51.87    ┆ 23     │\n",
       "│ 3            ┆ Brisbane Lions    ┆ Geelong Cats     ┆ Brisbane Lions   ┆ 61.54    ┆ 28     │\n",
       "│ 3            ┆ Adelaide Crows    ┆ North Melbourne  ┆ Adelaide Crows   ┆ 68.78    ┆ 28     │\n",
       "│ 3            ┆ West Coast Eagles ┆ Fremantle        ┆ Fremantle        ┆ 60.96    ┆ 48     │\n",
       "└──────────────┴───────────────────┴──────────────────┴──────────────────┴──────────┴────────┘"
      ]
     },
     "execution_count": 6,
     "metadata": {},
     "output_type": "execute_result"
    }
   ],
   "source": [
    "predictionDF"
   ]
  },
  {
   "cell_type": "code",
   "execution_count": 7,
   "metadata": {},
   "outputs": [
    {
     "name": "stdout",
     "output_type": "stream",
     "text": [
      "ℹ Returning data for \"All Rounds, 2025\"\n",
      "✔ Returning data for \"All Rounds, 2025\" [277ms]\n",
      "\n"
     ]
    }
   ],
   "source": [
    "#Write to folder\n",
    "#Individual round tips\n",
    "predictionDF.write_csv(fr'Tips/2025/Round_{getCurrentRoundNumbers()}.csv')\n",
    "\n",
    "#Append to all_tips\n",
    "with open(\"Tips/2025/All_Tips.csv\", mode=\"a\") as f:\n",
    "   predictionDF.write_csv(f, include_header=False)"
   ]
  }
 ],
 "metadata": {
  "kernelspec": {
   "display_name": "afl-env",
   "language": "python",
   "name": "python3"
  },
  "language_info": {
   "codemirror_mode": {
    "name": "ipython",
    "version": 3
   },
   "file_extension": ".py",
   "mimetype": "text/x-python",
   "name": "python",
   "nbconvert_exporter": "python",
   "pygments_lexer": "ipython3",
   "version": "3.12.3"
  }
 },
 "nbformat": 4,
 "nbformat_minor": 2
}
