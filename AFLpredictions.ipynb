{
 "cells": [
  {
   "cell_type": "markdown",
   "metadata": {},
   "source": [
    "# AFL Predictions\n",
    "The file we will run to get each rounds predictions!"
   ]
  },
  {
   "cell_type": "code",
   "execution_count": 1,
   "metadata": {},
   "outputs": [
    {
     "name": "stderr",
     "output_type": "stream",
     "text": [
      "/home/erin/Documents/AFL tipping/afl-env/lib/python3.12/site-packages/rpy2/robjects/lib/dplyr.py:27: UserWarning: This was designed against dplyr versions starting with 1.0 but you have 1.1.4\n",
      "  warnings.warn(\n"
     ]
    }
   ],
   "source": [
    "#packages\n",
    "import polars as pl\n",
    "import pickle\n",
    "import numpy as np\n",
    "import pandas as pd\n",
    "#Get Update function\n",
    "from ipynb.fs.defs.AFLupdate import updateData, getCurrentRoundNumbers\n",
    "#Get upcoming fixture\n",
    "from ipynb.fs.defs.AFLfixture import createFixture\n",
    "\n",
    "pl.Config.set_fmt_str_lengths(150);\n",
    "pl.Config.set_tbl_cols(40);\n",
    "pl.Config.set_tbl_rows(50);\n"
   ]
  },
  {
   "cell_type": "code",
   "execution_count": 2,
   "metadata": {},
   "outputs": [
    {
     "name": "stdout",
     "output_type": "stream",
     "text": [
      "ℹ Returning data for \"All Rounds, 2025\"\n",
      "✔ Returning data for \"All Rounds, 2025\" [560ms]\n",
      "\n",
      "No update Required\n"
     ]
    }
   ],
   "source": [
    "#Run updates\n",
    "updateData()"
   ]
  },
  {
   "cell_type": "code",
   "execution_count": 3,
   "metadata": {},
   "outputs": [
    {
     "name": "stdout",
     "output_type": "stream",
     "text": [
      "ℹ Returning data for \"All Rounds, 2025\"\n",
      "✔ Returning data for \"All Rounds, 2025\" [292ms]\n",
      "\n",
      "ℹ Returning data for \"Round 10, 2025\"\n",
      "✔ Returning data for \"Round 10, 2025\" [268ms]\n",
      "\n",
      "ℹ Returning data for \"All Rounds, 2025\"\n",
      "✔ Returning data for \"All Rounds, 2025\" [270ms]\n",
      "\n",
      "ℹ Returning data for \"Round 9, 2025\"\n",
      "✔ Returning data for \"Round 9, 2025\" [354ms]\n",
      "\n",
      "ℹ Returning data for \"All Rounds, 2025\"\n",
      "✔ Returning data for \"All Rounds, 2025\" [266ms]\n",
      "\n",
      "ℹ Returning data for \"All Rounds, 2025\"\n",
      "✔ Returning data for \"All Rounds, 2025\" [252ms]\n",
      "\n",
      "ℹ Returning data for \"All Rounds, 2025\"\n",
      "✔ Returning data for \"All Rounds, 2025\" [295ms]\n",
      "\n",
      "ℹ Fetching match ids\n",
      "✔ Fetching match ids [456ms]\n",
      "\n",
      "ℹ Finding player stats for 216 matches.\n",
      "✔ Finding player stats for 216 matches. [46.5s]\n",
      "\n",
      "ℹ Fetching match ids\n",
      "✔ Fetching match ids [479ms]\n",
      "\n",
      "ℹ Finding player stats for 207 matches.\n",
      "✔ Finding player stats for 207 matches. [29.1s]\n",
      "\n"
     ]
    }
   ],
   "source": [
    "#get the fixture \n",
    "fixture, predictionDF = createFixture()"
   ]
  },
  {
   "cell_type": "code",
   "execution_count": 4,
   "metadata": {},
   "outputs": [
    {
     "name": "stdout",
     "output_type": "stream",
     "text": [
      "ℹ Returning data for \"All Rounds, 2025\"\n",
      "✔ Returning data for \"All Rounds, 2025\" [316ms]\n",
      "\n"
     ]
    }
   ],
   "source": [
    "#if fixture exists i.e no issues have been introduced, go ahead and use our models to get our predictions\n",
    "modelWin = pickle.load(open('Data/winner.sav', 'rb'))\n",
    "\n",
    "predictWinner = modelWin.predict(fixture).tolist()\n",
    "probsWinner = modelWin.predict_proba(fixture).tolist()\n",
    "\n",
    "#create the winner portion of the prediction df\n",
    "predictionDF = (predictionDF\n",
    "                 #place in results\n",
    "                 .with_columns(pl.Series(predictWinner).alias('Predictions'),\n",
    "                               pl.Series(probsWinner).alias('Probs'))\n",
    "                 #Winner probs\n",
    "                 .with_columns(((pl.col('Probs').list.get(pl.col('Predictions')))*100).round(2).alias('Win Prob'))\n",
    "                 .with_columns(pl.when(pl.col('Predictions') == 1).then(pl.col('home.team.name')).otherwise(pl.col('away.team.name')).alias('Predicted Winner'))\n",
    "                 #Add current round\n",
    "                 .with_columns(pl.lit(getCurrentRoundNumbers()).alias('Round Number'))\n",
    "                 #rename\n",
    "                 .rename({'home.team.name' : 'Home Team',\n",
    "                          'away.team.name' : 'Away Team'})\n",
    "                 #keep only wants required\n",
    "                 .select('Round Number', 'Home Team', 'Away Team', 'Predicted Winner', 'Win Prob')\n",
    "                )\n"
   ]
  },
  {
   "cell_type": "code",
   "execution_count": 5,
   "metadata": {},
   "outputs": [
    {
     "data": {
      "text/html": [
       "<div><style>\n",
       ".dataframe > thead > tr,\n",
       ".dataframe > tbody > tr {\n",
       "  text-align: right;\n",
       "  white-space: pre-wrap;\n",
       "}\n",
       "</style>\n",
       "<small>shape: (9, 5)</small><table border=\"1\" class=\"dataframe\"><thead><tr><th>Round Number</th><th>Home Team</th><th>Away Team</th><th>Predicted Winner</th><th>Win Prob</th></tr><tr><td>i32</td><td>str</td><td>str</td><td>str</td><td>f64</td></tr></thead><tbody><tr><td>10</td><td>&quot;Gold Coast Suns&quot;</td><td>&quot;Hawthorn&quot;</td><td>&quot;Hawthorn&quot;</td><td>63.72</td></tr><tr><td>10</td><td>&quot;Sydney Swans&quot;</td><td>&quot;Carlton&quot;</td><td>&quot;Sydney Swans&quot;</td><td>57.99</td></tr><tr><td>10</td><td>&quot;Collingwood&quot;</td><td>&quot;Adelaide Crows&quot;</td><td>&quot;Collingwood&quot;</td><td>68.12</td></tr><tr><td>10</td><td>&quot;Port Adelaide&quot;</td><td>&quot;Geelong Cats&quot;</td><td>&quot;Port Adelaide&quot;</td><td>78.62</td></tr><tr><td>10</td><td>&quot;GWS Giants&quot;</td><td>&quot;Fremantle&quot;</td><td>&quot;GWS Giants&quot;</td><td>52.2</td></tr><tr><td>10</td><td>&quot;Western Bulldogs&quot;</td><td>&quot;Essendon&quot;</td><td>&quot;Western Bulldogs&quot;</td><td>62.64</td></tr><tr><td>10</td><td>&quot;Richmond&quot;</td><td>&quot;North Melbourne&quot;</td><td>&quot;Richmond&quot;</td><td>54.92</td></tr><tr><td>10</td><td>&quot;Brisbane Lions&quot;</td><td>&quot;Melbourne&quot;</td><td>&quot;Brisbane Lions&quot;</td><td>63.6</td></tr><tr><td>10</td><td>&quot;West Coast Eagles&quot;</td><td>&quot;St Kilda&quot;</td><td>&quot;St Kilda&quot;</td><td>60.14</td></tr></tbody></table></div>"
      ],
      "text/plain": [
       "shape: (9, 5)\n",
       "┌──────────────┬───────────────────┬─────────────────┬──────────────────┬──────────┐\n",
       "│ Round Number ┆ Home Team         ┆ Away Team       ┆ Predicted Winner ┆ Win Prob │\n",
       "│ ---          ┆ ---               ┆ ---             ┆ ---              ┆ ---      │\n",
       "│ i32          ┆ str               ┆ str             ┆ str              ┆ f64      │\n",
       "╞══════════════╪═══════════════════╪═════════════════╪══════════════════╪══════════╡\n",
       "│ 10           ┆ Gold Coast Suns   ┆ Hawthorn        ┆ Hawthorn         ┆ 63.72    │\n",
       "│ 10           ┆ Sydney Swans      ┆ Carlton         ┆ Sydney Swans     ┆ 57.99    │\n",
       "│ 10           ┆ Collingwood       ┆ Adelaide Crows  ┆ Collingwood      ┆ 68.12    │\n",
       "│ 10           ┆ Port Adelaide     ┆ Geelong Cats    ┆ Port Adelaide    ┆ 78.62    │\n",
       "│ 10           ┆ GWS Giants        ┆ Fremantle       ┆ GWS Giants       ┆ 52.2     │\n",
       "│ 10           ┆ Western Bulldogs  ┆ Essendon        ┆ Western Bulldogs ┆ 62.64    │\n",
       "│ 10           ┆ Richmond          ┆ North Melbourne ┆ Richmond         ┆ 54.92    │\n",
       "│ 10           ┆ Brisbane Lions    ┆ Melbourne       ┆ Brisbane Lions   ┆ 63.6     │\n",
       "│ 10           ┆ West Coast Eagles ┆ St Kilda        ┆ St Kilda         ┆ 60.14    │\n",
       "└──────────────┴───────────────────┴─────────────────┴──────────────────┴──────────┘"
      ]
     },
     "execution_count": 5,
     "metadata": {},
     "output_type": "execute_result"
    }
   ],
   "source": [
    "predictionDF"
   ]
  },
  {
   "cell_type": "code",
   "execution_count": 6,
   "metadata": {},
   "outputs": [],
   "source": [
    "#Get the margin\n",
    "#load the model in\n",
    "model = pickle.load(open('Data/margin.sav', 'rb'))\n",
    "\n",
    "#And the win probablities to fixture\n",
    "fixture[['homeProb', 'awayProb']] = probsWinner\n",
    "#predict the fixture\n",
    "predictMargin = model.predict(fixture).tolist()\n",
    "\n",
    "#Add to prediction df\n",
    "predictionDF = (predictionDF.with_columns(pl.Series(predictMargin).round(0).cast(pl.Int32).alias('Margin')))\n"
   ]
  },
  {
   "cell_type": "code",
   "execution_count": 7,
   "metadata": {},
   "outputs": [
    {
     "data": {
      "text/html": [
       "<div><style>\n",
       ".dataframe > thead > tr,\n",
       ".dataframe > tbody > tr {\n",
       "  text-align: right;\n",
       "  white-space: pre-wrap;\n",
       "}\n",
       "</style>\n",
       "<small>shape: (9, 6)</small><table border=\"1\" class=\"dataframe\"><thead><tr><th>Round Number</th><th>Home Team</th><th>Away Team</th><th>Predicted Winner</th><th>Win Prob</th><th>Margin</th></tr><tr><td>i32</td><td>str</td><td>str</td><td>str</td><td>f64</td><td>i32</td></tr></thead><tbody><tr><td>10</td><td>&quot;Gold Coast Suns&quot;</td><td>&quot;Hawthorn&quot;</td><td>&quot;Hawthorn&quot;</td><td>63.72</td><td>35</td></tr><tr><td>10</td><td>&quot;Sydney Swans&quot;</td><td>&quot;Carlton&quot;</td><td>&quot;Sydney Swans&quot;</td><td>57.99</td><td>25</td></tr><tr><td>10</td><td>&quot;Collingwood&quot;</td><td>&quot;Adelaide Crows&quot;</td><td>&quot;Collingwood&quot;</td><td>68.12</td><td>31</td></tr><tr><td>10</td><td>&quot;Port Adelaide&quot;</td><td>&quot;Geelong Cats&quot;</td><td>&quot;Port Adelaide&quot;</td><td>78.62</td><td>46</td></tr><tr><td>10</td><td>&quot;GWS Giants&quot;</td><td>&quot;Fremantle&quot;</td><td>&quot;GWS Giants&quot;</td><td>52.2</td><td>35</td></tr><tr><td>10</td><td>&quot;Western Bulldogs&quot;</td><td>&quot;Essendon&quot;</td><td>&quot;Western Bulldogs&quot;</td><td>62.64</td><td>26</td></tr><tr><td>10</td><td>&quot;Richmond&quot;</td><td>&quot;North Melbourne&quot;</td><td>&quot;Richmond&quot;</td><td>54.92</td><td>19</td></tr><tr><td>10</td><td>&quot;Brisbane Lions&quot;</td><td>&quot;Melbourne&quot;</td><td>&quot;Brisbane Lions&quot;</td><td>63.6</td><td>21</td></tr><tr><td>10</td><td>&quot;West Coast Eagles&quot;</td><td>&quot;St Kilda&quot;</td><td>&quot;St Kilda&quot;</td><td>60.14</td><td>26</td></tr></tbody></table></div>"
      ],
      "text/plain": [
       "shape: (9, 6)\n",
       "┌──────────────┬───────────────────┬─────────────────┬──────────────────┬──────────┬────────┐\n",
       "│ Round Number ┆ Home Team         ┆ Away Team       ┆ Predicted Winner ┆ Win Prob ┆ Margin │\n",
       "│ ---          ┆ ---               ┆ ---             ┆ ---              ┆ ---      ┆ ---    │\n",
       "│ i32          ┆ str               ┆ str             ┆ str              ┆ f64      ┆ i32    │\n",
       "╞══════════════╪═══════════════════╪═════════════════╪══════════════════╪══════════╪════════╡\n",
       "│ 10           ┆ Gold Coast Suns   ┆ Hawthorn        ┆ Hawthorn         ┆ 63.72    ┆ 35     │\n",
       "│ 10           ┆ Sydney Swans      ┆ Carlton         ┆ Sydney Swans     ┆ 57.99    ┆ 25     │\n",
       "│ 10           ┆ Collingwood       ┆ Adelaide Crows  ┆ Collingwood      ┆ 68.12    ┆ 31     │\n",
       "│ 10           ┆ Port Adelaide     ┆ Geelong Cats    ┆ Port Adelaide    ┆ 78.62    ┆ 46     │\n",
       "│ 10           ┆ GWS Giants        ┆ Fremantle       ┆ GWS Giants       ┆ 52.2     ┆ 35     │\n",
       "│ 10           ┆ Western Bulldogs  ┆ Essendon        ┆ Western Bulldogs ┆ 62.64    ┆ 26     │\n",
       "│ 10           ┆ Richmond          ┆ North Melbourne ┆ Richmond         ┆ 54.92    ┆ 19     │\n",
       "│ 10           ┆ Brisbane Lions    ┆ Melbourne       ┆ Brisbane Lions   ┆ 63.6     ┆ 21     │\n",
       "│ 10           ┆ West Coast Eagles ┆ St Kilda        ┆ St Kilda         ┆ 60.14    ┆ 26     │\n",
       "└──────────────┴───────────────────┴─────────────────┴──────────────────┴──────────┴────────┘"
      ]
     },
     "execution_count": 7,
     "metadata": {},
     "output_type": "execute_result"
    }
   ],
   "source": [
    "predictionDF"
   ]
  },
  {
   "cell_type": "code",
   "execution_count": 8,
   "metadata": {},
   "outputs": [
    {
     "name": "stdout",
     "output_type": "stream",
     "text": [
      "ℹ Returning data for \"All Rounds, 2025\"\n",
      "✔ Returning data for \"All Rounds, 2025\" [401ms]\n",
      "\n"
     ]
    }
   ],
   "source": [
    "#Write to folder\n",
    "#Individual round tips\n",
    "predictionDF.write_csv(fr'Tips/2025/Round_{getCurrentRoundNumbers()}.csv')\n",
    "\n",
    "#Append to all_tips\n",
    "with open(\"Tips/2025/All_Tips.csv\", mode=\"a\") as f:\n",
    "   predictionDF.write_csv(f, include_header=False)"
   ]
  },
  {
   "cell_type": "code",
   "execution_count": null,
   "metadata": {},
   "outputs": [],
   "source": []
  }
 ],
 "metadata": {
  "kernelspec": {
   "display_name": "afl-env",
   "language": "python",
   "name": "python3"
  },
  "language_info": {
   "codemirror_mode": {
    "name": "ipython",
    "version": 3
   },
   "file_extension": ".py",
   "mimetype": "text/x-python",
   "name": "python",
   "nbconvert_exporter": "python",
   "pygments_lexer": "ipython3",
   "version": "3.12.3"
  }
 },
 "nbformat": 4,
 "nbformat_minor": 2
}
