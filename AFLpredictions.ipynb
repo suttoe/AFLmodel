{
 "cells": [
  {
   "cell_type": "markdown",
   "metadata": {},
   "source": [
    "# AFL Predictions\n",
    "The file we will run to get each rounds predictions!"
   ]
  },
  {
   "cell_type": "code",
   "execution_count": 1,
   "metadata": {},
   "outputs": [
    {
     "name": "stderr",
     "output_type": "stream",
     "text": [
      "c:\\Users\\suttoe\\AppData\\Local\\anaconda3\\lib\\site-packages\\rpy2\\robjects\\lib\\dplyr.py:27: UserWarning: This was designed against dplyr versions starting with 1.0 but you have 1.1.4\n",
      "  warnings.warn(\n"
     ]
    }
   ],
   "source": [
    "#packages\n",
    "import polars as pl\n",
    "import pickle\n",
    "import numpy as np\n",
    "import pandas as pd\n",
    "#Get Update function\n",
    "from ipynb.fs.defs.AFLupdate import updateData, getCurrentRoundNumbers\n",
    "#Get upcoming fixture\n",
    "from ipynb.fs.defs.AFLfixture import createFixture\n",
    "\n",
    "pl.Config.set_fmt_str_lengths(150);\n",
    "pl.Config.set_tbl_cols(40);\n",
    "pl.Config.set_tbl_rows(50);\n"
   ]
  },
  {
   "cell_type": "code",
   "execution_count": 2,
   "metadata": {},
   "outputs": [
    {
     "name": "stdout",
     "output_type": "stream",
     "text": [
      "i Returning data for \"All Rounds, 2025\"\n",
      "v Returning data for \"All Rounds, 2025\" [853ms]\n",
      "\n",
      "No update Required\n"
     ]
    }
   ],
   "source": [
    "#Run updates\n",
    "updateData()"
   ]
  },
  {
   "cell_type": "code",
   "execution_count": 3,
   "metadata": {},
   "outputs": [
    {
     "name": "stdout",
     "output_type": "stream",
     "text": [
      "i Returning data for \"All Rounds, 2025\"\n",
      "v Returning data for \"All Rounds, 2025\" [580ms]\n",
      "\n",
      "i Returning data for \"All Rounds, 2025\"\n",
      "v Returning data for \"All Rounds, 2025\" [396ms]\n",
      "\n",
      "i Returning data for \"Round 28, 2024\"\n",
      "v Returning data for \"Round 28, 2024\" [384ms]\n",
      "\n",
      "i Returning data for \"All Rounds, 2025\"\n",
      "v Returning data for \"All Rounds, 2025\" [419ms]\n",
      "\n",
      "i Returning data for \"All Rounds, 2025\"\n",
      "v Returning data for \"All Rounds, 2025\" [394ms]\n",
      "\n",
      "i Returning data for \"All Rounds, 2025\"\n",
      "v Returning data for \"All Rounds, 2025\" [382ms]\n",
      "\n",
      "i Fetching match ids\n",
      "v Fetching match ids [709ms]\n",
      "\n",
      "i Finding player stats for 216 matches.\n",
      "v Finding player stats for 216 matches. [45.6s]\n",
      "\n",
      "Hi\n"
     ]
    }
   ],
   "source": [
    "#get the fixture \n",
    "fixture, predictionDF = createFixture()"
   ]
  },
  {
   "cell_type": "code",
   "execution_count": 4,
   "metadata": {},
   "outputs": [
    {
     "name": "stdout",
     "output_type": "stream",
     "text": [
      "i Returning data for \"All Rounds, 2025\"\n",
      "v Returning data for \"All Rounds, 2025\" [527ms]\n",
      "\n"
     ]
    }
   ],
   "source": [
    "#if fixture exists i.e no issues have been introduced, go ahead and use our models to get our predictions\n",
    "modelWin = pickle.load(open('Data/winner.sav', 'rb'))\n",
    "\n",
    "predictWinner = modelWin.predict(fixture).tolist()\n",
    "probsWinner = modelWin.predict_proba(fixture).tolist()\n",
    "\n",
    "#create the winner portion of the prediction df\n",
    "predictionDF = (predictionDF\n",
    "                 #place in results\n",
    "                 .with_columns(pl.Series(predictWinner).alias('Predictions'),\n",
    "                               pl.Series(probsWinner).alias('Probs'))\n",
    "                 #Winner probs\n",
    "                 .with_columns(((pl.col('Probs').list.get(pl.col('Predictions')))*100).round(2).alias('Win Prob'))\n",
    "                 .with_columns(pl.when(pl.col('Predictions') == 1).then(pl.col('home.team.name')).otherwise(pl.col('away.team.name')).alias('Predicted Winner'))\n",
    "                 #Add current round\n",
    "                 .with_columns(pl.lit(getCurrentRoundNumbers()).alias('Round Number'))\n",
    "                 #rename\n",
    "                 .rename({'home.team.name' : 'Home Team',\n",
    "                          'away.team.name' : 'Away Team'})\n",
    "                 #keep only wants required\n",
    "                 .select('Round Number', 'Home Team', 'Away Team', 'Predicted Winner', 'Win Prob')\n",
    "                )\n"
   ]
  },
  {
   "cell_type": "code",
   "execution_count": 17,
   "metadata": {},
   "outputs": [],
   "source": [
    "#Get the margin\n",
    "#load the model in\n",
    "model = pickle.load(open('Data/margin.sav', 'rb'))\n",
    "\n",
    "#And the win probablities to fixture\n",
    "fixture[['homeProb', 'awayProb']] = probsWinner\n",
    "#predict the fixture\n",
    "predictMargin = model.predict(fixture).tolist()\n",
    "\n",
    "#Add to prediction df\n",
    "predictionDF = (predictionDF.with_columns(pl.Series(predictMargin).round(0).cast(pl.Int32).alias('Margin')))\n"
   ]
  },
  {
   "cell_type": "code",
   "execution_count": 21,
   "metadata": {},
   "outputs": [
    {
     "data": {
      "text/html": [
       "<div><style>\n",
       ".dataframe > thead > tr,\n",
       ".dataframe > tbody > tr {\n",
       "  text-align: right;\n",
       "  white-space: pre-wrap;\n",
       "}\n",
       "</style>\n",
       "<small>shape: (4, 6)</small><table border=\"1\" class=\"dataframe\"><thead><tr><th>Round Number</th><th>Home Team</th><th>Away Team</th><th>Predicted Winner</th><th>Win Prob</th><th>Margin</th></tr><tr><td>i32</td><td>str</td><td>str</td><td>str</td><td>f64</td><td>i32</td></tr></thead><tbody><tr><td>0</td><td>&quot;Brisbane Lions&quot;</td><td>&quot;Geelong Cats&quot;</td><td>&quot;Brisbane Lions&quot;</td><td>94.65</td><td>35</td></tr><tr><td>0</td><td>&quot;Sydney Swans&quot;</td><td>&quot;Hawthorn&quot;</td><td>&quot;Sydney Swans&quot;</td><td>75.5</td><td>32</td></tr><tr><td>0</td><td>&quot;Gold Coast Suns&quot;</td><td>&quot;Essendon&quot;</td><td>&quot;Gold Coast Suns&quot;</td><td>89.22</td><td>24</td></tr><tr><td>0</td><td>&quot;GWS Giants&quot;</td><td>&quot;Collingwood&quot;</td><td>&quot;GWS Giants&quot;</td><td>81.49</td><td>28</td></tr></tbody></table></div>"
      ],
      "text/plain": [
       "shape: (4, 6)\n",
       "┌──────────────┬─────────────────┬──────────────┬──────────────────┬──────────┬────────┐\n",
       "│ Round Number ┆ Home Team       ┆ Away Team    ┆ Predicted Winner ┆ Win Prob ┆ Margin │\n",
       "│ ---          ┆ ---             ┆ ---          ┆ ---              ┆ ---      ┆ ---    │\n",
       "│ i32          ┆ str             ┆ str          ┆ str              ┆ f64      ┆ i32    │\n",
       "╞══════════════╪═════════════════╪══════════════╪══════════════════╪══════════╪════════╡\n",
       "│ 0            ┆ Brisbane Lions  ┆ Geelong Cats ┆ Brisbane Lions   ┆ 94.65    ┆ 35     │\n",
       "│ 0            ┆ Sydney Swans    ┆ Hawthorn     ┆ Sydney Swans     ┆ 75.5     ┆ 32     │\n",
       "│ 0            ┆ Gold Coast Suns ┆ Essendon     ┆ Gold Coast Suns  ┆ 89.22    ┆ 24     │\n",
       "│ 0            ┆ GWS Giants      ┆ Collingwood  ┆ GWS Giants       ┆ 81.49    ┆ 28     │\n",
       "└──────────────┴─────────────────┴──────────────┴──────────────────┴──────────┴────────┘"
      ]
     },
     "execution_count": 21,
     "metadata": {},
     "output_type": "execute_result"
    }
   ],
   "source": [
    "predictionDF"
   ]
  },
  {
   "cell_type": "code",
   "execution_count": 20,
   "metadata": {},
   "outputs": [
    {
     "name": "stdout",
     "output_type": "stream",
     "text": [
      "i Returning data for \"All Rounds, 2025\"\n",
      "v Returning data for \"All Rounds, 2025\" [413ms]\n",
      "\n"
     ]
    }
   ],
   "source": [
    "#Write to folder\n",
    "predictionDF.write_csv(fr'Tips/2025/Round_{getCurrentRoundNumbers()}.csv')"
   ]
  }
 ],
 "metadata": {
  "kernelspec": {
   "display_name": "base",
   "language": "python",
   "name": "python3"
  },
  "language_info": {
   "codemirror_mode": {
    "name": "ipython",
    "version": 3
   },
   "file_extension": ".py",
   "mimetype": "text/x-python",
   "name": "python",
   "nbconvert_exporter": "python",
   "pygments_lexer": "ipython3",
   "version": "3.10.13"
  }
 },
 "nbformat": 4,
 "nbformat_minor": 2
}
