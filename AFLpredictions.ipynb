{
 "cells": [
  {
   "cell_type": "markdown",
   "metadata": {},
   "source": [
    "# AFL Predictions\n",
    "The file we will run to get each rounds predictions!"
   ]
  },
  {
   "cell_type": "code",
   "execution_count": 1,
   "metadata": {},
   "outputs": [
    {
     "name": "stderr",
     "output_type": "stream",
     "text": [
      "/home/erin/Documents/AFL tipping/afl-env/lib/python3.12/site-packages/rpy2/robjects/lib/dplyr.py:27: UserWarning: This was designed against dplyr versions starting with 1.0 but you have 1.1.4\n",
      "  warnings.warn(\n"
     ]
    }
   ],
   "source": [
    "#packages\n",
    "import polars as pl\n",
    "import pickle\n",
    "import numpy as np\n",
    "import pandas as pd\n",
    "#Get Update function\n",
    "from ipynb.fs.defs.AFLupdate import updateData, getCurrentRoundNumbers\n",
    "#Get upcoming fixture\n",
    "from ipynb.fs.defs.AFLfixture import createFixture\n",
    "\n",
    "pl.Config.set_fmt_str_lengths(150);\n",
    "pl.Config.set_tbl_cols(40);\n",
    "pl.Config.set_tbl_rows(50);\n"
   ]
  },
  {
   "cell_type": "code",
   "execution_count": 2,
   "metadata": {},
   "outputs": [
    {
     "name": "stdout",
     "output_type": "stream",
     "text": [
      "ℹ Returning data for \"All Rounds, 2025\"\n",
      "✔ Returning data for \"All Rounds, 2025\" [1.1s]\n",
      "\n",
      "ℹ Returning data for \"All Rounds, 2025\"\n",
      "✔ Returning data for \"All Rounds, 2025\" [433ms]\n",
      "\n",
      "13\n"
     ]
    },
    {
     "name": "stderr",
     "output_type": "stream",
     "text": [
      "/home/erin/Documents/AFL tipping/AFLmodel/AFLupdate.ipynb:357: MapWithoutReturnDtypeWarning: Calling `map_elements` without specifying `return_dtype` can lead to unpredictable results. Specify `return_dtype` to silence this warning.\n",
      "  {\n"
     ]
    },
    {
     "name": "stdout",
     "output_type": "stream",
     "text": [
      "Data Updated for New Round\n"
     ]
    }
   ],
   "source": [
    "#Run updates\n",
    "updateData()"
   ]
  },
  {
   "cell_type": "code",
   "execution_count": 3,
   "metadata": {},
   "outputs": [
    {
     "name": "stdout",
     "output_type": "stream",
     "text": [
      "ℹ Returning data for \"All Rounds, 2025\"\n",
      "✔ Returning data for \"All Rounds, 2025\" [298ms]\n",
      "\n",
      "ℹ Returning data for \"Round 14, 2025\"\n",
      "✔ Returning data for \"Round 14, 2025\" [270ms]\n",
      "\n",
      "ℹ Returning data for \"All Rounds, 2025\"\n",
      "✔ Returning data for \"All Rounds, 2025\" [292ms]\n",
      "\n",
      "ℹ Returning data for \"Round 13, 2025\"\n",
      "✔ Returning data for \"Round 13, 2025\" [298ms]\n",
      "\n",
      "ℹ Returning data for \"All Rounds, 2025\"\n",
      "✔ Returning data for \"All Rounds, 2025\" [364ms]\n",
      "\n",
      "ℹ Returning data for \"All Rounds, 2025\"\n",
      "✔ Returning data for \"All Rounds, 2025\" [343ms]\n",
      "\n",
      "ℹ Returning data for \"All Rounds, 2025\"\n",
      "✔ Returning data for \"All Rounds, 2025\" [294ms]\n",
      "\n",
      "ℹ Fetching match ids\n",
      "✔ Fetching match ids [512ms]\n",
      "\n",
      "ℹ Finding player stats for 216 matches.\n",
      "✔ Finding player stats for 216 matches. [46.1s]\n",
      "\n",
      "ℹ Fetching match ids\n",
      "✔ Fetching match ids [667ms]\n",
      "\n",
      "ℹ Finding player stats for 207 matches.\n",
      "✔ Finding player stats for 207 matches. [29.7s]\n",
      "\n"
     ]
    }
   ],
   "source": [
    "#get the fixture \n",
    "fixture = createFixture()"
   ]
  },
  {
   "cell_type": "code",
   "execution_count": 4,
   "metadata": {},
   "outputs": [],
   "source": [
    "#put everything in order\n",
    "fixtureReady = (fixture\n",
    "    .select('home.bye.flag', 'home.ladder.position', 'home.elo.score', 'home.venue.portion', 'home.day.last.match', 'home.attack.t-1', 'home.attack.t-2',\n",
    "                   'home.attack.t-3', 'home.attack.t-4', 'home.attack.t-5', 'home.defense.t-1', 'home.defense.t-2', 'home.defense.t-3', 'home.defense.t-4', 'home.defense.t-5', 'home.opposition.strength',\n",
    "                  'home.team.playerPoints', 'away.bye.flag', 'away.ladder.position', 'away.elo.score', 'away.venue.portion', 'away.day.last.match', 'away.attack.t-1', 'away.attack.t-2',\n",
    "                   'away.attack.t-3', 'away.attack.t-4', 'away.attack.t-5', 'away.defense.t-1', 'away.defense.t-2', 'away.defense.t-3', 'away.defense.t-4', 'away.defense.t-5', 'away.opposition.strength',\n",
    "                   'away.team.playerPoints')   \n",
    "    .unique(maintain_order=True)         \n",
    "    )\n",
    "#get list of games for presentation of fixture predictions\n",
    "predictionReady = (fixture\n",
    "                    .select('home.team.name', 'away.team.name'))"
   ]
  },
  {
   "cell_type": "code",
   "execution_count": 5,
   "metadata": {},
   "outputs": [
    {
     "name": "stdout",
     "output_type": "stream",
     "text": [
      "ℹ Returning data for \"All Rounds, 2025\"\n",
      "✔ Returning data for \"All Rounds, 2025\" [224ms]\n",
      "\n"
     ]
    }
   ],
   "source": [
    "#if fixture exists i.e no issues have been introduced, go ahead and use our models to get our predictions\n",
    "modelWin = pickle.load(open('Data/winner.sav', 'rb'))\n",
    "\n",
    "predictWinner = modelWin.predict(fixtureReady).tolist()\n",
    "probsWinner = modelWin.predict_proba(fixtureReady).tolist()\n",
    "\n",
    "#create the winner portion of the prediction df\n",
    "predictionDF = (predictionReady\n",
    "                 #place in results\n",
    "                 .with_columns(pl.Series(predictWinner).alias('Predictions'),\n",
    "                               pl.Series(probsWinner).alias('Probs'))\n",
    "                 #Winner probs\n",
    "                 .with_columns(((pl.col('Probs').list.get(pl.col('Predictions')))*100).round(2).alias('Win Prob'))\n",
    "                 .with_columns(pl.when(pl.col('Predictions') == 1).then(pl.col('home.team.name')).otherwise(pl.col('away.team.name')).alias('Predicted Winner'))\n",
    "                 #Add current round\n",
    "                 .with_columns(pl.lit(getCurrentRoundNumbers()).alias('Round Number'))\n",
    "                 #rename\n",
    "                 .rename({'home.team.name' : 'Home Team',\n",
    "                          'away.team.name' : 'Away Team'})\n",
    "                 #keep only wants required\n",
    "                 .select('Round Number', 'Home Team', 'Away Team', 'Predicted Winner', 'Win Prob')\n",
    "                )\n"
   ]
  },
  {
   "cell_type": "code",
   "execution_count": 6,
   "metadata": {},
   "outputs": [],
   "source": [
    "#Get the margin\n",
    "#load the model in\n",
    "model = pickle.load(open('Data/margin.sav', 'rb'))\n",
    "\n",
    "#And the win probablities to fixture\n",
    "fixtureReady[['homeProb', 'awayProb']] = probsWinner\n",
    "#predict the fixture\n",
    "predictMargin = model.predict(fixtureReady).tolist()\n",
    "\n",
    "#Add to prediction df\n",
    "predictionDF = (predictionDF.with_columns(pl.Series(predictMargin).round(0).cast(pl.Int32).alias('Margin')))\n"
   ]
  },
  {
   "cell_type": "code",
   "execution_count": 7,
   "metadata": {},
   "outputs": [
    {
     "data": {
      "text/html": [
       "<div><style>\n",
       ".dataframe > thead > tr,\n",
       ".dataframe > tbody > tr {\n",
       "  text-align: right;\n",
       "  white-space: pre-wrap;\n",
       "}\n",
       "</style>\n",
       "<small>shape: (7, 6)</small><table border=\"1\" class=\"dataframe\"><thead><tr><th>Round Number</th><th>Home Team</th><th>Away Team</th><th>Predicted Winner</th><th>Win Prob</th><th>Margin</th></tr><tr><td>i32</td><td>str</td><td>str</td><td>str</td><td>f64</td><td>i32</td></tr></thead><tbody><tr><td>14</td><td>&quot;St Kilda&quot;</td><td>&quot;Western Bulldogs&quot;</td><td>&quot;St Kilda&quot;</td><td>60.2</td><td>21</td></tr><tr><td>14</td><td>&quot;Hawthorn&quot;</td><td>&quot;Adelaide Crows&quot;</td><td>&quot;Hawthorn&quot;</td><td>50.98</td><td>25</td></tr><tr><td>14</td><td>&quot;Brisbane Lions&quot;</td><td>&quot;GWS Giants&quot;</td><td>&quot;Brisbane Lions&quot;</td><td>72.88</td><td>25</td></tr><tr><td>14</td><td>&quot;Essendon&quot;</td><td>&quot;Geelong Cats&quot;</td><td>&quot;Essendon&quot;</td><td>51.5</td><td>21</td></tr><tr><td>14</td><td>&quot;North Melbourne&quot;</td><td>&quot;Fremantle&quot;</td><td>&quot;Fremantle&quot;</td><td>61.1</td><td>21</td></tr><tr><td>14</td><td>&quot;Port Adelaide&quot;</td><td>&quot;Melbourne&quot;</td><td>&quot;Port Adelaide&quot;</td><td>55.4</td><td>26</td></tr><tr><td>14</td><td>&quot;West Coast Eagles&quot;</td><td>&quot;Carlton&quot;</td><td>&quot;West Coast Eagles&quot;</td><td>52.0</td><td>21</td></tr></tbody></table></div>"
      ],
      "text/plain": [
       "shape: (7, 6)\n",
       "┌──────────────┬───────────────────┬──────────────────┬───────────────────┬──────────┬────────┐\n",
       "│ Round Number ┆ Home Team         ┆ Away Team        ┆ Predicted Winner  ┆ Win Prob ┆ Margin │\n",
       "│ ---          ┆ ---               ┆ ---              ┆ ---               ┆ ---      ┆ ---    │\n",
       "│ i32          ┆ str               ┆ str              ┆ str               ┆ f64      ┆ i32    │\n",
       "╞══════════════╪═══════════════════╪══════════════════╪═══════════════════╪══════════╪════════╡\n",
       "│ 14           ┆ St Kilda          ┆ Western Bulldogs ┆ St Kilda          ┆ 60.2     ┆ 21     │\n",
       "│ 14           ┆ Hawthorn          ┆ Adelaide Crows   ┆ Hawthorn          ┆ 50.98    ┆ 25     │\n",
       "│ 14           ┆ Brisbane Lions    ┆ GWS Giants       ┆ Brisbane Lions    ┆ 72.88    ┆ 25     │\n",
       "│ 14           ┆ Essendon          ┆ Geelong Cats     ┆ Essendon          ┆ 51.5     ┆ 21     │\n",
       "│ 14           ┆ North Melbourne   ┆ Fremantle        ┆ Fremantle         ┆ 61.1     ┆ 21     │\n",
       "│ 14           ┆ Port Adelaide     ┆ Melbourne        ┆ Port Adelaide     ┆ 55.4     ┆ 26     │\n",
       "│ 14           ┆ West Coast Eagles ┆ Carlton          ┆ West Coast Eagles ┆ 52.0     ┆ 21     │\n",
       "└──────────────┴───────────────────┴──────────────────┴───────────────────┴──────────┴────────┘"
      ]
     },
     "execution_count": 7,
     "metadata": {},
     "output_type": "execute_result"
    }
   ],
   "source": [
    "predictionDF"
   ]
  },
  {
   "cell_type": "code",
   "execution_count": 8,
   "metadata": {},
   "outputs": [
    {
     "name": "stdout",
     "output_type": "stream",
     "text": [
      "ℹ Returning data for \"All Rounds, 2025\"\n",
      "✔ Returning data for \"All Rounds, 2025\" [297ms]\n",
      "\n"
     ]
    }
   ],
   "source": [
    "#Write to folder\n",
    "#Individual round tips\n",
    "predictionDF.write_csv(fr'Tips/2025/Round_{getCurrentRoundNumbers()}.csv')\n",
    "\n",
    "#Append to all_tips\n",
    "with open(\"Tips/2025/All_Tips.csv\", mode=\"a\") as f:\n",
    "   predictionDF.write_csv(f, include_header=False)"
   ]
  },
  {
   "cell_type": "code",
   "execution_count": null,
   "metadata": {},
   "outputs": [],
   "source": []
  }
 ],
 "metadata": {
  "kernelspec": {
   "display_name": "afl-env",
   "language": "python",
   "name": "python3"
  },
  "language_info": {
   "codemirror_mode": {
    "name": "ipython",
    "version": 3
   },
   "file_extension": ".py",
   "mimetype": "text/x-python",
   "name": "python",
   "nbconvert_exporter": "python",
   "pygments_lexer": "ipython3",
   "version": "3.12.3"
  }
 },
 "nbformat": 4,
 "nbformat_minor": 2
}
