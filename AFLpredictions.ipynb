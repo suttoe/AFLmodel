{
 "cells": [
  {
   "cell_type": "markdown",
   "metadata": {},
   "source": [
    "# AFL Predictions\n",
    "The file we will run to get each rounds predictions!"
   ]
  },
  {
   "cell_type": "code",
   "execution_count": 17,
   "metadata": {},
   "outputs": [],
   "source": [
    "#packages\n",
    "import polars as pl\n",
    "import pickle\n",
    "import numpy as np\n",
    "import pandas as pd\n",
    "#Get Update function\n",
    "from ipynb.fs.defs.AFLupdate import updateData, getCurrentRoundNumbers\n",
    "#Get upcoming fixture\n",
    "from ipynb.fs.defs.AFLfixture import createFixture\n",
    "\n",
    "pl.Config.set_fmt_str_lengths(150);\n",
    "pl.Config.set_tbl_cols(40);\n",
    "pl.Config.set_tbl_rows(50);\n"
   ]
  },
  {
   "cell_type": "code",
   "execution_count": 18,
   "metadata": {},
   "outputs": [
    {
     "name": "stdout",
     "output_type": "stream",
     "text": [
      "ℹ Returning data for \"All Rounds, 2025\"\n",
      "✔ Returning data for \"All Rounds, 2025\" [268ms]\n",
      "\n",
      "No Update\n",
      "No update Required\n"
     ]
    }
   ],
   "source": [
    "#Run updates\n",
    "updateData()"
   ]
  },
  {
   "cell_type": "code",
   "execution_count": 19,
   "metadata": {},
   "outputs": [
    {
     "name": "stdout",
     "output_type": "stream",
     "text": [
      "ℹ Returning data for \"All Rounds, 2025\"\n",
      "✔ Returning data for \"All Rounds, 2025\" [221ms]\n",
      "\n",
      "ℹ Returning data for \"Round 1, 2025\"\n",
      "✔ Returning data for \"Round 1, 2025\" [202ms]\n",
      "\n",
      "ℹ Returning data for \"All Rounds, 2025\"\n",
      "✔ Returning data for \"All Rounds, 2025\" [257ms]\n",
      "\n",
      "ℹ Returning data for \"Round 0, 2025\"\n",
      "✔ Returning data for \"Round 0, 2025\" [195ms]\n",
      "\n",
      "ℹ Returning data for \"All Rounds, 2025\"\n",
      "✔ Returning data for \"All Rounds, 2025\" [503ms]\n",
      "\n",
      "ℹ Returning data for \"All Rounds, 2025\"\n",
      "✔ Returning data for \"All Rounds, 2025\" [273ms]\n",
      "\n",
      "ℹ Returning data for \"All Rounds, 2025\"\n",
      "✔ Returning data for \"All Rounds, 2025\" [339ms]\n",
      "\n",
      "ℹ Fetching match ids\n",
      "✔ Fetching match ids [382ms]\n",
      "\n",
      "ℹ Finding player stats for 216 matches.\n",
      "✔ Finding player stats for 216 matches. [23.6s]\n",
      "\n",
      "ℹ Fetching match ids\n",
      "✔ Fetching match ids [398ms]\n",
      "\n",
      "ℹ Finding player stats for 207 matches.\n",
      "✔ Finding player stats for 207 matches. [22s]\n",
      "\n"
     ]
    }
   ],
   "source": [
    "#get the fixture \n",
    "fixture, predictionDF = createFixture()"
   ]
  },
  {
   "cell_type": "code",
   "execution_count": 20,
   "metadata": {},
   "outputs": [
    {
     "name": "stdout",
     "output_type": "stream",
     "text": [
      "ℹ Returning data for \"All Rounds, 2025\"\n",
      "✔ Returning data for \"All Rounds, 2025\" [260ms]\n",
      "\n"
     ]
    }
   ],
   "source": [
    "#if fixture exists i.e no issues have been introduced, go ahead and use our models to get our predictions\n",
    "modelWin = pickle.load(open('Data/winner.sav', 'rb'))\n",
    "\n",
    "predictWinner = modelWin.predict(fixture).tolist()\n",
    "probsWinner = modelWin.predict_proba(fixture).tolist()\n",
    "\n",
    "#create the winner portion of the prediction df\n",
    "predictionDF = (predictionDF\n",
    "                 #place in results\n",
    "                 .with_columns(pl.Series(predictWinner).alias('Predictions'),\n",
    "                               pl.Series(probsWinner).alias('Probs'))\n",
    "                 #Winner probs\n",
    "                 .with_columns(((pl.col('Probs').list.get(pl.col('Predictions')))*100).round(2).alias('Win Prob'))\n",
    "                 .with_columns(pl.when(pl.col('Predictions') == 1).then(pl.col('home.team.name')).otherwise(pl.col('away.team.name')).alias('Predicted Winner'))\n",
    "                 #Add current round\n",
    "                 .with_columns(pl.lit(getCurrentRoundNumbers()).alias('Round Number'))\n",
    "                 #rename\n",
    "                 .rename({'home.team.name' : 'Home Team',\n",
    "                          'away.team.name' : 'Away Team'})\n",
    "                 #keep only wants required\n",
    "                 .select('Round Number', 'Home Team', 'Away Team', 'Predicted Winner', 'Win Prob')\n",
    "                )\n"
   ]
  },
  {
   "cell_type": "code",
   "execution_count": 21,
   "metadata": {},
   "outputs": [],
   "source": [
    "#Get the margin\n",
    "#load the model in\n",
    "model = pickle.load(open('Data/margin.sav', 'rb'))\n",
    "\n",
    "#And the win probablities to fixture\n",
    "fixture[['homeProb', 'awayProb']] = probsWinner\n",
    "#predict the fixture\n",
    "predictMargin = model.predict(fixture).tolist()\n",
    "\n",
    "#Add to prediction df\n",
    "predictionDF = (predictionDF.with_columns(pl.Series(predictMargin).round(0).cast(pl.Int32).alias('Margin')))\n"
   ]
  },
  {
   "cell_type": "code",
   "execution_count": 22,
   "metadata": {},
   "outputs": [
    {
     "data": {
      "text/html": [
       "<div><style>\n",
       ".dataframe > thead > tr,\n",
       ".dataframe > tbody > tr {\n",
       "  text-align: right;\n",
       "  white-space: pre-wrap;\n",
       "}\n",
       "</style>\n",
       "<small>shape: (9, 6)</small><table border=\"1\" class=\"dataframe\"><thead><tr><th>Round Number</th><th>Home Team</th><th>Away Team</th><th>Predicted Winner</th><th>Win Prob</th><th>Margin</th></tr><tr><td>i32</td><td>str</td><td>str</td><td>str</td><td>f64</td><td>i32</td></tr></thead><tbody><tr><td>1</td><td>&quot;Richmond&quot;</td><td>&quot;Carlton&quot;</td><td>&quot;Richmond&quot;</td><td>66.49</td><td>28</td></tr><tr><td>1</td><td>&quot;Hawthorn&quot;</td><td>&quot;Essendon&quot;</td><td>&quot;Hawthorn&quot;</td><td>70.7</td><td>41</td></tr><tr><td>1</td><td>&quot;Geelong Cats&quot;</td><td>&quot;Fremantle&quot;</td><td>&quot;Geelong Cats&quot;</td><td>61.99</td><td>39</td></tr><tr><td>1</td><td>&quot;Sydney Swans&quot;</td><td>&quot;Brisbane Lions&quot;</td><td>&quot;Sydney Swans&quot;</td><td>68.32</td><td>26</td></tr><tr><td>1</td><td>&quot;Western Bulldogs&quot;</td><td>&quot;North Melbourne&quot;</td><td>&quot;North Melbourne&quot;</td><td>62.71</td><td>27</td></tr><tr><td>1</td><td>&quot;Collingwood&quot;</td><td>&quot;Port Adelaide&quot;</td><td>&quot;Collingwood&quot;</td><td>50.39</td><td>28</td></tr><tr><td>1</td><td>&quot;Adelaide Crows&quot;</td><td>&quot;St Kilda&quot;</td><td>&quot;Adelaide Crows&quot;</td><td>59.68</td><td>28</td></tr><tr><td>1</td><td>&quot;Melbourne&quot;</td><td>&quot;GWS Giants&quot;</td><td>&quot;GWS Giants&quot;</td><td>51.24</td><td>10</td></tr><tr><td>1</td><td>&quot;West Coast Eagles&quot;</td><td>&quot;Gold Coast Suns&quot;</td><td>&quot;West Coast Eagles&quot;</td><td>51.94</td><td>26</td></tr></tbody></table></div>"
      ],
      "text/plain": [
       "shape: (9, 6)\n",
       "┌──────────────┬───────────────────┬─────────────────┬───────────────────┬──────────┬────────┐\n",
       "│ Round Number ┆ Home Team         ┆ Away Team       ┆ Predicted Winner  ┆ Win Prob ┆ Margin │\n",
       "│ ---          ┆ ---               ┆ ---             ┆ ---               ┆ ---      ┆ ---    │\n",
       "│ i32          ┆ str               ┆ str             ┆ str               ┆ f64      ┆ i32    │\n",
       "╞══════════════╪═══════════════════╪═════════════════╪═══════════════════╪══════════╪════════╡\n",
       "│ 1            ┆ Richmond          ┆ Carlton         ┆ Richmond          ┆ 66.49    ┆ 28     │\n",
       "│ 1            ┆ Hawthorn          ┆ Essendon        ┆ Hawthorn          ┆ 70.7     ┆ 41     │\n",
       "│ 1            ┆ Geelong Cats      ┆ Fremantle       ┆ Geelong Cats      ┆ 61.99    ┆ 39     │\n",
       "│ 1            ┆ Sydney Swans      ┆ Brisbane Lions  ┆ Sydney Swans      ┆ 68.32    ┆ 26     │\n",
       "│ 1            ┆ Western Bulldogs  ┆ North Melbourne ┆ North Melbourne   ┆ 62.71    ┆ 27     │\n",
       "│ 1            ┆ Collingwood       ┆ Port Adelaide   ┆ Collingwood       ┆ 50.39    ┆ 28     │\n",
       "│ 1            ┆ Adelaide Crows    ┆ St Kilda        ┆ Adelaide Crows    ┆ 59.68    ┆ 28     │\n",
       "│ 1            ┆ Melbourne         ┆ GWS Giants      ┆ GWS Giants        ┆ 51.24    ┆ 10     │\n",
       "│ 1            ┆ West Coast Eagles ┆ Gold Coast Suns ┆ West Coast Eagles ┆ 51.94    ┆ 26     │\n",
       "└──────────────┴───────────────────┴─────────────────┴───────────────────┴──────────┴────────┘"
      ]
     },
     "execution_count": 22,
     "metadata": {},
     "output_type": "execute_result"
    }
   ],
   "source": [
    "predictionDF"
   ]
  },
  {
   "cell_type": "code",
   "execution_count": null,
   "metadata": {},
   "outputs": [
    {
     "name": "stdout",
     "output_type": "stream",
     "text": [
      "ℹ Returning data for \"All Rounds, 2025\"\n",
      "✔ Returning data for \"All Rounds, 2025\" [404ms]\n",
      "\n"
     ]
    }
   ],
   "source": [
    "#Write to folder\n",
    "#Individual round tips\n",
    "predictionDF.write_csv(fr'Tips/2025/Round_{getCurrentRoundNumbers()}.csv')\n",
    "\n",
    "#Append to all_tips\n",
    "with open(\"Tips/2025/All_Tips.2025.csv\", mode=\"a\") as f:\n",
    "   predictionDF.write_csv(f, include_header=False)"
   ]
  }
 ],
 "metadata": {
  "kernelspec": {
   "display_name": "afl-env",
   "language": "python",
   "name": "python3"
  },
  "language_info": {
   "codemirror_mode": {
    "name": "ipython",
    "version": 3
   },
   "file_extension": ".py",
   "mimetype": "text/x-python",
   "name": "python",
   "nbconvert_exporter": "python",
   "pygments_lexer": "ipython3",
   "version": "3.12.3"
  }
 },
 "nbformat": 4,
 "nbformat_minor": 2
}
